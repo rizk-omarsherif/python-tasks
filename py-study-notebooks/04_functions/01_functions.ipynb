{
 "cells": [
  {
   "cell_type": "markdown",
   "id": "7e7b7eeb-e29c-4364-b23c-e989c802f17c",
   "metadata": {},
   "source": [
    "# Exercise 1: Functions in Python"
   ]
  },
  {
   "cell_type": "markdown",
   "id": "54b22a72-1758-4ac8-9a6f-2936c5a7b03b",
   "metadata": {},
   "source": [
    "## Table of Contents\n",
    "\n",
    "1. **Introduction**\n",
    "   - Overview of Functions\n",
    "   - Function Syntax\n",
    "<p></p>\n",
    "\n",
    "2. **Normal Functions**\n",
    "   - 2.1 Void Functions\n",
    "   - 2.2 Functions with Return Values\n",
    "<p></p>\n",
    "\n",
    "3. **Function Parameters and Arguments**\n",
    "   - 3.1 Positional Parameters\n",
    "   - 3.2 Keyword Arguments\n",
    "   - 3.3 Default Parameters\n",
    "   - 3.4 Variable-Length Arguments\n",
    "     - 3.4.1 *args (Tuple)\n",
    "     - 3.4.2 **kwargs (Dictionary)\n",
    "<p></p>\n",
    "\n",
    "4. **Advanced Function Concepts**\n",
    "   - 4.1 Lambda Functions\n",
    "   - 4.2 Nested Functions\n",
    "   - 4.3 Higher-Order Functions\n",
    "   - 4.4 Function Annotations\n",
    "<p></p>\n",
    "\n",
    "5. **Examples and Use Cases**\n",
    "<p></p>"
   ]
  },
  {
   "cell_type": "markdown",
   "id": "2a51a41f-8b73-4291-8117-9ece4c2e5575",
   "metadata": {},
   "source": [
    "---"
   ]
  },
  {
   "cell_type": "markdown",
   "id": "6224f7f0-fd79-4b92-bd30-01176c2d393b",
   "metadata": {},
   "source": [
    "### 1- Introduction\n",
    "\n",
    "Functions are a fundamental concept in Python, used to encapsulate reusable blocks of code. This section covers function types, parameters, and advanced topics."
   ]
  },
  {
   "cell_type": "markdown",
   "id": "3734a825-23b6-4c6d-99f9-94aea79f6f70",
   "metadata": {},
   "source": [
    "---"
   ]
  },
  {
   "cell_type": "markdown",
   "id": "d7430de7-5845-4a4f-a688-3f2176b07972",
   "metadata": {},
   "source": [
    "### 2- Normal Functions"
   ]
  },
  {
   "cell_type": "markdown",
   "id": "31390210-141a-45df-8df2-b2b15ee312cc",
   "metadata": {},
   "source": [
    "#### 2.1 Void Functions\n",
    "\n",
    "Void functions perform an action but do not return a value. They use the `return` statement without a value or simply end without `return`."
   ]
  },
  {
   "cell_type": "code",
   "execution_count": 1,
   "id": "b4ea9893-7977-45c1-a2d4-6373d9d59bdc",
   "metadata": {},
   "outputs": [
    {
     "name": "stdout",
     "output_type": "stream",
     "text": [
      "Hello, Alice!\n"
     ]
    }
   ],
   "source": [
    "def greet(name):\n",
    "    print(f\"Hello, {name}!\")\n",
    "\n",
    "greet(\"Alice\")\n",
    "# Output: Hello, Alice!"
   ]
  },
  {
   "cell_type": "markdown",
   "id": "01676443-aa64-48a1-87e7-a62f236ef744",
   "metadata": {},
   "source": [
    "#### 2.2 Functions with Return Values\n",
    "\n",
    "Functions that return a value use the `return` statement to pass a result back to the caller."
   ]
  },
  {
   "cell_type": "code",
   "execution_count": 2,
   "id": "8425a3f4-e60f-4a25-85e8-7f01f48726c2",
   "metadata": {},
   "outputs": [
    {
     "name": "stdout",
     "output_type": "stream",
     "text": [
      "7\n"
     ]
    }
   ],
   "source": [
    "def add(a, b):\n",
    "    return a + b\n",
    "\n",
    "result = add(3, 4)\n",
    "print(result)\n",
    "# Output: 7"
   ]
  },
  {
   "cell_type": "markdown",
   "id": "594a82c2-61fb-4354-9471-ebe1620661bd",
   "metadata": {},
   "source": [
    "---"
   ]
  },
  {
   "cell_type": "markdown",
   "id": "4022dd7d-05a0-4b9e-84fc-f60d0cc42211",
   "metadata": {},
   "source": [
    "### 3- Function Parameters and Arguments"
   ]
  },
  {
   "cell_type": "markdown",
   "id": "f132bf63-d321-458b-bfae-dee4a515f5b3",
   "metadata": {},
   "source": [
    "#### 3.1 Positional Parameters\n",
    "\n",
    "Positional parameters are specified by their position in the function call."
   ]
  },
  {
   "cell_type": "code",
   "execution_count": 3,
   "id": "8b45b184-5fd4-40f0-b485-4b25d702262d",
   "metadata": {},
   "outputs": [
    {
     "name": "stdout",
     "output_type": "stream",
     "text": [
      "30\n"
     ]
    }
   ],
   "source": [
    "def multiply(x, y):\n",
    "    return x * y\n",
    "\n",
    "print(multiply(5, 6))\n",
    "# Output: 30"
   ]
  },
  {
   "cell_type": "markdown",
   "id": "07506af8-45b6-422b-aff7-74d0d347d19b",
   "metadata": {},
   "source": [
    "#### 3.2 Keyword Arguments\n",
    "\n",
    "Keyword arguments are specified by name, making the function call more readable."
   ]
  },
  {
   "cell_type": "code",
   "execution_count": 4,
   "id": "e50d8847-7e52-4774-b9b9-1d2b0953364a",
   "metadata": {},
   "outputs": [
    {
     "name": "stdout",
     "output_type": "stream",
     "text": [
      "Hello, Alice!\n"
     ]
    }
   ],
   "source": [
    "def greet(name, greeting):\n",
    "    print(f\"{greeting}, {name}!\")\n",
    "\n",
    "greet(name=\"Alice\", greeting=\"Hello\")\n",
    "# Output: Hello, Alice!"
   ]
  },
  {
   "cell_type": "markdown",
   "id": "8ad34280-7dcf-4d2b-af3d-aba8a51a1971",
   "metadata": {},
   "source": [
    "#### 3.3 Default Parameters\n",
    "\n",
    "Default parameters allow function arguments to have default values if none are provided."
   ]
  },
  {
   "cell_type": "code",
   "execution_count": 5,
   "id": "53e23330-949b-440a-9b34-f1d8f1525175",
   "metadata": {},
   "outputs": [
    {
     "name": "stdout",
     "output_type": "stream",
     "text": [
      "Hello, Alice!\n",
      "Hi, Bob!\n"
     ]
    }
   ],
   "source": [
    "def greet(name, greeting=\"Hello\"):\n",
    "    print(f\"{greeting}, {name}!\")\n",
    "\n",
    "greet(\"Alice\")\n",
    "# Output: Hello, Alice!\n",
    "\n",
    "greet(\"Bob\", \"Hi\")\n",
    "# Output: Hi, Bob!"
   ]
  },
  {
   "cell_type": "markdown",
   "id": "14c4b66f-570a-4466-9728-93ae0708945d",
   "metadata": {},
   "source": [
    "#### 3.4 Variable-Length Arguments"
   ]
  },
  {
   "cell_type": "markdown",
   "id": "300e8eb1-259c-4c06-93e3-7fabedd7ece6",
   "metadata": {},
   "source": [
    "##### 3.4.1 `*args` (Tuple)\n",
    "\n",
    "`*args` allows a function to accept an arbitrary number of positional arguments."
   ]
  },
  {
   "cell_type": "code",
   "execution_count": 6,
   "id": "e9776efa-c427-4c35-9f5a-d6d1a8da9ab4",
   "metadata": {},
   "outputs": [
    {
     "name": "stdout",
     "output_type": "stream",
     "text": [
      "1\n",
      "2\n",
      "3\n",
      "a\n",
      "b\n"
     ]
    }
   ],
   "source": [
    "def print_args(*args):\n",
    "    for arg in args:\n",
    "        print(arg)\n",
    "\n",
    "print_args(1, 2, 3, \"a\", \"b\")\n",
    "# Output:\n",
    "# 1\n",
    "# 2\n",
    "# 3\n",
    "# a\n",
    "# b"
   ]
  },
  {
   "cell_type": "markdown",
   "id": "07591855-a6e3-4ec9-a20b-57899e8c0f1d",
   "metadata": {},
   "source": [
    "##### 3.4.2 `**kwargs` (Dictionary)\n",
    "\n",
    "`**kwargs` allows a function to accept an arbitrary number of keyword arguments."
   ]
  },
  {
   "cell_type": "code",
   "execution_count": 7,
   "id": "b0b18cfb-e6ea-4aa2-8aaf-2dd021e0c3c2",
   "metadata": {},
   "outputs": [
    {
     "name": "stdout",
     "output_type": "stream",
     "text": [
      "name: Alice\n",
      "age: 30\n",
      "city: Wonderland\n"
     ]
    }
   ],
   "source": [
    "def print_kwargs(**kwargs):\n",
    "    for key, value in kwargs.items():\n",
    "        print(f\"{key}: {value}\")\n",
    "\n",
    "print_kwargs(name=\"Alice\", age=30, city=\"Wonderland\")\n",
    "# Output:\n",
    "# name: Alice\n",
    "# age: 30\n",
    "# city: Wonderland"
   ]
  },
  {
   "cell_type": "markdown",
   "id": "503acb29-3e81-482a-9a12-b3af6eb5d118",
   "metadata": {},
   "source": [
    "---"
   ]
  },
  {
   "cell_type": "markdown",
   "id": "760c8b5c-7c25-40aa-a725-e694be7b3efb",
   "metadata": {},
   "source": [
    "### 4- Advanced Function Concepts"
   ]
  },
  {
   "cell_type": "markdown",
   "id": "fa550634-e4d3-43fd-93e3-c538e23b39d6",
   "metadata": {},
   "source": [
    "#### 4.1 Lambda Functions\n",
    "\n",
    "Lambda functions are anonymous functions defined with the `lambda` keyword."
   ]
  },
  {
   "cell_type": "code",
   "execution_count": 8,
   "id": "dd217e09-ead5-45f8-9cb9-4fdc58b00bcd",
   "metadata": {},
   "outputs": [
    {
     "name": "stdout",
     "output_type": "stream",
     "text": [
      "12\n"
     ]
    }
   ],
   "source": [
    "add = lambda x, y: x + y\n",
    "print(add(5, 7))\n",
    "# Output: 12"
   ]
  },
  {
   "cell_type": "markdown",
   "id": "59707e60-5cd6-4887-9f34-a83b72214901",
   "metadata": {},
   "source": [
    "#### 4.2 Nested Functions\n",
    "\n",
    "Functions can be defined inside other functions, known as nested functions."
   ]
  },
  {
   "cell_type": "code",
   "execution_count": 11,
   "id": "a0b7736e-dbfe-431e-9036-6d2026553909",
   "metadata": {},
   "outputs": [
    {
     "name": "stdout",
     "output_type": "stream",
     "text": [
      "12\n"
     ]
    }
   ],
   "source": [
    "def outer_function(x):\n",
    "    def inner_function(y):\n",
    "        return y + 1\n",
    "    return inner_function(x) * 2\n",
    "\n",
    "print(outer_function(5))\n",
    "# Output: 12"
   ]
  },
  {
   "cell_type": "markdown",
   "id": "6aba4778-06fc-4a59-80ec-2b0486a9dc47",
   "metadata": {},
   "source": [
    "#### 4.3 Higher-Order Functions\n",
    "\n",
    "Higher-order functions take other functions as arguments or return them."
   ]
  },
  {
   "cell_type": "code",
   "execution_count": 10,
   "id": "fda95895-58c0-4135-b609-fbcce1dde37b",
   "metadata": {},
   "outputs": [
    {
     "name": "stdout",
     "output_type": "stream",
     "text": [
      "25\n"
     ]
    }
   ],
   "source": [
    "def apply_function(func, value):\n",
    "    return func(value)\n",
    "\n",
    "result = apply_function(lambda x: x**2, 5)\n",
    "print(result)\n",
    "# Output: 25"
   ]
  },
  {
   "cell_type": "markdown",
   "id": "a3760167-8fbc-4157-86be-17ad2a3f1030",
   "metadata": {},
   "source": [
    "#### 4.4 Function Annotations\n",
    "\n",
    "Function annotations provide a way to attach metadata to function arguments and return values."
   ]
  },
  {
   "cell_type": "code",
   "execution_count": 12,
   "id": "7eb1fce4-fbf9-45b6-bfe7-3fab32ea63ad",
   "metadata": {},
   "outputs": [
    {
     "name": "stdout",
     "output_type": "stream",
     "text": [
      "5.0\n"
     ]
    }
   ],
   "source": [
    "def divide(x: int, y: int) -> float:\n",
    "    return x / y\n",
    "\n",
    "print(divide(10, 2))\n",
    "# Output: 5.0"
   ]
  },
  {
   "cell_type": "markdown",
   "id": "5a222c7a-2ffa-4a46-aff6-6df1bf4fd84f",
   "metadata": {},
   "source": [
    "---"
   ]
  },
  {
   "cell_type": "markdown",
   "id": "911ea0d5-398d-49de-9740-53122a710939",
   "metadata": {},
   "source": [
    "### 5- Examples and Use Cases"
   ]
  },
  {
   "cell_type": "markdown",
   "id": "9a747c14-b0db-4af0-98a1-81f97823f5aa",
   "metadata": {},
   "source": [
    "#### Example 1: Function with Default and Variable-Length Arguments\n",
    "\n",
    "A function using default parameters and `*args`."
   ]
  },
  {
   "cell_type": "code",
   "execution_count": 13,
   "id": "743b173b-372f-42ad-a589-bdcbf382dbb4",
   "metadata": {},
   "outputs": [
    {
     "name": "stdout",
     "output_type": "stream",
     "text": [
      "['Hi, Alice!', 'Hi, Bob!', 'Hi, Charlie!']\n"
     ]
    }
   ],
   "source": [
    "def make_message(greeting=\"Hello\", *names):\n",
    "    return [f\"{greeting}, {name}!\" for name in names]\n",
    "\n",
    "print(make_message(\"Hi\", \"Alice\", \"Bob\", \"Charlie\"))\n",
    "# Output: ['Hi, Alice!', 'Hi, Bob!', 'Hi, Charlie!']"
   ]
  },
  {
   "cell_type": "markdown",
   "id": "cb8270ee-e93a-4ae5-8ce7-a3f08b710327",
   "metadata": {},
   "source": [
    "#### Example 2: Using `**kwargs` for Flexible Functions\n",
    "\n",
    "A function that takes arbitrary keyword arguments."
   ]
  },
  {
   "cell_type": "code",
   "execution_count": 14,
   "id": "ea50d220-4810-4a51-80cc-f1023fa0b2c3",
   "metadata": {},
   "outputs": [
    {
     "name": "stdout",
     "output_type": "stream",
     "text": [
      "Person Description:\n",
      "name: Alice\n",
      "age: 30\n",
      "occupation: Engineer\n",
      "\n"
     ]
    }
   ],
   "source": [
    "def describe_person(**kwargs):\n",
    "    description = \"Person Description:\\n\"\n",
    "    for key, value in kwargs.items():\n",
    "        description += f\"{key}: {value}\\n\"\n",
    "    return description\n",
    "\n",
    "print(describe_person(name=\"Alice\", age=30, occupation=\"Engineer\"))\n",
    "# Output:\n",
    "# Person Description:\n",
    "# name: Alice\n",
    "# age: 30\n",
    "# occupation: Engineer"
   ]
  },
  {
   "cell_type": "code",
   "execution_count": null,
   "id": "29b31643-445e-40eb-90b8-06f4b319c80a",
   "metadata": {},
   "outputs": [],
   "source": []
  }
 ],
 "metadata": {
  "kernelspec": {
   "display_name": "Python 3 (ipykernel)",
   "language": "python",
   "name": "python3"
  },
  "language_info": {
   "codemirror_mode": {
    "name": "ipython",
    "version": 3
   },
   "file_extension": ".py",
   "mimetype": "text/x-python",
   "name": "python",
   "nbconvert_exporter": "python",
   "pygments_lexer": "ipython3",
   "version": "3.12.3"
  }
 },
 "nbformat": 4,
 "nbformat_minor": 5
}
