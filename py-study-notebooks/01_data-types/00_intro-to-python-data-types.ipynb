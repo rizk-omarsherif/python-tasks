{
 "cells": [
  {
   "cell_type": "markdown",
   "id": "9d7b8c31-cf17-45d2-80e5-d578044442bc",
   "metadata": {},
   "source": [
    "# Exercise 0: Introduction to Python Data Types\n",
    "## General Notes:\n",
    "\n",
    "- In Python, all data types are implemented as classes.\n",
    "- Each data type comes with its own unique characteristics and associated methods.\n",
    "- Python has no command for declaring a variable. A variable is created the moment you first assign a value to it.\n",
    "---"
   ]
  },
  {
   "cell_type": "markdown",
   "id": "937288b1-c761-4ef3-9792-fce221d40591",
   "metadata": {},
   "source": [
    "### Statically vs Dynamically Typed Languages\n",
    "\n",
    "#### Statically Typed Languages\n",
    "- Type of a variable is known at compile time.\n",
    "- **Implication**: The programmer needs to specify the type of each variable.\n",
    "- **Examples**: C and C++.\n",
    "\n",
    "**Example in C**\n",
    "```c\n",
    "#include <stdio.h>\n",
    "\n",
    "int main()\n",
    "{\n",
    "    int num = 10; // 'int' specifies the type of the variable 'num'\n",
    "    printf(\"The number is %d\\n\", num);\n",
    "    return 0;\n",
    "}\n",
    "```\n",
    "#### Dynamically Typed Languages\n",
    "- Type is associated with run-time values, not named variables/fields/etc.\n",
    "- **Implication**: Type checking is done at runtime, which can make these languages more flexible but potentially less performant.\n",
    "- **Examples**: Python.\n",
    "\n",
    "**Example in Python**\n",
    "```python\n",
    "num = 10 # No need to specify the type; 'num' is dynamically typed\n",
    "print(f\"The number is {num}\")\n",
    "```\n",
    "___"
   ]
  },
  {
   "cell_type": "markdown",
   "id": "0ba22e15-b9b1-4f5f-a7c8-c8fe3bd59bc2",
   "metadata": {},
   "source": [
    "### Variable Naming Rules\n",
    "\n",
    "1. **Starts with a Letter or Underscore**: A variable must start with a letter (A-Z, a-z) or an underscore (_).\n",
    "2. **Cannot Start with a Number**: A variable cannot start with a number (0-9).\n",
    "3. **Contains Alphanumeric Characters and Underscores**: A variable name can only contain letters, numbers, and underscores (A-Z, a-z, 0-9, _).\n",
    "4. **Case Sensitive**: Variables are case sensitive, meaning `age`, `Age`, and `AGE` are considered three different variables."
   ]
  },
  {
   "cell_type": "code",
   "execution_count": 1,
   "id": "dd0cd1ee-90b0-4830-992b-05428ecb4181",
   "metadata": {},
   "outputs": [
    {
     "name": "stdout",
     "output_type": "stream",
     "text": [
      "23\n",
      "27\n",
      "32\n"
     ]
    }
   ],
   "source": [
    "# valid variable names\n",
    "name = \"Omar\"\n",
    "_age = 23\n",
    "user123 = \"Rizk\"\n",
    "\n",
    "# invalid variable names (will cause errors)\n",
    "# 1name = \"Charlie\"  # cannot start with a number\n",
    "# user-name = \"Dave\" # hyphens are not allowed\n",
    "# $money = \"EGP\"     # canot use special characters other than underscores_ \n",
    "\n",
    "# case sensitivity\n",
    "age = 23\n",
    "Age = 27\n",
    "AGE = 32\n",
    "\n",
    "print(age)  # Outputs: 23\n",
    "print(Age)  # Outputs: 27\n",
    "print(AGE)  # Outputs: 32"
   ]
  },
  {
   "cell_type": "markdown",
   "id": "5896afe3-057f-4b60-b972-acd7508a215b",
   "metadata": {},
   "source": [
    "____\n",
    "### Multiple Assignments in Python\n",
    "\n",
    "In Python, you can use multiple assignments to assign values to multiple variables in a single statement. This is somewhat similar to the comma operator in other languages like C, which allows you to evaluate multiple expressions in a single statement.\n",
    "\n",
    "#### How It Works\n",
    "- **Multiple Assignments**: You can assign values to multiple variables at once using a comma-separated list.\n",
    "- **Evaluation Order**: The values are assigned from left to right.\n",
    "- **Return Value**: Each variable gets the corresponding value from the right-hand side."
   ]
  },
  {
   "cell_type": "code",
   "execution_count": 2,
   "id": "4daf7d77-bff9-45e7-8c9f-53c524e50eae",
   "metadata": {},
   "outputs": [
    {
     "name": "stdout",
     "output_type": "stream",
     "text": [
      "x = 1\n",
      "y = 2\n",
      "z = 3\n"
     ]
    }
   ],
   "source": [
    "# Multiple assignments in Python\n",
    "x, y, z = 1, 2, 3\n",
    "\n",
    "# Printing the values\n",
    "print(f\"x = {x}\")\n",
    "print(f\"y = {y}\")\n",
    "print(f\"z = {z}\")"
   ]
  },
  {
   "cell_type": "markdown",
   "id": "eb5ec826-2495-4904-a85b-3a9fe4433c47",
   "metadata": {},
   "source": [
    "---\n",
    "### Data Types in Python\n",
    "\n",
    "Python supports various data types, each serving different purposes. Understanding these data types is crucial for effective programming.\n",
    "<p></p>\n",
    "\n",
    "![](py-data-types.jpg)"
   ]
  }
 ],
 "metadata": {
  "kernelspec": {
   "display_name": "Python 3 (ipykernel)",
   "language": "python",
   "name": "python3"
  },
  "language_info": {
   "codemirror_mode": {
    "name": "ipython",
    "version": 3
   },
   "file_extension": ".py",
   "mimetype": "text/x-python",
   "name": "python",
   "nbconvert_exporter": "python",
   "pygments_lexer": "ipython3",
   "version": "3.12.3"
  }
 },
 "nbformat": 4,
 "nbformat_minor": 5
}
