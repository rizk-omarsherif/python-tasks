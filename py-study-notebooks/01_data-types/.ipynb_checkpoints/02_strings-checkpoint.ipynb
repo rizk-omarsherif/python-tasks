{
 "cells": [
  {
   "cell_type": "markdown",
   "id": "66b15726-5b48-465d-81ca-0ac5161cec4f",
   "metadata": {},
   "source": [
    "# Exercise 2: Strings in Python"
   ]
  },
  {
   "cell_type": "markdown",
   "id": "73f00bd8-ea62-4992-9304-eec8f982d8eb",
   "metadata": {},
   "source": [
    "---"
   ]
  },
  {
   "cell_type": "markdown",
   "id": "6c50ccd9-7568-4fda-8bcf-1a4a5d127aee",
   "metadata": {},
   "source": [
    "## Table of Contents\n",
    "\n",
    "1. **Definition**\n",
    "<p></p>\n",
    "\n",
    "2. **Creating Strings**\n",
    "   - 2.1 Creating string using single quotes\n",
    "   - 2.2 Creating string using double quotes\n",
    "   - 2.3 Creating string using triple quotes (multiline string)\n",
    "<p> </p>\n",
    "\n",
    "3. **Accessing Characters**\n",
    "   - 3.1 Indexing\n",
    "   - 3.2 Negative Indexing\n",
    "   - 3.3 Slicing to get substring\n",
    "<p> </p>\n",
    "\n",
    "4. **String Methods**\n",
    "   - 4.1 Changing case\n",
    "   - 4.2 Checking properties\n",
    "   - 4.3 Searching and replacing\n",
    "   - 4.4 Splitting and Joining\n",
    "   - 4.5 Trimming whitespaces\n",
    "   - 4.6 Formatting strings"
   ]
  },
  {
   "cell_type": "markdown",
   "id": "7c31341b-c40b-4eeb-a00c-1ce5f6c05752",
   "metadata": {},
   "source": [
    "---"
   ]
  },
  {
   "cell_type": "markdown",
   "id": "96eed348-694d-44b7-ab57-c501794b7781",
   "metadata": {},
   "source": [
    "## 1- Definition"
   ]
  },
  {
   "cell_type": "markdown",
   "id": "3bd14e62-30a2-4325-9d8f-b94c498f94ae",
   "metadata": {},
   "source": [
    "- **Immutable** sequence of characters used to store and manipulate text."
   ]
  },
  {
   "cell_type": "markdown",
   "id": "90f74787-deff-4a44-af97-fa6d11dbff61",
   "metadata": {},
   "source": [
    "---"
   ]
  },
  {
   "cell_type": "markdown",
   "id": "eef5233c-8755-401b-bdf6-d6ccc42455c8",
   "metadata": {},
   "source": [
    "### 2- Creating Strings\n",
    "- Strings can be created using single quotes, double quotes, or triple quotes for multiline strings."
   ]
  },
  {
   "cell_type": "markdown",
   "id": "2b612316-2c8b-461b-a0d2-c066982b4da1",
   "metadata": {},
   "source": [
    "#### 2.1 Creating string using single quotes\n"
   ]
  },
  {
   "cell_type": "code",
   "execution_count": 165,
   "id": "f64bf463-928a-473f-bdfb-b643844fffdd",
   "metadata": {},
   "outputs": [],
   "source": [
    "first_name = 'Omar'"
   ]
  },
  {
   "cell_type": "markdown",
   "id": "2f66d45e-d860-4589-b373-697382a8d4f3",
   "metadata": {},
   "source": [
    "#### 2.2 Creating string using double quotes"
   ]
  },
  {
   "cell_type": "code",
   "execution_count": 166,
   "id": "8d3322d6-34d6-4577-b261-510732407fa4",
   "metadata": {},
   "outputs": [],
   "source": [
    "last_name  = \"Rizk\""
   ]
  },
  {
   "cell_type": "markdown",
   "id": "f113f549-69a6-4c40-83db-d9f094275998",
   "metadata": {},
   "source": [
    "#### 2.3 Creating string using triple quotes (multiline string)"
   ]
  },
  {
   "cell_type": "code",
   "execution_count": 167,
   "id": "4daffbcf-be47-4e0b-ab52-b71e63404786",
   "metadata": {},
   "outputs": [],
   "source": [
    "password   = \"\"\"123$python\n",
    "rizk.omarsherif9@gmail.com\"\"\""
   ]
  },
  {
   "cell_type": "markdown",
   "id": "2d1c3c34-bc6a-4f94-8bad-c2f0b718fe63",
   "metadata": {},
   "source": [
    "---"
   ]
  },
  {
   "cell_type": "markdown",
   "id": "99509b76-99b2-44fb-83d2-63026e4202ca",
   "metadata": {},
   "source": [
    "### 3- Accessing Characters\n",
    "- Strings characters can be accessed using indexing, negative indexing, and slicing to get substring."
   ]
  },
  {
   "cell_type": "markdown",
   "id": "6001a6d1-aff9-4483-a6e6-e8efb345b1ca",
   "metadata": {},
   "source": [
    "#### 3.1 Strings support indexing to access individual characters."
   ]
  },
  {
   "cell_type": "code",
   "execution_count": 168,
   "id": "5d1fdec3-6140-4893-a91d-74e17ed24715",
   "metadata": {},
   "outputs": [
    {
     "name": "stdout",
     "output_type": "stream",
     "text": [
      "O,m,a,r,"
     ]
    }
   ],
   "source": [
    "print(first_name[0],end=\",\")  # Output: 'O'\n",
    "print(first_name[1],end=\",\")  # Output: 'm'\n",
    "print(first_name[2],end=\",\")  # Output: 'a'\n",
    "print(first_name[3],end=\",\")  # Output: 'r'"
   ]
  },
  {
   "cell_type": "markdown",
   "id": "1f104194-1529-415b-a947-3a4151f3f624",
   "metadata": {},
   "source": [
    "#### 3.2 Negative indexing allows access to characters from the end of the string."
   ]
  },
  {
   "cell_type": "code",
   "execution_count": 169,
   "id": "eec8d3ec-2be3-4070-95ea-d746d31a735b",
   "metadata": {},
   "outputs": [
    {
     "name": "stdout",
     "output_type": "stream",
     "text": [
      "r,a,m,O,"
     ]
    }
   ],
   "source": [
    "print(first_name[-1],end=\",\")  # Output: 'r'\n",
    "print(first_name[-2],end=\",\")  # Output: 'a'\n",
    "print(first_name[-3],end=\",\")  # Output: 'm'\n",
    "print(first_name[-4],end=\",\")  # Output: 'O'"
   ]
  },
  {
   "cell_type": "markdown",
   "id": "c3afbdfa-2493-42cf-972c-6c275501cdab",
   "metadata": {},
   "source": [
    "#### 3.3 Slicing can be used to get a substring from a string."
   ]
  },
  {
   "cell_type": "code",
   "execution_count": 170,
   "id": "5c973e6d-514a-4ffd-b232-7c45c6ffc8bb",
   "metadata": {},
   "outputs": [
    {
     "name": "stdout",
     "output_type": "stream",
     "text": [
      "ma\n"
     ]
    }
   ],
   "source": [
    "# Slicing\n",
    "print(first_name[1:3])  # Output: 'ma'"
   ]
  },
  {
   "cell_type": "markdown",
   "id": "6f7d6c1c-6967-47f9-9dee-00bbab9af9bb",
   "metadata": {},
   "source": [
    "---"
   ]
  },
  {
   "cell_type": "markdown",
   "id": "54c90b8a-6fc1-42d3-8bd0-b3f3857c5466",
   "metadata": {},
   "source": [
    "### 4- String Methods"
   ]
  },
  {
   "cell_type": "markdown",
   "id": "1dd52349-9f66-4685-8846-48b13887f19c",
   "metadata": {},
   "source": [
    "#### 4.1 Changing Case"
   ]
  },
  {
   "cell_type": "code",
   "execution_count": 171,
   "id": "a1347d63-f480-42cc-94fd-f94cc6ca6433",
   "metadata": {},
   "outputs": [],
   "source": [
    "text = \"omaR rIZk\""
   ]
  },
  {
   "cell_type": "code",
   "execution_count": 172,
   "id": "08a2298c-4820-4020-98eb-eae39bd75f77",
   "metadata": {},
   "outputs": [
    {
     "name": "stdout",
     "output_type": "stream",
     "text": [
      "omar rizk\n"
     ]
    }
   ],
   "source": [
    "# Convert a string to lowercase.\n",
    "print(text.lower())       # Output: 'omar rizk'"
   ]
  },
  {
   "cell_type": "code",
   "execution_count": 173,
   "id": "037f6ce4-af08-4aff-a6aa-458e6c0fc687",
   "metadata": {},
   "outputs": [
    {
     "name": "stdout",
     "output_type": "stream",
     "text": [
      "OMAR RIZK\n"
     ]
    }
   ],
   "source": [
    "# Convert a string to uppercase.\n",
    "print(text.upper())       # Output: 'OMAR RIZK'"
   ]
  },
  {
   "cell_type": "code",
   "execution_count": 174,
   "id": "2f713704-c8bc-45b7-bd66-9c096709ff9c",
   "metadata": {},
   "outputs": [
    {
     "name": "stdout",
     "output_type": "stream",
     "text": [
      "Omar Rizk\n"
     ]
    }
   ],
   "source": [
    "# Convert the first character of each word to uppercase (title case).\n",
    "print(text.title())       # Output: 'Omar Rizk'"
   ]
  },
  {
   "cell_type": "code",
   "execution_count": 175,
   "id": "964d10af-82df-4b37-aea1-693774e46ec3",
   "metadata": {},
   "outputs": [
    {
     "name": "stdout",
     "output_type": "stream",
     "text": [
      "OMAr RizK\n"
     ]
    }
   ],
   "source": [
    "# Swap the case of each character in the string.\n",
    "print(text.swapcase())    # Output: 'OMAr RizK'"
   ]
  },
  {
   "cell_type": "code",
   "execution_count": 176,
   "id": "96b91e57-d333-46ef-af59-7ac1ce4e1cb4",
   "metadata": {},
   "outputs": [
    {
     "name": "stdout",
     "output_type": "stream",
     "text": [
      "Omar rizk\n"
     ]
    }
   ],
   "source": [
    "# Capitalize the first character of the string.\n",
    "print(text.capitalize())  # Output: 'Omar rizk'"
   ]
  },
  {
   "cell_type": "markdown",
   "id": "6dc58917-d598-4f0e-ac26-aac3d1c6fbaf",
   "metadata": {},
   "source": [
    "#### 4.2 Checking String Properties"
   ]
  },
  {
   "cell_type": "code",
   "execution_count": 177,
   "id": "aa3a58f9-d3c5-4f78-a8ec-b19ef72800c2",
   "metadata": {},
   "outputs": [],
   "source": [
    "text = \"Omar123\""
   ]
  },
  {
   "cell_type": "code",
   "execution_count": 178,
   "id": "f106143b-9ff4-44a8-90f4-33993c524984",
   "metadata": {},
   "outputs": [
    {
     "name": "stdout",
     "output_type": "stream",
     "text": [
      "True\n"
     ]
    }
   ],
   "source": [
    "# Check if the string is alphanumeric (contains only letters and numbers).\n",
    "print(text.isalnum())  # Output: True"
   ]
  },
  {
   "cell_type": "code",
   "execution_count": 179,
   "id": "392f7454-fca3-44f7-8b09-a287da959815",
   "metadata": {},
   "outputs": [
    {
     "name": "stdout",
     "output_type": "stream",
     "text": [
      "False\n"
     ]
    }
   ],
   "source": [
    "# Check if the string contains only alphabetic characters.\n",
    "print(text.isalpha())  # Output: False"
   ]
  },
  {
   "cell_type": "code",
   "execution_count": 180,
   "id": "db3eac5e-3a35-4dd9-9ed6-177bcb25dd6f",
   "metadata": {},
   "outputs": [
    {
     "name": "stdout",
     "output_type": "stream",
     "text": [
      "False\n"
     ]
    }
   ],
   "source": [
    "# Check if the string contains only digits.\n",
    "print(text.isdigit())  # Output: False"
   ]
  },
  {
   "cell_type": "code",
   "execution_count": 181,
   "id": "ea8485d1-8a0e-44b0-8b9b-8675a4ed91c5",
   "metadata": {},
   "outputs": [
    {
     "name": "stdout",
     "output_type": "stream",
     "text": [
      "False\n"
     ]
    }
   ],
   "source": [
    "# Check if all characters in the string are lowercase.\n",
    "print(text.islower())  # Output: False"
   ]
  },
  {
   "cell_type": "code",
   "execution_count": 182,
   "id": "e17cb046-63d7-40b2-81d4-7099147caeee",
   "metadata": {},
   "outputs": [
    {
     "name": "stdout",
     "output_type": "stream",
     "text": [
      "False\n"
     ]
    }
   ],
   "source": [
    "# Check if all characters in the string are uppercase.\n",
    "print(text.isupper())  # Output: False"
   ]
  },
  {
   "cell_type": "markdown",
   "id": "18785e8c-36ce-4717-9739-553aaac74482",
   "metadata": {},
   "source": [
    "#### 4.3 Searching and Replacing"
   ]
  },
  {
   "cell_type": "code",
   "execution_count": 183,
   "id": "44ecf14d-18c1-4d28-a6d1-c1853150f486",
   "metadata": {},
   "outputs": [],
   "source": [
    "text = \"Omar Rizk\""
   ]
  },
  {
   "cell_type": "code",
   "execution_count": 184,
   "id": "bd5ccf65-a562-489b-b82f-c5d6d9864dd5",
   "metadata": {},
   "outputs": [
    {
     "name": "stdout",
     "output_type": "stream",
     "text": [
      "5\n"
     ]
    }
   ],
   "source": [
    "# Find the position of a substring within the string.\n",
    "print(text.find('Rizk'))"
   ]
  },
  {
   "cell_type": "code",
   "execution_count": 185,
   "id": "5a4066ab-ca96-4cdb-82f4-9349153f9377",
   "metadata": {},
   "outputs": [
    {
     "name": "stdout",
     "output_type": "stream",
     "text": [
      "Omar Sherif\n"
     ]
    }
   ],
   "source": [
    "# Replace occurrences of a substring with another substring.\n",
    "print(text.replace('Rizk', 'Sherif'))"
   ]
  },
  {
   "cell_type": "markdown",
   "id": "8c3e559d-0a99-4cc6-83b7-a692b873b4d9",
   "metadata": {},
   "source": [
    "#### 4.4 Splitting and Joining"
   ]
  },
  {
   "cell_type": "code",
   "execution_count": 186,
   "id": "0761c535-4fd0-47c3-8eed-accc6f83d6a0",
   "metadata": {},
   "outputs": [],
   "source": [
    "text = \"Omar-Rizk-Graduated!\"\n",
    "words = ['Omar', 'Rizk', 'Graduated!']"
   ]
  },
  {
   "cell_type": "code",
   "execution_count": 187,
   "id": "8efb9bcf-bd8d-4832-b5a5-bf8860720cc3",
   "metadata": {},
   "outputs": [
    {
     "name": "stdout",
     "output_type": "stream",
     "text": [
      "['Omar', 'Rizk', 'Graduated!']\n"
     ]
    }
   ],
   "source": [
    "# Split a string into a list of substrings based on a delimiter.\n",
    "print(text.split('-'))  # Output: ['Omar', ' Rizk', 'Graduated!]"
   ]
  },
  {
   "cell_type": "code",
   "execution_count": 188,
   "id": "4a321254-308d-464b-98d6-fadd1b68a29c",
   "metadata": {},
   "outputs": [
    {
     "name": "stdout",
     "output_type": "stream",
     "text": [
      "Omar Rizk Graduated!\n"
     ]
    }
   ],
   "source": [
    "# Join a list of strings into a single string with a specified delimiter.\n",
    "print(' '.join(words))  # Output: 'Omar Rizk Graduated!'"
   ]
  },
  {
   "cell_type": "markdown",
   "id": "9caa3694-2d4f-4477-80f0-d436e7264dcf",
   "metadata": {},
   "source": [
    "#### 4.5 Trimming Whitespaces"
   ]
  },
  {
   "cell_type": "code",
   "execution_count": 189,
   "id": "a3a85c56-292f-4d0f-8642-f283751a752c",
   "metadata": {},
   "outputs": [],
   "source": [
    "text = \"   Omar Rizk   \""
   ]
  },
  {
   "cell_type": "code",
   "execution_count": 190,
   "id": "6a530f7f-131a-4d92-9b55-7316fb77713c",
   "metadata": {},
   "outputs": [
    {
     "name": "stdout",
     "output_type": "stream",
     "text": [
      "Omar Rizk\n"
     ]
    }
   ],
   "source": [
    "# Remove leading and trailing whitespace from the string.\n",
    "print(text.strip())  # Output: 'Omar Rizk'"
   ]
  },
  {
   "cell_type": "code",
   "execution_count": 191,
   "id": "27c3904b-0c78-45ff-864e-3e7532bcdabd",
   "metadata": {},
   "outputs": [
    {
     "name": "stdout",
     "output_type": "stream",
     "text": [
      "Omar Rizk   \n"
     ]
    }
   ],
   "source": [
    "# Remove leading whitespace from the string.\n",
    "print(text.lstrip())  # Output: 'Omar Rizk   '"
   ]
  },
  {
   "cell_type": "code",
   "execution_count": 192,
   "id": "888bbc03-4046-432d-881a-928888164320",
   "metadata": {},
   "outputs": [
    {
     "name": "stdout",
     "output_type": "stream",
     "text": [
      "   Omar Rizk\n"
     ]
    }
   ],
   "source": [
    "# Remove trailing whitespace from the string.\n",
    "print(text.rstrip())  # Output: '   Omar Rizk'"
   ]
  },
  {
   "cell_type": "markdown",
   "id": "91a6503b-9a55-44a7-b074-ed1ec9f6a431",
   "metadata": {},
   "source": [
    "#### 4.6 Formatting Strings"
   ]
  },
  {
   "cell_type": "code",
   "execution_count": 193,
   "id": "12251c05-61fe-4463-9f17-5490df5a3965",
   "metadata": {},
   "outputs": [],
   "source": [
    "name = \"omar\"\n",
    "age  = 23"
   ]
  },
  {
   "cell_type": "code",
   "execution_count": 194,
   "id": "083cb032-0b69-4528-a26d-718675d36f44",
   "metadata": {},
   "outputs": [
    {
     "name": "stdout",
     "output_type": "stream",
     "text": [
      "My name is omar and I am 23 years old.\n"
     ]
    }
   ],
   "source": [
    "# Use f-strings to embed expressions inside string literals.\n",
    "print(f\"My name is {name} and I am {age} years old.\")"
   ]
  },
  {
   "cell_type": "code",
   "execution_count": 195,
   "id": "0efe2c6b-296f-4708-b92a-faac0bd16d6d",
   "metadata": {},
   "outputs": [
    {
     "name": "stdout",
     "output_type": "stream",
     "text": [
      "My name is omar and I am 23 years old.\n"
     ]
    }
   ],
   "source": [
    "# Use the `format` method to insert values into a string.\n",
    "print(\"My name is {} and I am {} years old.\".format(name, age))"
   ]
  },
  {
   "cell_type": "markdown",
   "id": "ff47019d-81b1-4495-bb9a-50c1da1d50bd",
   "metadata": {},
   "source": [
    "---"
   ]
  },
  {
   "cell_type": "markdown",
   "id": "3813ac44-993b-49df-ac72-44e96b9f89d2",
   "metadata": {},
   "source": [
    "# Practice Exercises!\n",
    "## Explore More:\n",
    "- [**geeksforgeeks python strings exercies**](https://www.geeksforgeeks.org/python-string-exercise/)\n",
    "- [**w3school python strings exercies**](https://www.w3schools.com/python/python_strings_exercises.asp)"
   ]
  },
  {
   "cell_type": "markdown",
   "id": "0a6f7f8c-5c4f-44af-8cda-531f5cc5e347",
   "metadata": {},
   "source": [
    "---"
   ]
  },
  {
   "cell_type": "markdown",
   "id": "7e4c5575-0f9b-4a38-a827-ad807777c4a4",
   "metadata": {},
   "source": [
    "# The End"
   ]
  }
 ],
 "metadata": {
  "kernelspec": {
   "display_name": "Python 3 (ipykernel)",
   "language": "python",
   "name": "python3"
  },
  "language_info": {
   "codemirror_mode": {
    "name": "ipython",
    "version": 3
   },
   "file_extension": ".py",
   "mimetype": "text/x-python",
   "name": "python",
   "nbconvert_exporter": "python",
   "pygments_lexer": "ipython3",
   "version": "3.12.3"
  }
 },
 "nbformat": 4,
 "nbformat_minor": 5
}
