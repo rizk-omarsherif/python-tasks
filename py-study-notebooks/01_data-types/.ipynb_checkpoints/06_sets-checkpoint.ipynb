{
 "cells": [
  {
   "cell_type": "markdown",
   "id": "51bb2774-cea2-4dc0-a833-27245abfc354",
   "metadata": {},
   "source": [
    "# Exercise 5: Sets in Python"
   ]
  },
  {
   "cell_type": "markdown",
   "id": "3b1ab9db-420c-491e-8251-d343e7b10ecf",
   "metadata": {},
   "source": [
    "---"
   ]
  },
  {
   "cell_type": "markdown",
   "id": "d71e0236-9821-41d1-ba12-bd70e57151c1",
   "metadata": {},
   "source": [
    "## Table of Contents\n",
    "\n",
    "1. **Definition**\n",
    "<p></p>\n",
    "\n",
    "2. **Creating Sets**\n",
    "   - 2.1 Creating a set\n",
    "   - 2.2 Creating an empty set\n",
    "<p> </p>\n",
    "\n",
    "3. **Accessing Set Elements**\n",
    "   - 3.1 Checking membership\n",
    "   - 3.2 Iterating over a set\n",
    "<p> </p>\n",
    "\n",
    "4. **Basic Set Operations**\n",
    "   - 4.1 Adding elements to a set\n",
    "   - 4.2 Removing elements from a set\n",
    "<p> </p>\n",
    "\n",
    "5. **Set Methods**\n",
    "   - 5.1 Union of sets\n",
    "   - 5.2 Intersection of sets\n",
    "   - 5.3 Difference of sets\n",
    "   - 5.4 Symmetric difference of sets\n",
    "   - 5.5 Checking subset and superset\n",
    "<p> </p>\n",
    "\n",
    "6. **Set Comprehensions**\n",
    "<p> </p>\n",
    "\n",
    "7. **Advanced Topics**\n",
    "   - 7.1 Frozensets\n",
    "   - 7.2 Using sets for removing duplicates\n",
    "   - 7.3 Performance considerations\n",
    "<p> </p>"
   ]
  },
  {
   "cell_type": "markdown",
   "id": "3126405f-7c51-48ef-b2b9-ec45cfea0307",
   "metadata": {},
   "source": [
    "---"
   ]
  },
  {
   "cell_type": "markdown",
   "id": "ef279d65-d60e-4939-84ea-18ecb652ca54",
   "metadata": {},
   "source": [
    "### 1- Definition\n",
    "\n",
    "**Mutable**, **unordered** collection of unique elements (do not allow duplicate values).\n"
   ]
  },
  {
   "cell_type": "markdown",
   "id": "b20e7e44-5451-42d2-aead-a76f46935f41",
   "metadata": {},
   "source": [
    "---"
   ]
  },
  {
   "cell_type": "markdown",
   "id": "cf676f06-8f08-45b4-a640-2e7aecf57588",
   "metadata": {},
   "source": [
    "### 2- Creating Sets"
   ]
  },
  {
   "cell_type": "markdown",
   "id": "9931edaa-e96c-4f61-97dd-c10aaec55823",
   "metadata": {},
   "source": [
    "#### 2.1 Creating a set\n",
    "\n",
    "You can create a set by placing all the items (elements) inside curly braces `{}`, separated by commas."
   ]
  },
  {
   "cell_type": "code",
   "execution_count": 20,
   "id": "57f11c56-2f35-46c8-a46e-37063dde5fb0",
   "metadata": {},
   "outputs": [],
   "source": [
    "my_set = {1, 2, 3, 4, 5}"
   ]
  },
  {
   "cell_type": "markdown",
   "id": "0b2043b2-264e-4d65-924c-ffceaed62f49",
   "metadata": {},
   "source": [
    "#### 2.2 Creating an empty set\n",
    "\n",
    "An empty set can be created by using the `set()` function. \n",
    "<p></p>\n",
    "\n",
    "**Note**: `{}` creates an empty dictionary, not an empty set."
   ]
  },
  {
   "cell_type": "code",
   "execution_count": 21,
   "id": "d809fe72-c458-4484-be8a-bf58bdd03bef",
   "metadata": {},
   "outputs": [
    {
     "name": "stdout",
     "output_type": "stream",
     "text": [
      "set()\n"
     ]
    }
   ],
   "source": [
    "empty_set = set()\n",
    "print(empty_set)"
   ]
  },
  {
   "cell_type": "markdown",
   "id": "de4bb275-2ad1-4654-a25c-49698e1e49c2",
   "metadata": {},
   "source": [
    "---"
   ]
  },
  {
   "cell_type": "markdown",
   "id": "b0c70a2d-a850-46ed-b4f9-914222e10cda",
   "metadata": {},
   "source": [
    "### 3- Accessing Set Elements"
   ]
  },
  {
   "cell_type": "markdown",
   "id": "83378070-bf6e-4396-bcd8-b6a52177bbba",
   "metadata": {},
   "source": [
    "#### 3.1 Checking membership\n",
    "\n",
    "Use the `in` keyword to check if an element exists in a set."
   ]
  },
  {
   "cell_type": "code",
   "execution_count": 22,
   "id": "2fce1a17-df33-49e0-a6ce-71768407f797",
   "metadata": {},
   "outputs": [
    {
     "name": "stdout",
     "output_type": "stream",
     "text": [
      "True\n"
     ]
    }
   ],
   "source": [
    "print(1 in my_set)  # Output: True"
   ]
  },
  {
   "cell_type": "markdown",
   "id": "380cd5ae-9504-4f09-96ca-9dbe7ab441a0",
   "metadata": {},
   "source": [
    "#### 3.2 Iterating over a set\n",
    "\n",
    "You can iterate over the elements of a set using a `for` loop."
   ]
  },
  {
   "cell_type": "code",
   "execution_count": 23,
   "id": "61410436-65fc-4a02-8a80-e9d59785a689",
   "metadata": {},
   "outputs": [
    {
     "name": "stdout",
     "output_type": "stream",
     "text": [
      "1\n",
      "2\n",
      "3\n",
      "4\n",
      "5\n"
     ]
    }
   ],
   "source": [
    "for element in my_set:\n",
    "    print(element)"
   ]
  },
  {
   "cell_type": "markdown",
   "id": "623352d9-13b2-41b0-b7ce-5fa224212745",
   "metadata": {},
   "source": [
    "---"
   ]
  },
  {
   "cell_type": "markdown",
   "id": "7dfe58aa-a4aa-4697-8eb6-8b9d37d8f5f3",
   "metadata": {},
   "source": [
    "### 4- Basic Set Operations"
   ]
  },
  {
   "cell_type": "markdown",
   "id": "ed74b2c8-99f8-4ee4-b57e-0c10b929ca15",
   "metadata": {},
   "source": [
    "#### 4.1 Adding elements to a set\n",
    "\n",
    "Use the `add()` method to add a single element to a set."
   ]
  },
  {
   "cell_type": "code",
   "execution_count": 24,
   "id": "76d3e4df-cc6d-4302-8ac8-afbfa35cb0cc",
   "metadata": {},
   "outputs": [
    {
     "name": "stdout",
     "output_type": "stream",
     "text": [
      "{1, 2, 3, 4, 5, 6}\n"
     ]
    }
   ],
   "source": [
    "my_set.add(6)\n",
    "print(my_set)  # Output: {1, 2, 3, 4, 5, 6}"
   ]
  },
  {
   "cell_type": "code",
   "execution_count": 25,
   "id": "1ce8fa49-ca45-4ac4-bf75-81843d0f581e",
   "metadata": {},
   "outputs": [
    {
     "name": "stdout",
     "output_type": "stream",
     "text": [
      "{1, 2, 3, 4, 5, 6}\n"
     ]
    }
   ],
   "source": [
    "my_set.add(4)\n",
    "print(my_set)  # Output: {1, 2, 3, 4, 5, 6} -> Sets contain only unique members"
   ]
  },
  {
   "cell_type": "markdown",
   "id": "7f7f3eee-ec7d-4bc7-9313-ba6ecd9b7f8d",
   "metadata": {},
   "source": [
    "#### 4.2 Removing elements from a set\n",
    "\n",
    "Use the `remove()` method to remove an element from a set. If the element is not present, it raises a `KeyError`."
   ]
  },
  {
   "cell_type": "code",
   "execution_count": 26,
   "id": "3a54125d-035b-466f-80a7-9e8e09d75ab0",
   "metadata": {},
   "outputs": [
    {
     "name": "stdout",
     "output_type": "stream",
     "text": [
      "{1, 3, 4, 5, 6}\n"
     ]
    }
   ],
   "source": [
    "my_set.remove(2)\n",
    "print(my_set)  # Output: {1, 3, 4, 5, 6}"
   ]
  },
  {
   "cell_type": "markdown",
   "id": "aff1899c-d15f-477d-825a-08fc4cf332de",
   "metadata": {},
   "source": [
    "Use the `discard()` method to remove an element from a set. If the element is not present, it does nothing."
   ]
  },
  {
   "cell_type": "code",
   "execution_count": 27,
   "id": "5f83218a-9b08-42cc-b0f0-9a7197a0b545",
   "metadata": {},
   "outputs": [
    {
     "name": "stdout",
     "output_type": "stream",
     "text": [
      "{1, 3, 5, 6}\n"
     ]
    }
   ],
   "source": [
    "my_set.discard(4)\n",
    "print(my_set)  # Output: {1, 3, 5, 6}"
   ]
  },
  {
   "cell_type": "markdown",
   "id": "5c3ad607-dc42-410a-81e1-89f875991608",
   "metadata": {},
   "source": [
    "---"
   ]
  },
  {
   "cell_type": "markdown",
   "id": "324718ce-2b62-43e9-ac69-51e83385e6a0",
   "metadata": {},
   "source": [
    "### 5- Set Methods"
   ]
  },
  {
   "cell_type": "markdown",
   "id": "67677af3-cf60-4324-a1af-53f0e8633ff2",
   "metadata": {},
   "source": [
    "#### 5.1 Union of sets\n",
    "\n",
    "The `union()` method returns a new set containing all the unique elements from both sets."
   ]
  },
  {
   "cell_type": "code",
   "execution_count": 32,
   "id": "2e302f59-74d7-46e1-9b95-858754e05881",
   "metadata": {},
   "outputs": [
    {
     "name": "stdout",
     "output_type": "stream",
     "text": [
      "{1, 2, 3, 4, 5}\n"
     ]
    }
   ],
   "source": [
    "set1 = {1, 2, 3}\n",
    "set2 = {3, 4, 5}\n",
    "union_set = set1.union(set2)\n",
    "print(union_set)  # Output: {1, 2, 3, 4, 5}"
   ]
  },
  {
   "cell_type": "markdown",
   "id": "32ad8f2d-992b-4898-913d-964fd1c2b04a",
   "metadata": {},
   "source": [
    "#### 5.2 Intersection of sets\n",
    "\n",
    "The `intersection()` method returns a new set containing only the elements that are common to both sets."
   ]
  },
  {
   "cell_type": "code",
   "execution_count": 35,
   "id": "a1b9f551-6bde-4011-a5df-73bf57ebb99c",
   "metadata": {},
   "outputs": [
    {
     "name": "stdout",
     "output_type": "stream",
     "text": [
      "{3}\n"
     ]
    }
   ],
   "source": [
    "intersection_set = set1.intersection(set2)\n",
    "print(intersection_set)  # Output: {3}"
   ]
  },
  {
   "cell_type": "markdown",
   "id": "ac890c9f-33c4-4d85-a8e4-f0347bf7ebda",
   "metadata": {},
   "source": [
    "#### 5.3 Difference of sets\n",
    "\n",
    "The `difference()` method returns a new set containing elements that are in the first set but not in the second set."
   ]
  },
  {
   "cell_type": "code",
   "execution_count": 36,
   "id": "9095caf2-4f4a-478d-80c2-411d07398048",
   "metadata": {},
   "outputs": [
    {
     "name": "stdout",
     "output_type": "stream",
     "text": [
      "{1, 2}\n"
     ]
    }
   ],
   "source": [
    "difference_set = set1.difference(set2)\n",
    "print(difference_set)  # Output: {1, 2}"
   ]
  },
  {
   "cell_type": "markdown",
   "id": "cf4f395a-d61c-40ea-b3f0-0049d6134204",
   "metadata": {},
   "source": [
    "#### 5.4 Symmetric difference of sets\n",
    "\n",
    "The `symmetric_difference()` method returns a new set containing elements that are in either of the sets, but not in both."
   ]
  },
  {
   "cell_type": "code",
   "execution_count": 37,
   "id": "5c673676-21de-4636-93a3-9b7b9a496774",
   "metadata": {},
   "outputs": [
    {
     "name": "stdout",
     "output_type": "stream",
     "text": [
      "{1, 2, 4, 5}\n"
     ]
    }
   ],
   "source": [
    "sym_diff_set = set1.symmetric_difference(set2)\n",
    "print(sym_diff_set)  # Output: {1, 2, 4, 5}"
   ]
  },
  {
   "cell_type": "markdown",
   "id": "d90edf0c-32d7-4d6a-ad0b-12c712e4da5b",
   "metadata": {},
   "source": [
    "#### 5.5 Checking subset and superset\n",
    "\n",
    "Use the `issubset()` method to check if a set is a subset of another set."
   ]
  },
  {
   "cell_type": "code",
   "execution_count": 38,
   "id": "3a4b03f5-b956-499a-bdd4-762d491423a2",
   "metadata": {},
   "outputs": [
    {
     "name": "stdout",
     "output_type": "stream",
     "text": [
      "True\n"
     ]
    }
   ],
   "source": [
    "set1 = {1, 2, 3}\n",
    "set2 = {1, 2, 3, 4, 5}\n",
    "print(set1.issubset(set2))  # Output: True"
   ]
  },
  {
   "cell_type": "markdown",
   "id": "91dbd462-e859-4324-9160-47c500ed7c31",
   "metadata": {},
   "source": [
    "Use the `issuperset()` method to check if a set is a superset of another set."
   ]
  },
  {
   "cell_type": "code",
   "execution_count": 39,
   "id": "fb2c72ef-0ffe-4807-a81a-076dccef697d",
   "metadata": {},
   "outputs": [
    {
     "name": "stdout",
     "output_type": "stream",
     "text": [
      "True\n"
     ]
    }
   ],
   "source": [
    "set1 = {1, 2, 3, 4, 5}\n",
    "set2 = {1, 2, 3}\n",
    "print(set1.issuperset(set2))  # Output: True"
   ]
  },
  {
   "cell_type": "markdown",
   "id": "e6633a58-1840-433e-8e3b-1413291ae3b8",
   "metadata": {},
   "source": [
    "---"
   ]
  },
  {
   "cell_type": "markdown",
   "id": "9ef655b4-dd52-4b11-b89a-9b0987273113",
   "metadata": {},
   "source": [
    "### 6- Set Comprehensions\n",
    "\n",
    "Set comprehensions allow you to create sets using an expression inside curly braces `{}`."
   ]
  },
  {
   "cell_type": "code",
   "execution_count": 40,
   "id": "bcb269ae-266d-41f2-8b0a-f2c667fb1f82",
   "metadata": {},
   "outputs": [
    {
     "name": "stdout",
     "output_type": "stream",
     "text": [
      "{0, 1, 4, 9, 16}\n"
     ]
    }
   ],
   "source": [
    "squared_set = {x**2 for x in range(5)}\n",
    "print(squared_set)  # Output: {0, 1, 4, 9, 16}"
   ]
  },
  {
   "cell_type": "markdown",
   "id": "ee8056fa-c954-4baf-b57b-bb07af82d587",
   "metadata": {},
   "source": [
    "---"
   ]
  },
  {
   "cell_type": "markdown",
   "id": "d919cf14-f229-4545-b2b1-d6a66c8aa390",
   "metadata": {},
   "source": [
    "### 7- Advanced Topics"
   ]
  },
  {
   "cell_type": "markdown",
   "id": "f3d44aee-134f-46a8-813f-f35d3e64b3aa",
   "metadata": {},
   "source": [
    "#### 7.1 Frozensets\n",
    "\n",
    "A frozenset is an **immutable** version of a set. Once created, its elements cannot be changed."
   ]
  },
  {
   "cell_type": "code",
   "execution_count": 41,
   "id": "b8722440-4c82-442f-9c9c-57f651291dfe",
   "metadata": {},
   "outputs": [
    {
     "name": "stdout",
     "output_type": "stream",
     "text": [
      "frozenset({1, 2, 3})\n"
     ]
    }
   ],
   "source": [
    "my_frozenset = frozenset([1, 2, 3])\n",
    "print(my_frozenset)"
   ]
  },
  {
   "cell_type": "markdown",
   "id": "6c6e8281-f180-424d-b6f9-de998f5d18fa",
   "metadata": {},
   "source": [
    "#### 7.2 Using sets for removing duplicates\n",
    "\n",
    "You can use a set to remove duplicate elements from a list."
   ]
  },
  {
   "cell_type": "code",
   "execution_count": 42,
   "id": "1ade5d9e-cc8b-4adf-95a8-d1006699de4e",
   "metadata": {},
   "outputs": [
    {
     "name": "stdout",
     "output_type": "stream",
     "text": [
      "{1, 2, 3, 4, 5}\n"
     ]
    }
   ],
   "source": [
    "my_list = [1, 2, 2, 3, 4, 4, 5]\n",
    "unique_elements = set(my_list)\n",
    "print(unique_elements)  # Output: {1, 2, 3, 4, 5}"
   ]
  },
  {
   "cell_type": "markdown",
   "id": "1a1e4529-7001-43e7-97f8-37936c6ae288",
   "metadata": {},
   "source": [
    "#### 7.3 Performance considerations\n",
    "\n",
    "Sets provide average time complexity of O(1) for membership tests and element addition. This makes sets very efficient for operations involving unique elements and membership checks."
   ]
  },
  {
   "cell_type": "markdown",
   "id": "be80e75e-3407-4ed6-9845-566747df3bc5",
   "metadata": {},
   "source": [
    "---"
   ]
  },
  {
   "cell_type": "markdown",
   "id": "86117ce1-803d-42cf-872e-d528d09e0f31",
   "metadata": {},
   "source": [
    "# Practice Exercises!\n",
    "## Explore More:\n",
    "- [**geeksforgeeks python set exercies**](https://www.geeksforgeeks.org/python-set-exercise/)\n",
    "- [**w3school python sets exercies**](https://www.w3schools.com/python/python_sets_exercises.asp)"
   ]
  },
  {
   "cell_type": "markdown",
   "id": "4d8ea0c0-3ec0-482c-9f83-87b41d2c8f26",
   "metadata": {},
   "source": [
    "---"
   ]
  },
  {
   "cell_type": "markdown",
   "id": "180b560c-5bfd-4286-ac81-7c8e1c32dc1d",
   "metadata": {},
   "source": [
    "# THE END"
   ]
  },
  {
   "cell_type": "code",
   "execution_count": null,
   "id": "3c69a8ed-158d-4b2e-99fc-ea44086646da",
   "metadata": {},
   "outputs": [],
   "source": []
  }
 ],
 "metadata": {
  "kernelspec": {
   "display_name": "Python 3 (ipykernel)",
   "language": "python",
   "name": "python3"
  },
  "language_info": {
   "codemirror_mode": {
    "name": "ipython",
    "version": 3
   },
   "file_extension": ".py",
   "mimetype": "text/x-python",
   "name": "python",
   "nbconvert_exporter": "python",
   "pygments_lexer": "ipython3",
   "version": "3.12.3"
  }
 },
 "nbformat": 4,
 "nbformat_minor": 5
}
