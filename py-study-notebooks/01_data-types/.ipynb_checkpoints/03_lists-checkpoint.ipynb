{
 "cells": [
  {
   "cell_type": "markdown",
   "id": "24ab5240-5a6e-4dbb-b445-83062d5958c2",
   "metadata": {},
   "source": [
    "# Exercise 3: Lists in Python"
   ]
  },
  {
   "cell_type": "markdown",
   "id": "a7d89220-5093-4381-8412-ab66c97fa5a8",
   "metadata": {},
   "source": [
    "---"
   ]
  },
  {
   "cell_type": "markdown",
   "id": "96d41892-e11a-4695-b103-1c749744c8bb",
   "metadata": {},
   "source": [
    "## Table of Contents\n",
    "\n",
    "1. **Definition**\n",
    "<p></p>\n",
    "\n",
    "2. **Creating Lists**\n",
    "   - 2.1 Creating a list\n",
    "   - 2.2 Creating a list with elements of different data types\n",
    "   - 2.3 Creating a list using `range()`\n",
    "   - 2.4 Creating an empty list\n",
    "<p> </p>\n",
    "\n",
    "3. **Accessing List Elements**\n",
    "   - 3.1 Indexing\n",
    "   - 3.2 Negative Indexing\n",
    "   - 3.3 Slicing to get sublists\n",
    "<p> </p>\n",
    "\n",
    "4. **Basic List Operations**\n",
    "   - 4.1 Adding elements to a list\n",
    "   - 4.2 Removing elements from a list\n",
    "   - 4.3 Checking membership in a list\n",
    "   - 4.4 Concatenating lists\n",
    "   - 4.5 Copying lists\n",
    "   - 4.6 Iterating over a list\n",
    "<p> </p>\n",
    "\n",
    "5. **List Methods**\n",
    "   - 5.1 Modifying lists\n",
    "   - 5.2 Searching and sorting\n",
    "   - 5.3 Reversing a list\n",
    "   - 5.4 Clearing a list\n",
    "   - 5.5 Counting occurrences of an element\n",
    "   - 5.6 Converting list to string\n",
    "<p> </p>\n",
    "\n",
    "6. **List Comprehensions**\n",
    "<p> </p>\n",
    "\n",
    "7. **Nested Lists**\n",
    "   - 7.1 Accessing elements in nested lists\n",
    "   - 7.2 Iterating through nested lists\n",
    "<p> </p>\n",
    "\n",
    "8. **Common List Patterns**\n",
    "   - 8.1 Finding the maximum and minimum\n",
    "   - 8.2 Checking if all or any elements satisfy a condition\n",
    "   - 8.3 Reversing a list in-place\n",
    "<p> </p>\n",
    "\n",
    "9. **Advanced Topics**\n",
    "   - 9.1 List unpacking\n",
    "   - 9.2 Using `zip()` with lists\n",
    "<p> </p>"
   ]
  },
  {
   "cell_type": "markdown",
   "id": "5cd215af-584c-43bc-bbdc-e80dbb2bc0f2",
   "metadata": {},
   "source": [
    "___"
   ]
  },
  {
   "cell_type": "markdown",
   "id": "51b615ff-d954-4a1a-b8d6-f24d628229c3",
   "metadata": {},
   "source": [
    "### 1- Definition"
   ]
  },
  {
   "cell_type": "markdown",
   "id": "5fbae9ba-a6d6-468b-80a0-4c12e7837c5c",
   "metadata": {},
   "source": [
    "- **Mutable**, **ordred**, **collection** of items, which can be of different types."
   ]
  },
  {
   "cell_type": "markdown",
   "id": "0cdf5339-9786-466c-ad63-7f4cb407cbf3",
   "metadata": {},
   "source": [
    "---"
   ]
  },
  {
   "cell_type": "markdown",
   "id": "08571281-e8a2-4e46-a31f-8e7905d3c749",
   "metadata": {},
   "source": [
    "### 2- Creating Lists"
   ]
  },
  {
   "cell_type": "markdown",
   "id": "914a2a18-91ff-4070-bd27-f887e42a8a7e",
   "metadata": {},
   "source": [
    "#### 2.1 Creating a list\n",
    "\n",
    "You can create a list by placing all the items (elements) inside square brackets [ ], separated by commas."
   ]
  },
  {
   "cell_type": "code",
   "execution_count": 2,
   "id": "130f1e1f-e459-44e0-ba25-1da71f2392fa",
   "metadata": {},
   "outputs": [],
   "source": [
    "my_list = [10, 20, 30, 40]"
   ]
  },
  {
   "cell_type": "markdown",
   "id": "707c4054-7e98-48de-b454-06b44192df85",
   "metadata": {},
   "source": [
    "#### 2.2 Creating a list with elements of different data types\n",
    "\n",
    "Lists can contain elements of different data types, such as integers, strings, and even other lists."
   ]
  },
  {
   "cell_type": "code",
   "execution_count": 3,
   "id": "dce5c718-cef6-4a54-affc-3388c3900c9d",
   "metadata": {},
   "outputs": [],
   "source": [
    "mixed_list = [1, \"Hello\", 3.14, [5, 6, 7]]"
   ]
  },
  {
   "cell_type": "markdown",
   "id": "14290e77-515c-4b98-ad33-26c986301ebb",
   "metadata": {},
   "source": [
    "#### 2.3 Creating a list using `range()`"
   ]
  },
  {
   "cell_type": "code",
   "execution_count": 17,
   "id": "a78002a2-0378-445a-832b-9f436d8911b3",
   "metadata": {},
   "outputs": [
    {
     "data": {
      "text/plain": [
       "([1, 2, 3, 4], [0, 2])"
      ]
     },
     "execution_count": 17,
     "metadata": {},
     "output_type": "execute_result"
    }
   ],
   "source": [
    "list1 = list(range(1,5))\n",
    "list2 = list(range(0,4,2))\n",
    "# list3 = list(range(1,5,1.5)) -> only int steps are allowed\n",
    "list1 , list2"
   ]
  },
  {
   "cell_type": "markdown",
   "id": "325aeaed-78ca-402f-bc04-7d8ea3c79678",
   "metadata": {},
   "source": [
    "#### 2.4 Creating an empty list\n",
    "\n",
    "An empty list can be created by using empty square brackets."
   ]
  },
  {
   "cell_type": "code",
   "execution_count": 4,
   "id": "2906b7f8-333b-4f47-a220-ec083c96fd3f",
   "metadata": {},
   "outputs": [],
   "source": [
    "empty_list = []"
   ]
  },
  {
   "cell_type": "markdown",
   "id": "9041fccd-ae4f-461d-ac4c-82012273b75d",
   "metadata": {},
   "source": [
    "---"
   ]
  },
  {
   "cell_type": "markdown",
   "id": "b3266fa6-cf03-4182-a200-251cc72559cd",
   "metadata": {},
   "source": [
    "### 3- Accessing List Elements"
   ]
  },
  {
   "cell_type": "markdown",
   "id": "04ec25d1-5d7c-4a3c-8342-c990f2e2367c",
   "metadata": {},
   "source": [
    "#### 3.1 Indexing\n",
    "\n",
    "Elements in a list can be accessed by their index. The first element has an index of 0."
   ]
  },
  {
   "cell_type": "code",
   "execution_count": 5,
   "id": "15e86482-ada7-4103-a9fa-c9e3ba9711bc",
   "metadata": {},
   "outputs": [
    {
     "data": {
      "text/plain": [
       "30"
      ]
     },
     "execution_count": 5,
     "metadata": {},
     "output_type": "execute_result"
    }
   ],
   "source": [
    "my_list[2]          # Output: 30"
   ]
  },
  {
   "cell_type": "markdown",
   "id": "da8dd506-9c1b-4ed4-9d5f-8b700acc5a0c",
   "metadata": {},
   "source": [
    "#### 3.2 Negative Indexing\n",
    "\n",
    "Negative indexing allows you to access elements from the end of the list."
   ]
  },
  {
   "cell_type": "code",
   "execution_count": 6,
   "id": "9622d9fa-0f21-4c17-bb97-bb6988ad414f",
   "metadata": {},
   "outputs": [
    {
     "data": {
      "text/plain": [
       "40"
      ]
     },
     "execution_count": 6,
     "metadata": {},
     "output_type": "execute_result"
    }
   ],
   "source": [
    "my_list[-1]         # Output: 40"
   ]
  },
  {
   "cell_type": "markdown",
   "id": "5029eb5c-696a-4384-bef8-73480a9c6cc7",
   "metadata": {},
   "source": [
    "#### 3.3 Slicing to get sublists\n",
    "\n",
    "Slicing allows you to obtain a sublist by specifying a range of indices."
   ]
  },
  {
   "cell_type": "code",
   "execution_count": 7,
   "id": "7de934b5-f94b-4dd8-b63d-506ea200d460",
   "metadata": {},
   "outputs": [
    {
     "data": {
      "text/plain": [
       "([20, 30], [10, 20, 30, 40])"
      ]
     },
     "execution_count": 7,
     "metadata": {},
     "output_type": "execute_result"
    }
   ],
   "source": [
    "sub_list = my_list[1:3]        # Output: [20, 30]\n",
    "\n",
    "sub_list, my_list              # Original my_list does not change"
   ]
  },
  {
   "cell_type": "code",
   "execution_count": 10,
   "id": "bdb703fb-fed0-41d7-a058-21d626a67f00",
   "metadata": {},
   "outputs": [
    {
     "data": {
      "text/plain": [
       "[20, 40]"
      ]
     },
     "execution_count": 10,
     "metadata": {},
     "output_type": "execute_result"
    }
   ],
   "source": [
    "sub_list_jump = my_list[1:4:2] # Jump by 2 \n",
    "sub_list_jump"
   ]
  },
  {
   "cell_type": "markdown",
   "id": "b6a8fa6c-93d3-4ce7-9c83-15b15ffc52fc",
   "metadata": {},
   "source": [
    "---"
   ]
  },
  {
   "cell_type": "markdown",
   "id": "d7da8e41-999b-4715-bd5b-36b695b43ac5",
   "metadata": {},
   "source": [
    "### 4- Basic List Operations"
   ]
  },
  {
   "cell_type": "markdown",
   "id": "b6e690a6-7796-4a45-9774-aac89971b153",
   "metadata": {},
   "source": [
    "#### 4.1 Adding elements to a list\n",
    "\n",
    "You can add elements to a list using `append()` or `insert()`."
   ]
  },
  {
   "cell_type": "code",
   "execution_count": 7,
   "id": "8c69a7f6-1a8d-49ce-84f1-1644b601e870",
   "metadata": {},
   "outputs": [
    {
     "name": "stdout",
     "output_type": "stream",
     "text": [
      "[10, 20, 30, 40, 50]\n",
      "[10, 15, 20, 30, 40, 50]\n"
     ]
    }
   ],
   "source": [
    "my_list.append(50)\n",
    "print(my_list)  # Output: [10, 20, 30, 40, 50]\n",
    "\n",
    "my_list.insert(1, 15)\n",
    "print(my_list)  # Output: [10, 15, 20, 30, 40, 50]\n"
   ]
  },
  {
   "cell_type": "markdown",
   "id": "9a30ab0b-9b4c-461c-9da9-9a54da2c67d0",
   "metadata": {},
   "source": [
    "#### 4.2 Removing elements from a list\n",
    "\n",
    "Elements can be removed using `remove()`, `pop()`, or `del`."
   ]
  },
  {
   "cell_type": "code",
   "execution_count": 8,
   "id": "7228467a-3368-4f57-b372-338f7e881a97",
   "metadata": {},
   "outputs": [
    {
     "name": "stdout",
     "output_type": "stream",
     "text": [
      "[10, 15, 30, 40, 50]\n",
      "[10, 30, 40, 50]\n",
      "15\n",
      "[30, 40, 50]\n"
     ]
    }
   ],
   "source": [
    "my_list.remove(20)\n",
    "print(my_list)         # Output: [10, 15, 30, 40, 50]\n",
    "\n",
    "popped_element = my_list.pop(1)\n",
    "print(my_list)         # Output: [10, 30, 40, 50]\n",
    "print(popped_element)  # Output: 15\n",
    "\n",
    "del my_list[0]\n",
    "print(my_list)         # Output: [30, 40, 50]"
   ]
  },
  {
   "cell_type": "markdown",
   "id": "86c84b28-7bca-46eb-9d24-37373c5f8996",
   "metadata": {},
   "source": [
    "#### 4.3 Checking membership in a list\n",
    "\n",
    "Use the in keyword to check if an element exists in a list."
   ]
  },
  {
   "cell_type": "code",
   "execution_count": 9,
   "id": "ae7d8a56-ab47-44e8-89ee-bbb87455e2a9",
   "metadata": {},
   "outputs": [
    {
     "name": "stdout",
     "output_type": "stream",
     "text": [
      "True\n",
      "False\n"
     ]
    }
   ],
   "source": [
    "print(40 in my_list)  # Output: True\n",
    "print(20 in my_list)  # Output: False"
   ]
  },
  {
   "cell_type": "markdown",
   "id": "eaf26a60-32eb-4d7a-828b-1f41b4cc561a",
   "metadata": {},
   "source": [
    "#### 4.4 Concatenating lists\n",
    "\n",
    "Lists can be concatenated using the + operator."
   ]
  },
  {
   "cell_type": "code",
   "execution_count": 10,
   "id": "7c9145a2-cdd9-4ca6-9fac-411cf9a20253",
   "metadata": {},
   "outputs": [
    {
     "data": {
      "text/plain": [
       "[1, 2, 3, 4, 5, 6]"
      ]
     },
     "execution_count": 10,
     "metadata": {},
     "output_type": "execute_result"
    }
   ],
   "source": [
    "list1 = [1, 2, 3]\n",
    "list2 = [4, 5, 6]\n",
    "combined_list = list1 + list2\n",
    "combined_list        # Output: [1, 2, 3, 4, 5, 6]"
   ]
  },
  {
   "cell_type": "markdown",
   "id": "0a7f4601-9870-4938-a976-e6d16cf3b52a",
   "metadata": {},
   "source": [
    "#### 4.5 Copying lists\n",
    "\n",
    "Lists can be copied using the `copy()` method or `slicing`."
   ]
  },
  {
   "cell_type": "code",
   "execution_count": 11,
   "id": "71184a03-c5cd-45b1-8b12-b603f548bb16",
   "metadata": {},
   "outputs": [
    {
     "name": "stdout",
     "output_type": "stream",
     "text": [
      "[1, 2, 3]\n",
      "[1, 2, 3]\n"
     ]
    }
   ],
   "source": [
    "original_list = [1, 2, 3]\n",
    "copied_list = original_list.copy()\n",
    "print(copied_list)  # Output: [1, 2, 3]\n",
    "\n",
    "copied_list = original_list[:]\n",
    "print(copied_list)  # Output: [1, 2, 3]"
   ]
  },
  {
   "cell_type": "markdown",
   "id": "db01e9fb-a463-46ee-8b1a-be85c39dac34",
   "metadata": {},
   "source": [
    "#### 4.6 Iterating over a list\n",
    "\n",
    "You can iterate over the elements of a list using a for loop."
   ]
  },
  {
   "cell_type": "code",
   "execution_count": 12,
   "id": "041cf450-230e-48e2-adca-fb16acfbf6c5",
   "metadata": {},
   "outputs": [
    {
     "name": "stdout",
     "output_type": "stream",
     "text": [
      "30\n",
      "40\n",
      "50\n"
     ]
    }
   ],
   "source": [
    "for element in my_list:\n",
    "    print(element)"
   ]
  },
  {
   "cell_type": "markdown",
   "id": "6031cc37-df7b-4dae-a31d-b94bcaa9aead",
   "metadata": {},
   "source": [
    "---"
   ]
  },
  {
   "cell_type": "markdown",
   "id": "b5fc8b81-f63d-4537-86e2-8b5d43fad13e",
   "metadata": {},
   "source": [
    "### 5- List Methods"
   ]
  },
  {
   "cell_type": "markdown",
   "id": "bef99c48-5d54-47e0-a554-d0664b607b84",
   "metadata": {},
   "source": [
    "#### 5.1 Modifying lists\n",
    "\n",
    "Lists have several methods to modify their elements, such as `append()`, `insert()`, `remove()`, and `pop()`."
   ]
  },
  {
   "cell_type": "code",
   "execution_count": 13,
   "id": "2e078d0f-8361-42ff-9336-78947a0a1ee5",
   "metadata": {},
   "outputs": [
    {
     "name": "stdout",
     "output_type": "stream",
     "text": [
      "[30, 40, 50, 40]\n",
      "[30, 55, 40, 50, 40]\n",
      "[30, 55, 50, 40]\n",
      "[30, 55, 50]\n"
     ]
    }
   ],
   "source": [
    "my_list.append(40)\n",
    "print(my_list)       # Output: [30, 40, 50, 40]\n",
    "\n",
    "my_list.insert(1, 55)\n",
    "print(my_list)       # Output: [30, 55, 40, 50, 40]\n",
    "\n",
    "my_list.remove(40)\n",
    "print(my_list)       # Output: [30, 55, 50, 40] --> removed only first occurrence\n",
    "my_list.pop(3)  \n",
    "print(my_list)       # Output: [30, 55, 50]"
   ]
  },
  {
   "cell_type": "markdown",
   "id": "d3f92dbb-99bc-4566-860c-cff32de546b9",
   "metadata": {},
   "source": [
    "#### 5.2 Searching and sorting\n",
    "\n",
    "You can search for elements using `index()`. Lists can be sorted using `sort()`."
   ]
  },
  {
   "cell_type": "code",
   "execution_count": 14,
   "id": "49c9dfcd-d8e6-435f-9d86-d2da322981da",
   "metadata": {},
   "outputs": [
    {
     "name": "stdout",
     "output_type": "stream",
     "text": [
      "0\n",
      "[30, 50, 55]\n"
     ]
    }
   ],
   "source": [
    "print(my_list.index(30))   # Output: 0\n",
    "\n",
    "my_list.sort()\n",
    "print(my_list)  # Output: [30, 50, 55]\n"
   ]
  },
  {
   "cell_type": "markdown",
   "id": "ff28ed8e-a12b-4717-96e7-8b143ff1a547",
   "metadata": {},
   "source": [
    "#### 5.3 Reversing a list\n",
    "\n",
    "Lists can be reversed using the `reverse()` method."
   ]
  },
  {
   "cell_type": "code",
   "execution_count": 15,
   "id": "3bb55661-bc33-4312-8e27-745b0359c753",
   "metadata": {},
   "outputs": [
    {
     "name": "stdout",
     "output_type": "stream",
     "text": [
      "[55, 50, 30]\n"
     ]
    }
   ],
   "source": [
    "my_list.reverse()\n",
    "print(my_list)  # Output: [55, 50, 30]"
   ]
  },
  {
   "cell_type": "markdown",
   "id": "079ccb49-4ce3-4822-a057-c3966b92b0de",
   "metadata": {},
   "source": [
    "#### 5.4 Clearing a list\n",
    "\n",
    "You can remove all elements from a list using the `clear()` method."
   ]
  },
  {
   "cell_type": "code",
   "execution_count": 16,
   "id": "bb997ca7-706f-4563-b241-c2fb00d7c60c",
   "metadata": {},
   "outputs": [
    {
     "name": "stdout",
     "output_type": "stream",
     "text": [
      "[]\n"
     ]
    }
   ],
   "source": [
    "my_list.clear()\n",
    "print(my_list)  # Output: []"
   ]
  },
  {
   "cell_type": "markdown",
   "id": "b6b9f2df-16cc-4835-b808-b82cebcbed66",
   "metadata": {},
   "source": [
    "#### 5.5 Counting occurrences of an element\n",
    "\n",
    "The `count()` method returns the number of occurrences of an element in a list."
   ]
  },
  {
   "cell_type": "code",
   "execution_count": 17,
   "id": "6a4577ee-32c9-4854-8d25-d8a826c1112e",
   "metadata": {},
   "outputs": [
    {
     "name": "stdout",
     "output_type": "stream",
     "text": [
      "3\n"
     ]
    }
   ],
   "source": [
    "my_list = [1, 2, 3, 1, 1, 4]\n",
    "print(my_list.count(1))  # Output: 3"
   ]
  },
  {
   "cell_type": "markdown",
   "id": "e23644e9-68a6-4de1-a7b0-2ecf21c323bc",
   "metadata": {},
   "source": [
    "#### 5.6 Converting list to string\n",
    "The `join()` method joins between list elements creating a string"
   ]
  },
  {
   "cell_type": "code",
   "execution_count": 6,
   "id": "4d10727f-21b2-415a-a99c-edf4f5dee6e7",
   "metadata": {},
   "outputs": [
    {
     "name": "stdout",
     "output_type": "stream",
     "text": [
      "omar sherif rizk\n"
     ]
    }
   ],
   "source": [
    "my_name_as_list = [\"omar\", \"sherif\", \"rizk\"]\n",
    "my_name_as_string = \" \".join(list)\n",
    "print(my_name_as_string)"
   ]
  },
  {
   "cell_type": "markdown",
   "id": "17328a3d-388e-40b3-a671-971a9cff2b19",
   "metadata": {},
   "source": [
    "---"
   ]
  },
  {
   "cell_type": "markdown",
   "id": "311131a0-89fa-4f9b-a247-83c64811cf65",
   "metadata": {},
   "source": [
    "### 6- List Comprehensions\n",
    "\n",
    "List comprehensions offer a shorter syntax when you want to create a new list based on the values of an existing list."
   ]
  },
  {
   "cell_type": "code",
   "execution_count": 18,
   "id": "59ce5697-a2e4-49cd-b0c9-30243d992042",
   "metadata": {},
   "outputs": [
    {
     "name": "stdout",
     "output_type": "stream",
     "text": [
      "squares = [0, 1, 4, 9, 16, 25, 36, 49, 64, 81]\n"
     ]
    }
   ],
   "source": [
    "squares = [x**2 for x in range(10)]\n",
    "print(f\"squares = {squares}\")             # Output: [0, 1, 4, 9, 16, 25, 36, 49, 64, 81]"
   ]
  },
  {
   "cell_type": "code",
   "execution_count": 19,
   "id": "d9ed539d-9754-4312-aa0d-8fdc800f4c5e",
   "metadata": {},
   "outputs": [
    {
     "name": "stdout",
     "output_type": "stream",
     "text": [
      "even_numbers = [0, 2, 4, 6, 8, 10, 12, 14, 16, 18]\n"
     ]
    }
   ],
   "source": [
    "even_numbers = [x for x in range(20) if x % 2 == 0]\n",
    "print(f\"even_numbers = {even_numbers}\")   # Output: [0, 2, 4, 6, 8, 10, 12, 14, 16, 18]\n"
   ]
  },
  {
   "cell_type": "markdown",
   "id": "136109e8-5c51-4d3e-970b-5f1e3e7a8bed",
   "metadata": {},
   "source": [
    "---"
   ]
  },
  {
   "cell_type": "markdown",
   "id": "e5e79db9-c619-4206-8035-ff9c7404a2bd",
   "metadata": {},
   "source": [
    "### 7- Nested Lists"
   ]
  },
  {
   "cell_type": "markdown",
   "id": "05b1d7cb-650b-4129-8d40-333403330fd7",
   "metadata": {},
   "source": [
    "#### 7.1 Accessing elements in nested lists\n",
    "\n",
    "You can access elements in nested lists by using multiple indices."
   ]
  },
  {
   "cell_type": "code",
   "execution_count": 20,
   "id": "9d1a67b2-2a68-4f0c-84aa-ceab723a0137",
   "metadata": {},
   "outputs": [
    {
     "data": {
      "text/plain": [
       "6"
      ]
     },
     "execution_count": 20,
     "metadata": {},
     "output_type": "execute_result"
    }
   ],
   "source": [
    "nested_list = [[1, 2, 3], [4, 5, 6], [7, 8, 9]]\n",
    "nested_list[1][2]  # Output: 6"
   ]
  },
  {
   "cell_type": "markdown",
   "id": "34f53b54-28a8-4ad6-82de-9465fb6c4d52",
   "metadata": {},
   "source": [
    "#### 7.2 Iterating through nested lists\n",
    "\n",
    "You can iterate through nested lists using nested loops."
   ]
  },
  {
   "cell_type": "code",
   "execution_count": 21,
   "id": "eb78da90-f61c-4305-9b91-e72c3a6cea9b",
   "metadata": {},
   "outputs": [
    {
     "name": "stdout",
     "output_type": "stream",
     "text": [
      "1\n",
      "2\n",
      "3\n",
      "4\n",
      "5\n",
      "6\n",
      "7\n",
      "8\n",
      "9\n"
     ]
    }
   ],
   "source": [
    "for sublist in nested_list:\n",
    "    for item in sublist:\n",
    "        print(item)"
   ]
  },
  {
   "cell_type": "markdown",
   "id": "7710933b-b6a8-47b7-a12b-fbf75da2a3c9",
   "metadata": {},
   "source": [
    "---"
   ]
  },
  {
   "cell_type": "markdown",
   "id": "b58026a9-7f98-4c2c-848b-d7c44016ba5b",
   "metadata": {},
   "source": [
    "### 8- Common List Patterns"
   ]
  },
  {
   "cell_type": "markdown",
   "id": "5abf4aaf-015d-4330-9f9e-80c3fc59706f",
   "metadata": {},
   "source": [
    "#### 8.1 Finding the maximum and minimum\n",
    "\n",
    "You can use the `max()` and `min()` functions to find the maximum and minimum values in a list."
   ]
  },
  {
   "cell_type": "code",
   "execution_count": 22,
   "id": "b9bae9a8-89ee-493c-bb0b-f31e565f6f94",
   "metadata": {},
   "outputs": [
    {
     "name": "stdout",
     "output_type": "stream",
     "text": [
      "5\n",
      "1\n"
     ]
    }
   ],
   "source": [
    "my_list = [1, 2, 3, 4, 5]\n",
    "print(max(my_list))  # Output: 5\n",
    "print(min(my_list))  # Output: 1"
   ]
  },
  {
   "cell_type": "markdown",
   "id": "273abcec-66aa-4e10-b467-811c5920bbdd",
   "metadata": {},
   "source": [
    "#### 8.2 Checking if all or any elements satisfy a condition\n",
    "\n",
    "Use `all()` and `any()` to check conditions."
   ]
  },
  {
   "cell_type": "code",
   "execution_count": 23,
   "id": "545d6088-58f4-4d09-952a-fde7435a8b51",
   "metadata": {},
   "outputs": [
    {
     "name": "stdout",
     "output_type": "stream",
     "text": [
      "True\n",
      "True\n"
     ]
    }
   ],
   "source": [
    "my_list = [2, 4, 6, 8]\n",
    "print(all(x % 2 == 0 for x in my_list))  # Output: True\n",
    "print(any(x > 5 for x in my_list))       # Output: True"
   ]
  },
  {
   "cell_type": "markdown",
   "id": "e0f0c621-44af-499c-9b9e-c1a5c0e61926",
   "metadata": {},
   "source": [
    "#### 8.3 Reversing a list in-place\n",
    "\n",
    "Lists can be reversed in-place using slicing."
   ]
  },
  {
   "cell_type": "code",
   "execution_count": 24,
   "id": "b36071c8-e603-4451-9857-232ed7b357dd",
   "metadata": {},
   "outputs": [
    {
     "name": "stdout",
     "output_type": "stream",
     "text": [
      "[5, 4, 3, 2, 1]\n"
     ]
    }
   ],
   "source": [
    "my_list = [1, 2, 3, 4, 5]\n",
    "my_list[:] = my_list[::-1]\n",
    "print(my_list)  # Output: [5, 4, 3, 2, 1]"
   ]
  },
  {
   "cell_type": "markdown",
   "id": "0424bc57-8823-4d17-93eb-6b7a4a4de0fd",
   "metadata": {},
   "source": [
    "---"
   ]
  },
  {
   "cell_type": "markdown",
   "id": "2b59ed8a-bc4b-4156-8b03-74e097c20657",
   "metadata": {},
   "source": [
    "### 9- Advanced Topics"
   ]
  },
  {
   "cell_type": "markdown",
   "id": "74f7cdff-e48f-4601-b273-83b36922081d",
   "metadata": {},
   "source": [
    "#### 9.1 List unpacking\n",
    "\n",
    "List unpacking allows you to assign elements of a list to variables."
   ]
  },
  {
   "cell_type": "code",
   "execution_count": 25,
   "id": "ac3cecfb-179c-437a-b485-d6bade902df3",
   "metadata": {},
   "outputs": [
    {
     "name": "stdout",
     "output_type": "stream",
     "text": [
      "1 2 3\n"
     ]
    }
   ],
   "source": [
    "my_list = [1, 2, 3]\n",
    "a, b, c = my_list\n",
    "print(a, b, c)  # Output: 1 2 3"
   ]
  },
  {
   "cell_type": "markdown",
   "id": "ebe96458-88c0-4a26-8495-031ab5406ef3",
   "metadata": {},
   "source": [
    "#### 9.2 Using zip() with lists\n",
    "\n",
    "`zip()` is used to combine two or more lists element-wise."
   ]
  },
  {
   "cell_type": "code",
   "execution_count": 27,
   "id": "66b5eadc-618d-4d69-8e93-7865f601cdc7",
   "metadata": {},
   "outputs": [
    {
     "name": "stdout",
     "output_type": "stream",
     "text": [
      "[(1, 'a'), (2, 'b'), (3, 'c')]\n"
     ]
    }
   ],
   "source": [
    "list1 = [1, 2, 3]\n",
    "list2 = ['a', 'b', 'c']\n",
    "zipped = zip(list1, list2)\n",
    "print(list(zipped))  # Output: [(1, 'a'), (2, 'b'), (3, 'c')]"
   ]
  },
  {
   "cell_type": "markdown",
   "id": "d665d3e4-3e3d-4ddd-9583-a502fe703b18",
   "metadata": {},
   "source": [
    "---"
   ]
  },
  {
   "cell_type": "markdown",
   "id": "8fd57516-e7d5-4237-aa3d-788a7fd8b83d",
   "metadata": {},
   "source": [
    "# Practice Exercises!\n",
    "## Explore More:\n",
    "- [**geeksforgeeks python list exercies**](https://www.geeksforgeeks.org/python-list-exercise/)\n",
    "- [**w3school python lists exercies**](https://www.w3schools.com/python/python_lists_exercises.asp)"
   ]
  },
  {
   "cell_type": "markdown",
   "id": "d6982b6a-e63e-4d8e-b99b-5d4f6cae7f6c",
   "metadata": {},
   "source": [
    "---"
   ]
  },
  {
   "cell_type": "markdown",
   "id": "e77a14e2-3059-4fb5-8bf5-f6720dcecdf1",
   "metadata": {},
   "source": [
    "# THE END"
   ]
  }
 ],
 "metadata": {
  "kernelspec": {
   "display_name": "Python 3 (ipykernel)",
   "language": "python",
   "name": "python3"
  },
  "language_info": {
   "codemirror_mode": {
    "name": "ipython",
    "version": 3
   },
   "file_extension": ".py",
   "mimetype": "text/x-python",
   "name": "python",
   "nbconvert_exporter": "python",
   "pygments_lexer": "ipython3",
   "version": "3.12.3"
  }
 },
 "nbformat": 4,
 "nbformat_minor": 5
}
