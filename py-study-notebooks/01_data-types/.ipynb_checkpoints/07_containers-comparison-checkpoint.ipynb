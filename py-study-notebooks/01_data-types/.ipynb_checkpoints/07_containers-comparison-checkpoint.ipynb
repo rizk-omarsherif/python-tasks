{
 "cells": [
  {
   "cell_type": "markdown",
   "id": "2a5ecfc3-bf46-4e27-b393-01a3b669e5ec",
   "metadata": {},
   "source": [
    "## Comparison Overview Table\n",
    "\n",
    "| Data Structure | Ordered | Mutable | Example                        |\n",
    "|----------------|---------|---------|--------------------------------|\n",
    "| Strings        | Yes     | No      | `s = \"hello\"`                  |\n",
    "| Lists          | Yes     | Yes     | `lst = [1, 2, 3]`              |\n",
    "| Tuples         | Yes     | No      | `t = (1, 2, 3)`                |\n",
    "| Dictionaries   | Yes*    | Yes     | `d = {\"name\": \"Alice\", \"age\": 25}` |\n",
    "| Sets           | No      | Yes     | `s = {1, 2, 3}`                |\n",
    "\n",
    "*As of Python 3.7+, dictionaries maintain insertion order.\n"
   ]
  },
  {
   "cell_type": "markdown",
   "id": "ee11d5bb-2ab8-4edf-b883-5a5fb3f20b0f",
   "metadata": {},
   "source": [
    "---"
   ]
  },
  {
   "cell_type": "markdown",
   "id": "48ccac35-9d54-4e4b-ae22-25805009eb6c",
   "metadata": {},
   "source": [
    "## Use Cases\n",
    "\n",
    "- **Strings**: \n",
    "  - Use when dealing with text data, such as storing names, sentences, or any textual information.\n",
    "  - Example: `name = \"Alice\"`\n",
    "  \n",
    "- **Lists**: \n",
    "  - Use for ordered collections of elements that may need to be modified, such as a collection of items in a shopping cart.\n",
    "  - Example: `shopping_cart = [\"apple\", \"banana\", \"cherry\"]`\n",
    "  \n",
    "- **Tuples**: \n",
    "  - Use for ordered collections of elements that should not be modified, such as coordinates of a point in 2D space.\n",
    "  - Example: `point = (3, 5)`\n",
    "  \n",
    "- **Dictionaries**: \n",
    "  - Use for key-value pairs where you need to quickly retrieve values based on unique keys, such as storing information about a person.\n",
    "  - Example: `person = {\"name\": \"Alice\", \"age\": 25}`\n",
    "  \n",
    "- **Sets**: \n",
    "  - Use for collections of unique elements without concern for order, such as tracking unique items in a collection.\n",
    "  - Example: `unique_items = {1, 2, 3}`"
   ]
  }
 ],
 "metadata": {
  "kernelspec": {
   "display_name": "Python 3 (ipykernel)",
   "language": "python",
   "name": "python3"
  },
  "language_info": {
   "codemirror_mode": {
    "name": "ipython",
    "version": 3
   },
   "file_extension": ".py",
   "mimetype": "text/x-python",
   "name": "python",
   "nbconvert_exporter": "python",
   "pygments_lexer": "ipython3",
   "version": "3.12.3"
  }
 },
 "nbformat": 4,
 "nbformat_minor": 5
}
