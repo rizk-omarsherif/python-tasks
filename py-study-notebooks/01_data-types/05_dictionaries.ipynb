{
 "cells": [
  {
   "cell_type": "markdown",
   "id": "8d92469a-51a9-48f3-b625-44b0422a3d56",
   "metadata": {},
   "source": [
    "# Exercise 5: Dictionaries in Python"
   ]
  },
  {
   "cell_type": "markdown",
   "id": "e287c751-1b7c-476c-b6d9-4a8036a4593c",
   "metadata": {},
   "source": [
    "## Table of Contents\n",
    "\n",
    "1. **Definition**\n",
    "<p></p>\n",
    "\n",
    "2. **Creating Dictionaries**\n",
    "   - 2.1 Creating a dictionary\n",
    "   - 2.2 Creating an empty dictionary\n",
    "<p> </p>\n",
    "\n",
    "3. **Accessing Dictionary Elements**\n",
    "   - 3.1 Accessing values by key\n",
    "   - 3.2 Using the `get` method\n",
    "   - 3.3 Iterating over a dictionary\n",
    "<p> </p>\n",
    "\n",
    "4. **Modifying Dictionaries**\n",
    "   - 4.1 Adding or updating key-value pairs\n",
    "   - 4.2 Removing key-value pairs\n",
    "   - 4.3 Merging dictionaries\n",
    "   - 4.4 No Duplicate Member\n",
    "<p> </p>\n",
    "\n",
    "5. **Dictionary Methods**\n",
    "   - 5.1 Keys, values, and items\n",
    "   - 5.2 Copying dictionaries\n",
    "   - 5.3 Clearing a dictionary\n",
    "   - 5.4 Checking membership\n",
    "<p> </p>\n",
    "\n",
    "6. **Dictionary Comprehensions**\n",
    "<p> </p>\n",
    "\n",
    "7. **Nested Dictionaries**\n",
    "   - 7.1 Accessing elements in nested dictionaries\n",
    "   - 7.2 Iterating through nested dictionaries\n",
    "<p> </p>\n",
    "\n",
    "8. **Advanced Topics**\n",
    "   - 8.1 Default dictionaries with `defaultdict`\n",
    "   - 8.2 Ordered dictionaries with `OrderedDict`\n",
    "   - 8.3 Dictionary view objects\n",
    "<p> </p>"
   ]
  },
  {
   "cell_type": "markdown",
   "id": "acbeaebc-c14a-484e-a2a3-670cb14b3ced",
   "metadata": {},
   "source": [
    "---"
   ]
  },
  {
   "cell_type": "markdown",
   "id": "843d36d6-a785-426b-b3dd-ae097b7a8319",
   "metadata": {},
   "source": [
    "### 1- Definition\n",
    "\n",
    "**Mutable**, **unordered** collection of key-value pairs. Each key is unique and maps to a value."
   ]
  },
  {
   "cell_type": "markdown",
   "id": "ba676c85-987c-4781-99d5-4b0d01649120",
   "metadata": {},
   "source": [
    "---"
   ]
  },
  {
   "cell_type": "markdown",
   "id": "0e681e2a-b292-445f-b739-ef83da1d5080",
   "metadata": {},
   "source": [
    "### 2- Creating Dictionaries"
   ]
  },
  {
   "cell_type": "markdown",
   "id": "a5aeab63-096f-40d4-aa32-73e17231c0c7",
   "metadata": {},
   "source": [
    "#### 2.1 Creating a dictionary\n",
    "\n",
    "You can create a dictionary by placing key-value pairs inside curly braces `{}`, separated by commas."
   ]
  },
  {
   "cell_type": "code",
   "execution_count": 3,
   "id": "ab2d77ca-2653-494c-8e7d-62a9bb624f04",
   "metadata": {},
   "outputs": [],
   "source": [
    "my_dict = {\"name\": \"Alice\", \"age\": 25, \"city\": \"New York\"}"
   ]
  },
  {
   "cell_type": "markdown",
   "id": "ab124895-bbde-4c3f-a60d-5ab6a591d352",
   "metadata": {},
   "source": [
    "#### 2.2 Creating an empty dictionary\n",
    "\n",
    "An empty dictionary can be created by using empty curly braces `{}`."
   ]
  },
  {
   "cell_type": "code",
   "execution_count": 4,
   "id": "da26eee4-df97-4b47-84ab-39ea8826e321",
   "metadata": {},
   "outputs": [],
   "source": [
    "empty_dict = {}"
   ]
  },
  {
   "cell_type": "markdown",
   "id": "560995af-51e2-46a8-8efe-3733d4a9730b",
   "metadata": {},
   "source": [
    "---"
   ]
  },
  {
   "cell_type": "markdown",
   "id": "d3e2b9bd-0888-4549-a6c5-2be14ebffd00",
   "metadata": {},
   "source": [
    "### 3- Accessing Dictionary Elements"
   ]
  },
  {
   "cell_type": "markdown",
   "id": "6ae53a89-84a4-44b1-93e4-1b394e06ca6f",
   "metadata": {},
   "source": [
    "#### 3.1 Accessing values by key\n",
    "\n",
    "You can access the value associated with a key using square brackets `[]`."
   ]
  },
  {
   "cell_type": "code",
   "execution_count": 5,
   "id": "1d3b54ab-e226-41c4-9b08-78766a2367b2",
   "metadata": {},
   "outputs": [
    {
     "name": "stdout",
     "output_type": "stream",
     "text": [
      "Alice\n"
     ]
    }
   ],
   "source": [
    "print(my_dict[\"name\"])  # Output: Alice"
   ]
  },
  {
   "cell_type": "markdown",
   "id": "018f6193-0738-4539-84f7-85de25d6c3c6",
   "metadata": {},
   "source": [
    "#### 3.2 Using the get method\n",
    "\n",
    "The `get()` method allows you to access the value associated with a key and provides a default value if the key does not exist."
   ]
  },
  {
   "cell_type": "code",
   "execution_count": 6,
   "id": "d75b3dbe-dc5d-4273-b9e1-3da4885169a2",
   "metadata": {},
   "outputs": [
    {
     "name": "stdout",
     "output_type": "stream",
     "text": [
      "25\n",
      "None\n"
     ]
    }
   ],
   "source": [
    "print(my_dict.get(\"age\"))      # Output: 25\n",
    "print(my_dict.get(\"country\"))  # Output: None\n"
   ]
  },
  {
   "cell_type": "markdown",
   "id": "76e3b41e-7f46-4f9b-bc8d-723899cd7c13",
   "metadata": {},
   "source": [
    "#### 3.3 Iterating over a dictionary\n",
    "\n",
    "You can iterate over the keys, values, or key-value pairs of a dictionary using a `for` loop."
   ]
  },
  {
   "cell_type": "code",
   "execution_count": 7,
   "id": "0c8ef02f-c2d4-4e4d-8203-a1ff451bd4dd",
   "metadata": {},
   "outputs": [
    {
     "name": "stdout",
     "output_type": "stream",
     "text": [
      "name\n",
      "age\n",
      "city\n",
      "Alice\n",
      "25\n",
      "New York\n",
      "name: Alice\n",
      "age: 25\n",
      "city: New York\n"
     ]
    }
   ],
   "source": [
    "# Iterating over keys\n",
    "for key in my_dict:\n",
    "    print(key)\n",
    "\n",
    "# Iterating over values\n",
    "for value in my_dict.values():\n",
    "    print(value)\n",
    "\n",
    "# Iterating over key-value pairs\n",
    "for key, value in my_dict.items():\n",
    "    print(f\"{key}: {value}\")\n"
   ]
  },
  {
   "cell_type": "markdown",
   "id": "e1ddda0f-ff6d-4350-8a23-f82219521fff",
   "metadata": {},
   "source": [
    "---"
   ]
  },
  {
   "cell_type": "markdown",
   "id": "8c39d265-54d3-4cc0-b2ca-e1b012b9450b",
   "metadata": {},
   "source": [
    "### 4- Modifying Dictionaries"
   ]
  },
  {
   "cell_type": "markdown",
   "id": "060dcbad-236f-4283-9fcf-ab7a15712b7f",
   "metadata": {},
   "source": [
    "### 4.1 Adding or updating key-value pairs\n",
    "\n",
    "You can add a new key-value pair or update an existing one by assigning a value to a key."
   ]
  },
  {
   "cell_type": "code",
   "execution_count": 8,
   "id": "1dcb050c-edce-4eaf-909d-cfffb9a09b98",
   "metadata": {},
   "outputs": [
    {
     "name": "stdout",
     "output_type": "stream",
     "text": [
      "{'name': 'Alice', 'age': 26, 'city': 'New York', 'country': 'USA'}\n"
     ]
    }
   ],
   "source": [
    "my_dict[\"city\"] = \"New York\"\n",
    "my_dict[\"country\"] = \"USA\"\n",
    "my_dict[\"age\"] = 26\n",
    "print(my_dict)  # Output: {'name': 'Alice', 'age': 26, 'city': 'New York', 'country': 'USA'}\n"
   ]
  },
  {
   "cell_type": "markdown",
   "id": "2584a9b6-003d-444f-b8d7-fff6fa5f33e4",
   "metadata": {},
   "source": [
    "#### 4.2 Removing key-value pairs\n",
    "\n",
    "You can remove a key-value pair using the `del` statement or the `pop()` method."
   ]
  },
  {
   "cell_type": "code",
   "execution_count": 9,
   "id": "5317450b-c27a-4641-b439-50ca43612e0c",
   "metadata": {},
   "outputs": [
    {
     "name": "stdout",
     "output_type": "stream",
     "text": [
      "{'name': 'Alice', 'city': 'New York', 'country': 'USA'}\n"
     ]
    }
   ],
   "source": [
    "# Using del\n",
    "del my_dict[\"age\"]\n",
    "print(my_dict)  # Output: {'name': 'Alice', 'city': 'New York', 'country': 'USA'}"
   ]
  },
  {
   "cell_type": "code",
   "execution_count": 10,
   "id": "1660ab61-f2f2-43d4-811f-f62ff23b83a0",
   "metadata": {},
   "outputs": [
    {
     "name": "stdout",
     "output_type": "stream",
     "text": [
      "{'name': 'Alice', 'country': 'USA'}\n"
     ]
    }
   ],
   "source": [
    "# Using pop\n",
    "city = my_dict.pop(\"city\")\n",
    "print(my_dict)  # Output: {'name': 'Alice', 'country': 'USA'}"
   ]
  },
  {
   "cell_type": "markdown",
   "id": "453e8d4f-01e6-4500-83ac-18cf364eaf12",
   "metadata": {},
   "source": [
    "#### 4.3 Merging dictionaries\n",
    "\n",
    "You can merge two dictionaries using the `update()` method or the `{**d1, **d2}` syntax."
   ]
  },
  {
   "cell_type": "code",
   "execution_count": 11,
   "id": "64285059-71ff-472f-9763-e480a3813370",
   "metadata": {},
   "outputs": [
    {
     "name": "stdout",
     "output_type": "stream",
     "text": [
      "{'name': 'Alice', 'age': 25, 'city': 'New York', 'country': 'USA'}\n"
     ]
    }
   ],
   "source": [
    "dict1 = {\"name\": \"Alice\", \"age\": 25}\n",
    "dict2 = {\"city\": \"New York\", \"country\": \"USA\"}\n",
    "\n",
    "# Using update\n",
    "dict1.update(dict2)\n",
    "print(dict1)  # Output: {'name': 'Alice', 'age': 25, 'city': 'New York', 'country': 'USA'}"
   ]
  },
  {
   "cell_type": "code",
   "execution_count": 12,
   "id": "1969b3d7-9b15-4e0f-b7f2-d223d5dae9d6",
   "metadata": {},
   "outputs": [
    {
     "name": "stdout",
     "output_type": "stream",
     "text": [
      "{'name': 'Alice', 'age': 25, 'city': 'New York', 'country': 'USA'}\n"
     ]
    }
   ],
   "source": [
    "# Using {**d1, **d2}\n",
    "merged_dict = {**dict1, **dict2}\n",
    "print(merged_dict)  # Output: {'name': 'Alice', 'age': 25, 'city': 'New York', 'country': 'USA'}"
   ]
  },
  {
   "cell_type": "markdown",
   "id": "9a395888-ccc6-48cd-8629-3db21958a36c",
   "metadata": {},
   "source": [
    "#### 4.4 No duplicate members"
   ]
  },
  {
   "cell_type": "code",
   "execution_count": 23,
   "id": "4965611a-dcca-4094-9885-2658f1573f4c",
   "metadata": {},
   "outputs": [
    {
     "name": "stdout",
     "output_type": "stream",
     "text": [
      "{'ID': 1910, 'name': 'Omar', 'email': 'rizk.omarsherif9@gmail.com'}\n"
     ]
    }
   ],
   "source": [
    "dict = {\"ID\": 1910, \"name\": \"Omar\",\"email\": \"omarizkk9@gmail.com\", \"email\": \"rizk.omarsherif9@gmail.com\"}\n",
    "print(dict)"
   ]
  },
  {
   "cell_type": "markdown",
   "id": "db62d45f-f0bc-439d-97e5-a94a9d15a1b9",
   "metadata": {},
   "source": [
    "---"
   ]
  },
  {
   "cell_type": "markdown",
   "id": "574649a0-3156-4530-a6e5-44be70d7537c",
   "metadata": {},
   "source": [
    "### 5- Dictionary Methods"
   ]
  },
  {
   "cell_type": "markdown",
   "id": "cba133ff-2881-4e1a-b2e4-7328f6d45085",
   "metadata": {},
   "source": [
    "#### 5.1 Keys, values, and items\n",
    "\n",
    "You can access the keys, values, and key-value pairs of a dictionary using the `keys()`, `values()`, and `items()` methods, respectively."
   ]
  },
  {
   "cell_type": "code",
   "execution_count": 13,
   "id": "1cb4d1b8-eb19-4a3d-9469-eb563132344c",
   "metadata": {},
   "outputs": [
    {
     "name": "stdout",
     "output_type": "stream",
     "text": [
      "dict_keys(['name', 'age', 'city'])\n",
      "dict_values(['Alice', 25, 'New York'])\n",
      "dict_items([('name', 'Alice'), ('age', 25), ('city', 'New York')])\n"
     ]
    }
   ],
   "source": [
    "my_dict = {\"name\": \"Alice\", \"age\": 25, \"city\": \"New York\"}\n",
    "\n",
    "keys = my_dict.keys()\n",
    "values = my_dict.values()\n",
    "items = my_dict.items()\n",
    "\n",
    "print(keys)   # Output: dict_keys(['name', 'age', 'city'])\n",
    "print(values) # Output: dict_values(['Alice', 25, 'New York'])\n",
    "print(items)  # Output: dict_items([('name', 'Alice'), ('age', 25), ('city', 'New York')])"
   ]
  },
  {
   "cell_type": "markdown",
   "id": "5858876d-6464-485a-993e-225af71051f8",
   "metadata": {},
   "source": [
    "#### 5.2 Copying dictionaries\n",
    "\n",
    "You can create a shallow copy of a dictionary using the `copy()` method or the `dict` constructor."
   ]
  },
  {
   "cell_type": "code",
   "execution_count": 14,
   "id": "a022179c-5701-4b54-828e-8ba17e80bfa8",
   "metadata": {},
   "outputs": [
    {
     "name": "stdout",
     "output_type": "stream",
     "text": [
      "{'name': 'Alice', 'age': 25}\n"
     ]
    }
   ],
   "source": [
    "original_dict = {\"name\": \"Alice\", \"age\": 25}\n",
    "copy_dict = original_dict.copy()\n",
    "print(copy_dict)  # Output: {'name': 'Alice', 'age': 25}"
   ]
  },
  {
   "cell_type": "markdown",
   "id": "11bab7ba-ba17-445d-a265-6a9ecebe46f6",
   "metadata": {},
   "source": [
    "#### 5.3 Clearing a dictionary\n",
    "\n",
    "You can remove all key-value pairs from a dictionary using the `clear()` method."
   ]
  },
  {
   "cell_type": "code",
   "execution_count": 15,
   "id": "b6444da4-f4d2-4c61-b735-e07b517b9466",
   "metadata": {},
   "outputs": [
    {
     "name": "stdout",
     "output_type": "stream",
     "text": [
      "{}\n"
     ]
    }
   ],
   "source": [
    "my_dict = {\"name\": \"Alice\", \"age\": 25, \"city\": \"New York\"}\n",
    "my_dict.clear()\n",
    "print(my_dict)  # Output: {}"
   ]
  },
  {
   "cell_type": "markdown",
   "id": "80172aa9-c0f2-447a-b481-7a60604cf948",
   "metadata": {},
   "source": [
    "#### 5.4 Checking membership\n",
    "\n",
    "You can check if a key exists in a dictionary using the `in` keyword."
   ]
  },
  {
   "cell_type": "code",
   "execution_count": 16,
   "id": "ded838a1-4149-47a8-992a-019da89d78c3",
   "metadata": {},
   "outputs": [
    {
     "name": "stdout",
     "output_type": "stream",
     "text": [
      "True\n",
      "False\n"
     ]
    }
   ],
   "source": [
    "my_dict = {\"name\": \"Alice\", \"age\": 25, \"city\": \"New York\"}\n",
    "print(\"name\" in my_dict)  # Output: True\n",
    "print(\"country\" in my_dict)  # Output: False"
   ]
  },
  {
   "cell_type": "markdown",
   "id": "f839592b-736d-47ce-bd98-7f4fec836b6f",
   "metadata": {},
   "source": [
    "---"
   ]
  },
  {
   "cell_type": "markdown",
   "id": "6fd61702-126b-47e1-8bd5-4533daa03769",
   "metadata": {},
   "source": [
    "### 6- Dictionary Comprehensions\n",
    "\n",
    "Dictionary comprehensions allow you to create dictionaries using an expression inside curly braces `{}`."
   ]
  },
  {
   "cell_type": "code",
   "execution_count": 17,
   "id": "5a8077fe-ac22-48ca-b8ba-4de3039c085e",
   "metadata": {},
   "outputs": [
    {
     "name": "stdout",
     "output_type": "stream",
     "text": [
      "{0: 0, 1: 1, 2: 4, 3: 9, 4: 16}\n"
     ]
    }
   ],
   "source": [
    "squared_dict = {x: x**2 for x in range(5)}\n",
    "print(squared_dict)  # Output: {0: 0, 1: 1, 2: 4, 3: 9, 4: 16}"
   ]
  },
  {
   "cell_type": "markdown",
   "id": "5d0891ba-d6ad-4ccc-8e4f-a132d939d1bc",
   "metadata": {},
   "source": [
    "---"
   ]
  },
  {
   "cell_type": "markdown",
   "id": "234369f6-8d32-4297-b45f-a6fd2c5ce114",
   "metadata": {},
   "source": [
    "### 7- Nested Dictionaries"
   ]
  },
  {
   "cell_type": "markdown",
   "id": "96dec45e-b96a-4f50-9ab5-371d686f93d6",
   "metadata": {},
   "source": [
    "#### 7.1 Accessing elements in nested dictionaries\n",
    "\n",
    "You can access elements in nested dictionaries using multiple square brackets `[]`."
   ]
  },
  {
   "cell_type": "code",
   "execution_count": 18,
   "id": "30a2be72-714f-4807-a183-dc45d7b6fdfc",
   "metadata": {},
   "outputs": [
    {
     "name": "stdout",
     "output_type": "stream",
     "text": [
      "New York\n"
     ]
    }
   ],
   "source": [
    "nested_dict = {\n",
    "    \"person\": {\n",
    "        \"name\": \"Alice\",\n",
    "        \"age\": 25,\n",
    "        \"address\": {\n",
    "            \"city\": \"New York\",\n",
    "            \"zip\": \"10001\"\n",
    "        }\n",
    "    }\n",
    "}\n",
    "print(nested_dict[\"person\"][\"address\"][\"city\"])  # Output: New York"
   ]
  },
  {
   "cell_type": "markdown",
   "id": "bebcc1b4-fd7c-45f1-bcf3-44489a75194d",
   "metadata": {},
   "source": [
    "#### 7.2 Iterating through nested dictionaries\n",
    "\n",
    "You can iterate over the elements of a nested dictionary using a `for` loop."
   ]
  },
  {
   "cell_type": "code",
   "execution_count": 19,
   "id": "a053f111-6219-4c91-a39e-4932bf9ff44d",
   "metadata": {},
   "outputs": [
    {
     "name": "stdout",
     "output_type": "stream",
     "text": [
      "person: {'name': 'Alice', 'age': 25, 'address': {'city': 'New York', 'zip': '10001'}}\n",
      "  name: Alice\n",
      "  age: 25\n",
      "  address: {'city': 'New York', 'zip': '10001'}\n"
     ]
    }
   ],
   "source": [
    "for key, value in nested_dict.items():\n",
    "    print(f\"{key}: {value}\")\n",
    "\n",
    "    if isinstance(value, dict):\n",
    "        for sub_key, sub_value in value.items():\n",
    "            print(f\"  {sub_key}: {sub_value}\")\n"
   ]
  },
  {
   "cell_type": "markdown",
   "id": "3bbe92f9-d96e-4fb9-a266-6c1e60c15b70",
   "metadata": {},
   "source": [
    "---"
   ]
  },
  {
   "cell_type": "markdown",
   "id": "2ca6230c-aef1-4c26-9000-61adb629e357",
   "metadata": {},
   "source": [
    "### 8- Advanced Topics"
   ]
  },
  {
   "cell_type": "markdown",
   "id": "b41b165b-fa99-4627-aee4-a055bae939c4",
   "metadata": {},
   "source": [
    "#### 8.1 Default dictionaries with defaultdict\n",
    "\n",
    "The `defaultdict` from the `collections` module allows you to create dictionaries with default values for missing keys."
   ]
  },
  {
   "cell_type": "code",
   "execution_count": 20,
   "id": "1d90e2a7-59c2-4ca9-aa7b-78c615c52570",
   "metadata": {},
   "outputs": [
    {
     "name": "stdout",
     "output_type": "stream",
     "text": [
      "defaultdict(<class 'int'>, {'a': 1})\n"
     ]
    }
   ],
   "source": [
    "from collections import defaultdict\n",
    "\n",
    "default_dict = defaultdict(int)\n",
    "default_dict[\"a\"] += 1\n",
    "print(default_dict)  # Output: defaultdict(<class 'int'>, {'a': 1})"
   ]
  },
  {
   "cell_type": "markdown",
   "id": "051c6b52-b069-4c9b-bb6c-fee77960f7ea",
   "metadata": {},
   "source": [
    "#### 8.2 Ordered dictionaries with OrderedDict\n",
    "\n",
    "The `OrderedDict` from the `collections` module remembers the order in which items were inserted."
   ]
  },
  {
   "cell_type": "code",
   "execution_count": 21,
   "id": "cc711449-8b5a-485f-8006-4e389aaa2656",
   "metadata": {},
   "outputs": [
    {
     "name": "stdout",
     "output_type": "stream",
     "text": [
      "OrderedDict({'name': 'Alice', 'age': 25, 'city': 'New York'})\n"
     ]
    }
   ],
   "source": [
    "from collections import OrderedDict\n",
    "\n",
    "ordered_dict = OrderedDict()\n",
    "ordered_dict[\"name\"] = \"Alice\"\n",
    "ordered_dict[\"age\"] = 25\n",
    "ordered_dict[\"city\"] = \"New York\"\n",
    "print(ordered_dict)  # Output: OrderedDict([('name', 'Alice'), ('age', 25), ('city', 'New York')])"
   ]
  },
  {
   "cell_type": "markdown",
   "id": "d8964063-a925-4133-937f-855d24cd06e6",
   "metadata": {},
   "source": [
    "#### 8.3 Dictionary view objects\n",
    "\n",
    "Dictionary view objects provide a dynamic view of dictionary elements, which means they reflect changes to the dictionary."
   ]
  },
  {
   "cell_type": "code",
   "execution_count": 22,
   "id": "4e7b2a3e-7336-41e8-8c01-38a6c3d0d63c",
   "metadata": {},
   "outputs": [
    {
     "name": "stdout",
     "output_type": "stream",
     "text": [
      "dict_keys(['name', 'age'])\n",
      "dict_values(['Alice', 25])\n",
      "dict_items([('name', 'Alice'), ('age', 25)])\n",
      "dict_keys(['name', 'age', 'city'])\n",
      "dict_values(['Alice', 25, 'New York'])\n",
      "dict_items([('name', 'Alice'), ('age', 25), ('city', 'New York')])\n"
     ]
    }
   ],
   "source": [
    "my_dict = {\"name\": \"Alice\", \"age\": 25}\n",
    "keys_view = my_dict.keys()\n",
    "values_view = my_dict.values()\n",
    "items_view = my_dict.items()\n",
    "\n",
    "print(keys_view)   # Output: dict_keys(['name', 'age'])\n",
    "print(values_view) # Output: dict_values(['Alice', 25])\n",
    "print(items_view)  # Output: dict_items([('name', 'Alice'), ('age', 25)])\n",
    "\n",
    "my_dict[\"city\"] = \"New York\"\n",
    "\n",
    "print(keys_view)   # Output: dict_keys(['name', 'age', 'city'])\n",
    "print(values_view) # Output: dict_values(['Alice', 25, 'New York'])\n",
    "print(items_view)  # Output: dict_items([('name', 'Alice'), ('age', 25), ('city', 'New York')])"
   ]
  },
  {
   "cell_type": "markdown",
   "id": "79461f9c-bba8-460b-99fd-07f3b26f8f90",
   "metadata": {},
   "source": [
    "---"
   ]
  },
  {
   "cell_type": "markdown",
   "id": "25898e7c-6a5e-4e74-8379-ebb2edef413f",
   "metadata": {},
   "source": [
    "# Practice Exercises!\n",
    "## Explore More:\n",
    "- [**geeksforgeeks python dictionary exercies**](https://www.geeksforgeeks.org/python-dictionary-exercise/)\n",
    "- [**w3school python dictionary exercies**](https://www.w3schools.com/python/python_dictionaries_exercises.asp)"
   ]
  },
  {
   "cell_type": "markdown",
   "id": "fd6a6503-4e08-4960-852e-41eb4d879d0e",
   "metadata": {},
   "source": [
    "---"
   ]
  },
  {
   "cell_type": "markdown",
   "id": "c6314832-6ed2-4669-ad73-3016bdf6846c",
   "metadata": {},
   "source": [
    "# THE END"
   ]
  }
 ],
 "metadata": {
  "kernelspec": {
   "display_name": "Python 3 (ipykernel)",
   "language": "python",
   "name": "python3"
  },
  "language_info": {
   "codemirror_mode": {
    "name": "ipython",
    "version": 3
   },
   "file_extension": ".py",
   "mimetype": "text/x-python",
   "name": "python",
   "nbconvert_exporter": "python",
   "pygments_lexer": "ipython3",
   "version": "3.12.3"
  }
 },
 "nbformat": 4,
 "nbformat_minor": 5
}
