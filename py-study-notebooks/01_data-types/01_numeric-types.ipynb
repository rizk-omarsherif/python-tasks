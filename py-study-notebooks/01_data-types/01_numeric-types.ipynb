{
 "cells": [
  {
   "cell_type": "markdown",
   "id": "926e8bdd-3b20-4749-9fc4-38f0e018f8ef",
   "metadata": {},
   "source": [
    "# Exercise 1: Numeric Data Types in Python"
   ]
  },
  {
   "cell_type": "markdown",
   "id": "39016c11-7478-4960-869b-7b2c2d883b88",
   "metadata": {},
   "source": [
    "---"
   ]
  },
  {
   "cell_type": "markdown",
   "id": "aa54cd5d-17f2-484c-a98b-34f71bb19e01",
   "metadata": {},
   "source": [
    "## 1- Integer\n",
    "- **Description**: Represents whole numbers, positive or negative or zero, without decimals."
   ]
  },
  {
   "cell_type": "code",
   "execution_count": 13,
   "id": "2e23345e-0f4e-43dd-ac0c-ded4e569dc5a",
   "metadata": {},
   "outputs": [],
   "source": [
    "x = 5"
   ]
  },
  {
   "cell_type": "code",
   "execution_count": 14,
   "id": "aea3369c-ef2f-4a72-9613-96e039fc2f8b",
   "metadata": {},
   "outputs": [
    {
     "name": "stdout",
     "output_type": "stream",
     "text": [
      "x is <class 'int'>\n"
     ]
    }
   ],
   "source": [
    "# Printing the type of x\n",
    "print(f\"x is {type(x)}\")"
   ]
  },
  {
   "cell_type": "code",
   "execution_count": 15,
   "id": "bb2fb53d-768d-49ee-8ea6-78bce4457f2a",
   "metadata": {},
   "outputs": [
    {
     "name": "stdout",
     "output_type": "stream",
     "text": [
      "Is x an int class object?\n",
      "Answer: True\n"
     ]
    }
   ],
   "source": [
    "# Checking if x is an instance of the int class\n",
    "print(f\"Is x an int class object?\\nAnswer: {isinstance(x, int)}\")"
   ]
  },
  {
   "cell_type": "markdown",
   "id": "2adfbfdb-8c1f-4aaa-bad3-c7d31cb8518a",
   "metadata": {},
   "source": [
    "---\n",
    "## 2- Float\n",
    "- **Description**: Represents real numbers, positive or negative, with a decimal point."
   ]
  },
  {
   "cell_type": "code",
   "execution_count": 16,
   "id": "10afc122-bafb-4ef5-84a4-c2861a0e050c",
   "metadata": {},
   "outputs": [],
   "source": [
    "y = -12.00"
   ]
  },
  {
   "cell_type": "code",
   "execution_count": 17,
   "id": "3d507937-e2c8-4fbf-a7db-97be319e646f",
   "metadata": {},
   "outputs": [
    {
     "name": "stdout",
     "output_type": "stream",
     "text": [
      "y is <class 'float'>\n"
     ]
    }
   ],
   "source": [
    "# Printing the type of y\n",
    "print(f\"y is {type(y)}\")"
   ]
  },
  {
   "cell_type": "code",
   "execution_count": 18,
   "id": "64e62950-6fc4-453b-bba3-1daf3c76823c",
   "metadata": {},
   "outputs": [
    {
     "name": "stdout",
     "output_type": "stream",
     "text": [
      "Is y an int  class object? Answer: False\n",
      "Is y a float class object? Answer: True\n"
     ]
    }
   ],
   "source": [
    "# Checking if y is an instance of the float class\n",
    "print(f\"Is y an int  class object? Answer: {isinstance(y, int)}\")\n",
    "print(f\"Is y a float class object? Answer: {isinstance(y, float)}\")"
   ]
  },
  {
   "cell_type": "markdown",
   "id": "2911912b-93a9-49ed-a3c6-aa18f30acca4",
   "metadata": {},
   "source": [
    "---\n",
    "## 3- Complex\n",
    "- **Description**: Represents complex numbers with a real and imaginary part."
   ]
  },
  {
   "cell_type": "code",
   "execution_count": 19,
   "id": "40e02d12-1a8f-447d-a87a-39a14b1bf4b1",
   "metadata": {},
   "outputs": [],
   "source": [
    "z = 1 + 2j"
   ]
  },
  {
   "cell_type": "code",
   "execution_count": 20,
   "id": "a127aac6-2f1b-468a-bf89-480141fca029",
   "metadata": {},
   "outputs": [
    {
     "name": "stdout",
     "output_type": "stream",
     "text": [
      "z is <class 'complex'>\n"
     ]
    }
   ],
   "source": [
    "# Printing the type of z\n",
    "print(f\"z is {type(z)}\")"
   ]
  },
  {
   "cell_type": "code",
   "execution_count": 21,
   "id": "9a3b8641-33e3-4208-a558-8e468b135c78",
   "metadata": {},
   "outputs": [
    {
     "name": "stdout",
     "output_type": "stream",
     "text": [
      "real part = 1.0\n",
      "imaginary part = 2.0\n"
     ]
    }
   ],
   "source": [
    "# Printing the real part of z\n",
    "print(f\"real part = {z.real}\")\n",
    "\n",
    "# Printing the imaginary part of z\n",
    "print(f\"imaginary part = {z.imag}\")"
   ]
  }
 ],
 "metadata": {
  "kernelspec": {
   "display_name": "Python 3 (ipykernel)",
   "language": "python",
   "name": "python3"
  },
  "language_info": {
   "codemirror_mode": {
    "name": "ipython",
    "version": 3
   },
   "file_extension": ".py",
   "mimetype": "text/x-python",
   "name": "python",
   "nbconvert_exporter": "python",
   "pygments_lexer": "ipython3",
   "version": "3.12.3"
  }
 },
 "nbformat": 4,
 "nbformat_minor": 5
}
