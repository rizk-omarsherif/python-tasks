{
 "cells": [
  {
   "cell_type": "markdown",
   "id": "77ff5369-0100-4467-8f10-4e968c836867",
   "metadata": {},
   "source": [
    "# Exercise 4: Tuples in Python"
   ]
  },
  {
   "cell_type": "markdown",
   "id": "2ea4c50f-52f7-470f-b570-7f7f6e628a44",
   "metadata": {},
   "source": [
    "---"
   ]
  },
  {
   "cell_type": "markdown",
   "id": "9f863a63-33a6-4ede-a717-f203e121f96a",
   "metadata": {},
   "source": [
    "## Table of Contents\n",
    "\n",
    "1. **Definition**\n",
    "<p></p>\n",
    "\n",
    "2. **Creating Tuples**\n",
    "   - 2.1 Creating a tuple\n",
    "   - 2.2 Creating a tuple with elements of different data types\n",
    "   - 2.3 Creating an empty tuple\n",
    "   - 2.4 Creating a single-element tuple\n",
    "<p> </p>\n",
    "\n",
    "3. **Accessing Tuple Elements**\n",
    "   - 3.1 Indexing\n",
    "   - 3.2 Negative Indexing\n",
    "   - 3.3 Slicing to get sub-tuples\n",
    "<p> </p>\n",
    "\n",
    "4. **Basic Tuple Operations**\n",
    "   - 4.1 Concatenating tuples\n",
    "   - 4.2 Repeating tuples\n",
    "   - 4.3 Checking membership in a tuple\n",
    "   - 4.4 Iterating over a tuple\n",
    "<p> </p>\n",
    "\n",
    "5. **Tuple Methods**\n",
    "   - 5.1 Counting occurrences of an element\n",
    "   - 5.2 Finding the index of an element\n",
    "<p> </p>\n",
    "\n",
    "6. **Tuple Unpacking**\n",
    "<p> </p>\n",
    "\n",
    "7. **Nested Tuples**\n",
    "   - 7.1 Accessing elements in nested tuples\n",
    "   - 7.2 Iterating through nested tuples\n",
    "<p> </p>\n",
    "\n",
    "8. **Advanced Topics**\n",
    "   - 8.1 Using tuples as dictionary keys\n",
    "   - 8.2 Returning multiple values from a function\n",
    "   - 8.3 Named tuples\n",
    "   - 8.4 Immutable nature of tuples and performance considerations\n",
    "<p> </p>\n",
    "\n",
    "9. **Additional Topics**\n",
    "   - 9.1 Converting between tuples and lists\n",
    "   - 9.2 Tuple packing and unpacking\n",
    "   - 9.3 Immutability and hashability\n",
    "   - 9.4 Memory usage\n",
    "<p> </p>"
   ]
  },
  {
   "cell_type": "markdown",
   "id": "bb8341a3-66ad-40a1-85a3-906065aac066",
   "metadata": {},
   "source": [
    "---"
   ]
  },
  {
   "cell_type": "markdown",
   "id": "b5ba581a-6ae5-41ca-aeb7-77f19d415e90",
   "metadata": {},
   "source": [
    "### 1- Definition"
   ]
  },
  {
   "cell_type": "markdown",
   "id": "f738593a-b7ef-4e60-b101-db77a911fa19",
   "metadata": {},
   "source": [
    "- **Immutable**, **ordered**, **collection** of elements. Tuples are similar to lists, but unlike lists, tuples cannot be changed after they are created."
   ]
  },
  {
   "cell_type": "markdown",
   "id": "623e7b11-fc27-490d-8322-9b2da2c91579",
   "metadata": {},
   "source": [
    "---"
   ]
  },
  {
   "cell_type": "markdown",
   "id": "79234531-6c58-47d3-b602-5d5b9581ee13",
   "metadata": {},
   "source": [
    "### 2- Creating Tuples"
   ]
  },
  {
   "cell_type": "markdown",
   "id": "85a77278-44fe-4d28-9aa4-4eabc552a480",
   "metadata": {},
   "source": [
    "#### 2.1 Creating a tuple\n",
    "\n",
    "You can create a tuple by placing all the items (elements) inside parentheses `()`, separated by commas."
   ]
  },
  {
   "cell_type": "code",
   "execution_count": 2,
   "id": "8f058c5c-e56f-42ad-bf0e-b9b37c125f41",
   "metadata": {},
   "outputs": [],
   "source": [
    "my_tuple = (10, 20, 30, 40)"
   ]
  },
  {
   "cell_type": "markdown",
   "id": "5c18b1db-d0b8-4f19-9dc8-14658e0c4717",
   "metadata": {},
   "source": [
    "#### 2.2 Creating a tuple with elements of different data types\n",
    "\n",
    "Tuples can contain elements of different data types, such as integers, strings, and even other tuples."
   ]
  },
  {
   "cell_type": "code",
   "execution_count": 3,
   "id": "3ff645a0-d00d-4ff9-981e-cfa85121db85",
   "metadata": {},
   "outputs": [],
   "source": [
    "mixed_tuple = (1, \"Hello\", 3.14, (5, 6, 7))"
   ]
  },
  {
   "cell_type": "markdown",
   "id": "16146b9a-1e48-4ca9-ab6a-7b1cd85251ed",
   "metadata": {},
   "source": [
    "#### 2.3 Creating an empty tuple\n",
    "\n",
    "An empty tuple can be created by using empty parentheses."
   ]
  },
  {
   "cell_type": "code",
   "execution_count": 4,
   "id": "f4b86270-3786-4c6d-81c0-a9a68dcfa2dd",
   "metadata": {},
   "outputs": [],
   "source": [
    "empty_tuple = ()"
   ]
  },
  {
   "cell_type": "markdown",
   "id": "c96a98df-30e7-4773-90d3-971a349f1a52",
   "metadata": {},
   "source": [
    "#### 2.4 Creating a single-element tuple\n",
    "\n",
    "A single-element tuple requires a comma after the element."
   ]
  },
  {
   "cell_type": "code",
   "execution_count": 5,
   "id": "b23c976b-2678-464b-86f4-9600bf77f0a0",
   "metadata": {},
   "outputs": [],
   "source": [
    "single_element_tuple = (5,)"
   ]
  },
  {
   "cell_type": "markdown",
   "id": "8f2ff06b-4dbc-48bc-889b-577939993dbe",
   "metadata": {},
   "source": [
    "---"
   ]
  },
  {
   "cell_type": "markdown",
   "id": "c3fe82f5-7d0b-4844-9f05-04b2886b3ad9",
   "metadata": {},
   "source": [
    "### 3- Accessing Tuple Elements"
   ]
  },
  {
   "cell_type": "markdown",
   "id": "7bdcc15e-b0d6-47b7-8e0f-6016bb20e67a",
   "metadata": {},
   "source": [
    "### 3.1 Indexing\n",
    "\n",
    "Elements in a tuple can be accessed by their index. The first element has an index of 0."
   ]
  },
  {
   "cell_type": "code",
   "execution_count": 11,
   "id": "b385b7b2-e3dc-40af-a475-1887846cf487",
   "metadata": {},
   "outputs": [
    {
     "data": {
      "text/plain": [
       "20"
      ]
     },
     "execution_count": 11,
     "metadata": {},
     "output_type": "execute_result"
    }
   ],
   "source": [
    "my_tuple[1]            # Output: 20"
   ]
  },
  {
   "cell_type": "markdown",
   "id": "ae2046fa-336d-44e4-9fee-c91d91546ccc",
   "metadata": {},
   "source": [
    "#### 3.2 Negative Indexing\n",
    "\n",
    "Negative indexing allows you to access elements from the end of the tuple."
   ]
  },
  {
   "cell_type": "code",
   "execution_count": 12,
   "id": "c5c6daf6-a583-4803-8921-29f400d7211d",
   "metadata": {},
   "outputs": [
    {
     "name": "stdout",
     "output_type": "stream",
     "text": [
      "40\n"
     ]
    }
   ],
   "source": [
    "print(my_tuple[-1])    # Output: 40"
   ]
  },
  {
   "cell_type": "markdown",
   "id": "1d093f52-1ba2-489e-a93a-ff538b30f78c",
   "metadata": {},
   "source": [
    "#### 3.3 Slicing to get sub-tuples\n",
    "\n",
    "Slicing allows you to obtain a sub-tuple by specifying a range of indices."
   ]
  },
  {
   "cell_type": "code",
   "execution_count": 13,
   "id": "21467571-6dc5-4336-91e0-7b6d58b5f9f6",
   "metadata": {},
   "outputs": [
    {
     "name": "stdout",
     "output_type": "stream",
     "text": [
      "(20, 30, 40)\n"
     ]
    }
   ],
   "source": [
    "print(my_tuple[1:4])   # Output: (20, 30, 40)"
   ]
  },
  {
   "cell_type": "code",
   "execution_count": 14,
   "id": "94beb0c2-d4f9-4f7d-a9b1-8ca82508f505",
   "metadata": {},
   "outputs": [
    {
     "name": "stdout",
     "output_type": "stream",
     "text": [
      "(20, 40)\n"
     ]
    }
   ],
   "source": [
    "print(my_tuple[1:4:2]) # Ouptput: (20,40)"
   ]
  },
  {
   "cell_type": "markdown",
   "id": "39fd54c0-3f0c-4c56-a914-68f8ea0a359b",
   "metadata": {},
   "source": [
    "---"
   ]
  },
  {
   "cell_type": "markdown",
   "id": "335530c7-cc01-4c45-87d7-3ccc38a3aa68",
   "metadata": {},
   "source": [
    "### 4- Basic Tuple Operations"
   ]
  },
  {
   "cell_type": "markdown",
   "id": "6f7281dd-e922-4cda-a0b3-c30fa3b1a6d7",
   "metadata": {},
   "source": [
    "#### 4.1 Concatenating tuples\n",
    "\n",
    "Tuples can be concatenated using the `+` operator."
   ]
  },
  {
   "cell_type": "code",
   "execution_count": 7,
   "id": "2db7aa16-1afb-43bc-9b66-bad4de50e526",
   "metadata": {},
   "outputs": [
    {
     "name": "stdout",
     "output_type": "stream",
     "text": [
      "(1, 2, 3, 4, 5, 6)\n"
     ]
    }
   ],
   "source": [
    "tuple1 = (1, 2, 3)\n",
    "tuple2 = (4, 5, 6)\n",
    "combined_tuple = tuple1 + tuple2\n",
    "print(combined_tuple)  # Output: (1, 2, 3, 4, 5, 6)"
   ]
  },
  {
   "cell_type": "markdown",
   "id": "49703ebb-0b00-4f20-9cc9-1b6e711085a0",
   "metadata": {},
   "source": [
    "#### 4.2 Repeating tuples\n",
    "\n",
    "Tuples can be repeated using the `*` operator."
   ]
  },
  {
   "cell_type": "code",
   "execution_count": 8,
   "id": "ba7c07b6-511f-4f2f-9764-e1a5ea5da790",
   "metadata": {},
   "outputs": [
    {
     "name": "stdout",
     "output_type": "stream",
     "text": [
      "(1, 2, 3, 1, 2, 3, 1, 2, 3)\n"
     ]
    }
   ],
   "source": [
    "my_tuple = (1, 2, 3)\n",
    "repeated_tuple = my_tuple * 3\n",
    "print(repeated_tuple)  # Output: (1, 2, 3, 1, 2, 3, 1, 2, 3)\n"
   ]
  },
  {
   "cell_type": "markdown",
   "id": "bd937ff5-e27f-4a28-8c76-831d5360447a",
   "metadata": {},
   "source": [
    "#### 4.3 Checking membership in a tuple\n",
    "\n",
    "Use the `in` keyword to check if an element exists in a tuple."
   ]
  },
  {
   "cell_type": "code",
   "execution_count": 9,
   "id": "74a3afc3-736f-4565-99be-1719bfe08566",
   "metadata": {},
   "outputs": [
    {
     "name": "stdout",
     "output_type": "stream",
     "text": [
      "True\n"
     ]
    }
   ],
   "source": [
    "my_tuple = (10, 20, 30, 40)\n",
    "print(20 in my_tuple)  # Output: True\n"
   ]
  },
  {
   "cell_type": "markdown",
   "id": "a5891dfd-8220-4fef-9a8f-a9a9bb50c048",
   "metadata": {},
   "source": [
    "#### 4.4 Iterating over a tuple\n",
    "\n",
    "You can iterate over the elements of a tuple using a for loop."
   ]
  },
  {
   "cell_type": "code",
   "execution_count": 20,
   "id": "1b9bb70d-46cf-4e8c-bd3a-b9d9676dabec",
   "metadata": {},
   "outputs": [
    {
     "name": "stdout",
     "output_type": "stream",
     "text": [
      "10\n",
      "20\n",
      "30\n",
      "40\n"
     ]
    }
   ],
   "source": [
    "my_tuple = (10, 20, 30, 40)\n",
    "for element in my_tuple:\n",
    "    print(element)"
   ]
  },
  {
   "cell_type": "markdown",
   "id": "c9b219ee-5a88-494c-ab36-cea4655cbebe",
   "metadata": {},
   "source": [
    "---"
   ]
  },
  {
   "cell_type": "markdown",
   "id": "b005cc8f-cfc3-4fcf-8db1-f488ceadc593",
   "metadata": {},
   "source": [
    "### 5- Tuple Methods"
   ]
  },
  {
   "cell_type": "markdown",
   "id": "03afb99e-e95b-4264-9407-d8cf5c4375a9",
   "metadata": {},
   "source": [
    "#### 5.1 Counting occurrences of an element\n",
    "\n",
    "The `count()` method returns the number of occurrences of an element in a tuple."
   ]
  },
  {
   "cell_type": "code",
   "execution_count": 23,
   "id": "29e482fe-d846-4871-9274-f374f3942716",
   "metadata": {},
   "outputs": [
    {
     "name": "stdout",
     "output_type": "stream",
     "text": [
      "3\n"
     ]
    }
   ],
   "source": [
    "my_tuple = (1, 2, 3, 1, 1, 4)\n",
    "print(my_tuple.count(1))  # Output: 3"
   ]
  },
  {
   "cell_type": "markdown",
   "id": "196a12e9-8f93-4ea4-bf0d-efab5673fa71",
   "metadata": {},
   "source": [
    "#### 5.2 Finding the index of an element\n",
    "\n",
    "The `index()` method returns the first index of an element in a tuple."
   ]
  },
  {
   "cell_type": "code",
   "execution_count": 24,
   "id": "f62bb641-b0ed-4e2a-9091-25cf32e2b422",
   "metadata": {},
   "outputs": [
    {
     "name": "stdout",
     "output_type": "stream",
     "text": [
      "0\n"
     ]
    }
   ],
   "source": [
    "my_tuple = (1, 2, 3, 1, 4)\n",
    "print(my_tuple.index(1))  # Output: 0"
   ]
  },
  {
   "cell_type": "markdown",
   "id": "970074ae-d72a-4b03-81ff-09bcb7ca5c8a",
   "metadata": {},
   "source": [
    "---"
   ]
  },
  {
   "cell_type": "markdown",
   "id": "21e6c97d-9c1e-447a-86b9-d7686c7b3bfc",
   "metadata": {},
   "source": [
    "### 6- Tuple Unpacking"
   ]
  },
  {
   "cell_type": "markdown",
   "id": "0c0efcf4-0a51-4847-b36e-b3b30bafb6ce",
   "metadata": {},
   "source": [
    "Tuple unpacking allows you to assign elements of a tuple to variables."
   ]
  },
  {
   "cell_type": "code",
   "execution_count": 29,
   "id": "d35e01ed-5d65-42b2-b338-0ca9e9a56ea1",
   "metadata": {},
   "outputs": [
    {
     "name": "stdout",
     "output_type": "stream",
     "text": [
      "1 2 3 1 4\n"
     ]
    }
   ],
   "source": [
    "a, b, c, d, e = my_tuple\n",
    "print(a, b, c, d, e)  # Output: 1 2 3 1 4"
   ]
  },
  {
   "cell_type": "markdown",
   "id": "292f361d-c0b4-4a17-abee-abf242d54311",
   "metadata": {},
   "source": [
    "---"
   ]
  },
  {
   "cell_type": "markdown",
   "id": "42098923-2cd3-42fd-bb88-364fd53ae732",
   "metadata": {},
   "source": [
    "### 7- Nested Tuples"
   ]
  },
  {
   "cell_type": "markdown",
   "id": "4a72ce6a-db7a-45fc-a612-65675a1f714f",
   "metadata": {},
   "source": [
    "#### 7.1 Accessing elements in nested tuples\n",
    "\n",
    "You can access elements in nested tuples by using multiple indices."
   ]
  },
  {
   "cell_type": "code",
   "execution_count": 30,
   "id": "71a939b3-9924-4f5b-b7d7-29007b75110c",
   "metadata": {},
   "outputs": [
    {
     "name": "stdout",
     "output_type": "stream",
     "text": [
      "6\n"
     ]
    }
   ],
   "source": [
    "nested_tuple = ((1, 2, 3), (4, 5, 6), (7, 8, 9))\n",
    "print(nested_tuple[1][2])  # Output: 6"
   ]
  },
  {
   "cell_type": "markdown",
   "id": "fc3c3ca7-ce28-477a-9e36-3582b70824ef",
   "metadata": {},
   "source": [
    "#### 7.2 Iterating through nested tuples\n",
    "\n",
    "You can iterate through nested tuples using nested loops."
   ]
  },
  {
   "cell_type": "code",
   "execution_count": 31,
   "id": "882fbd3f-8cf1-46ad-b52c-4d4a52a1a9ce",
   "metadata": {},
   "outputs": [
    {
     "name": "stdout",
     "output_type": "stream",
     "text": [
      "1\n",
      "2\n",
      "3\n",
      "4\n",
      "5\n",
      "6\n",
      "7\n",
      "8\n",
      "9\n"
     ]
    }
   ],
   "source": [
    "for sub_tuple in nested_tuple:\n",
    "    for item in sub_tuple:\n",
    "        print(item)"
   ]
  },
  {
   "cell_type": "markdown",
   "id": "9329f784-00ed-419b-8f0e-770593a42532",
   "metadata": {},
   "source": [
    "---"
   ]
  },
  {
   "cell_type": "markdown",
   "id": "ff1cfb31-cb6f-4299-8c49-1d30fc7b7dc4",
   "metadata": {},
   "source": [
    "### 8- Advanced Topics"
   ]
  },
  {
   "cell_type": "markdown",
   "id": "61b9dc64-d91a-4f7b-812f-a9fb9f7e2714",
   "metadata": {},
   "source": [
    "#### 8.1 Using tuples as dictionary keys\n",
    "\n",
    "Since tuples are immutable, they can be used as keys in dictionaries."
   ]
  },
  {
   "cell_type": "code",
   "execution_count": 32,
   "id": "f9e28404-bb6b-447c-82d9-5577166efb3b",
   "metadata": {},
   "outputs": [
    {
     "name": "stdout",
     "output_type": "stream",
     "text": [
      "point A\n"
     ]
    }
   ],
   "source": [
    "coordinates = {(0, 0): \"origin\", (1, 2): \"point A\"}\n",
    "print(coordinates[(1, 2)])  # Output: point A"
   ]
  },
  {
   "cell_type": "markdown",
   "id": "260743cb-8e5f-4ca7-ab5e-e3f7ac88c1d2",
   "metadata": {},
   "source": [
    "#### 8.2 Returning multiple values from a function\n",
    "\n",
    "Functions can return multiple values as tuples."
   ]
  },
  {
   "cell_type": "code",
   "execution_count": 33,
   "id": "b22f78e9-f95d-4d34-af68-1701e457d6af",
   "metadata": {},
   "outputs": [
    {
     "name": "stdout",
     "output_type": "stream",
     "text": [
      "(1, 5)\n"
     ]
    }
   ],
   "source": [
    "def get_min_max(numbers):\n",
    "    return min(numbers), max(numbers)\n",
    "\n",
    "result = get_min_max([1, 2, 3, 4, 5])\n",
    "print(result)  # Output: (1, 5)"
   ]
  },
  {
   "cell_type": "markdown",
   "id": "9e694729-9812-4719-9ea6-5f5f6c77cb00",
   "metadata": {},
   "source": [
    "#### 8.3 Named tuples\n",
    "\n",
    "Named tuples provide a way to define tuples with named fields."
   ]
  },
  {
   "cell_type": "code",
   "execution_count": 34,
   "id": "cd15c713-be8d-4b7b-8051-71340fc61e60",
   "metadata": {},
   "outputs": [
    {
     "name": "stdout",
     "output_type": "stream",
     "text": [
      "1 2\n"
     ]
    }
   ],
   "source": [
    "from collections import namedtuple\n",
    "\n",
    "Point = namedtuple('Point', 'x y')\n",
    "p = Point(1, 2)\n",
    "print(p.x, p.y)  # Output: 1 2"
   ]
  },
  {
   "cell_type": "markdown",
   "id": "f54896f8-5cf8-4432-9633-36c25c60cf85",
   "metadata": {},
   "source": [
    "#### 8.4 Immutable nature of tuples and performance considerations\n",
    "\n",
    "Tuples, being immutable, can be used to ensure that data does not change, which can be beneficial for performance and memory usage."
   ]
  },
  {
   "cell_type": "code",
   "execution_count": 37,
   "id": "65043b2e-694c-4057-a9b9-d7488791cce9",
   "metadata": {},
   "outputs": [
    {
     "name": "stdout",
     "output_type": "stream",
     "text": [
      "Error Raised\n"
     ]
    }
   ],
   "source": [
    "my_tuple = (1, 2, 3)\n",
    "\n",
    "try:\n",
    "    my_tuple[0] = 10  # This will raise an error\n",
    "except:\n",
    "    print(\"Error Raised\")"
   ]
  },
  {
   "cell_type": "markdown",
   "id": "d6b39d9f-86e7-4744-a1e0-e0f14eaf98c2",
   "metadata": {},
   "source": [
    "---"
   ]
  },
  {
   "cell_type": "markdown",
   "id": "1629d05e-55cb-40f5-be78-ee3eba097a2a",
   "metadata": {},
   "source": [
    "### 9- Additional Topics"
   ]
  },
  {
   "cell_type": "markdown",
   "id": "9727e79b-15f3-496c-80f9-dff3a0399de4",
   "metadata": {},
   "source": [
    "#### 9.1 Converting between tuples and lists\n",
    "\n",
    "You can convert a tuple to a list using the list() function and vice versa using the tuple() function."
   ]
  },
  {
   "cell_type": "code",
   "execution_count": 38,
   "id": "58567ca5-3be1-4eb0-ba8f-8bda61cebd79",
   "metadata": {},
   "outputs": [
    {
     "name": "stdout",
     "output_type": "stream",
     "text": [
      "[1, 2, 3]\n",
      "(1, 2, 3)\n"
     ]
    }
   ],
   "source": [
    "my_tuple = (1, 2, 3)\n",
    "my_list = list(my_tuple)\n",
    "print(my_list)  # Output: [1, 2, 3]\n",
    "\n",
    "new_tuple = tuple(my_list)\n",
    "print(new_tuple)  # Output: (1, 2, 3)"
   ]
  },
  {
   "cell_type": "markdown",
   "id": "56e12621-3d4c-4a74-bca1-10e1840d0d00",
   "metadata": {},
   "source": [
    "#### 9.2 Tuple packing and unpacking\n",
    "\n",
    "Tuple packing is the process of creating a tuple from multiple values, and unpacking is the reverse process."
   ]
  },
  {
   "cell_type": "code",
   "execution_count": 39,
   "id": "f24987d1-6bf0-4fdb-8042-e60cf32abe3e",
   "metadata": {},
   "outputs": [
    {
     "name": "stdout",
     "output_type": "stream",
     "text": [
      "(1, 2, 3)\n",
      "1 2 3\n"
     ]
    }
   ],
   "source": [
    "# Packing\n",
    "packed_tuple = 1, 2, 3\n",
    "print(packed_tuple)  # Output: (1, 2, 3)\n",
    "\n",
    "# Unpacking\n",
    "a, b, c = packed_tuple\n",
    "print(a, b, c)  # Output: 1 2 3\n"
   ]
  },
  {
   "cell_type": "markdown",
   "id": "c3529a42-936b-4998-8a84-1b1ed0189da9",
   "metadata": {},
   "source": [
    "#### 9.3 Immutability and hashability\n",
    "\n",
    "The immutability of tuples makes them hashable and suitable for use as keys in dictionaries or elements in sets."
   ]
  },
  {
   "cell_type": "code",
   "execution_count": 40,
   "id": "de52f41b-84f5-4977-991c-13ed5473aa7e",
   "metadata": {},
   "outputs": [
    {
     "name": "stdout",
     "output_type": "stream",
     "text": [
      "value\n"
     ]
    }
   ],
   "source": [
    "hashable_tuple = (1, 2, 3)\n",
    "my_dict = {hashable_tuple: \"value\"}\n",
    "print(my_dict[hashable_tuple])  # Output: value"
   ]
  },
  {
   "cell_type": "markdown",
   "id": "bfcaee20-39f8-4a49-95bd-b5c774f6d0ee",
   "metadata": {},
   "source": [
    "#### 9.4 Memory usage\n",
    "\n",
    "Tuples typically use less memory compared to lists due to their immutability."
   ]
  },
  {
   "cell_type": "code",
   "execution_count": 42,
   "id": "8e2ccba1-b82d-4ef0-bb2a-2c51d1bde350",
   "metadata": {},
   "outputs": [
    {
     "name": "stdout",
     "output_type": "stream",
     "text": [
      "88\n",
      "64\n"
     ]
    }
   ],
   "source": [
    "import sys\n",
    "\n",
    "my_list = [1, 2, 3]\n",
    "my_tuple = (1, 2, 3)\n",
    "\n",
    "print(sys.getsizeof(my_list))   # Output: Memory size of the list\n",
    "print(sys.getsizeof(my_tuple))  # Output: Memory size of the tuple"
   ]
  },
  {
   "cell_type": "markdown",
   "id": "51008302-0e33-43c2-a7fa-24583583a180",
   "metadata": {},
   "source": [
    "---"
   ]
  },
  {
   "cell_type": "markdown",
   "id": "eb3242a3-173d-4ed5-a03d-76d3c751cdc1",
   "metadata": {},
   "source": [
    "# Practice Exercises!\n",
    "## Explore More:\n",
    "- [**geeksforgeeks python tuple exercies**](https://www.geeksforgeeks.org/python-tuple-exercise/)\n",
    "- [**w3school python tuples exercies**](https://www.w3schools.com/python/python_tuples_exercises.asp)"
   ]
  },
  {
   "cell_type": "markdown",
   "id": "48f2330e-c261-4ac5-9193-351efd3b87bf",
   "metadata": {},
   "source": [
    "---"
   ]
  },
  {
   "cell_type": "markdown",
   "id": "be04ad72-ee7c-450a-853a-b69e4d8cb194",
   "metadata": {},
   "source": [
    "# THE END"
   ]
  }
 ],
 "metadata": {
  "kernelspec": {
   "display_name": "Python 3 (ipykernel)",
   "language": "python",
   "name": "python3"
  },
  "language_info": {
   "codemirror_mode": {
    "name": "ipython",
    "version": 3
   },
   "file_extension": ".py",
   "mimetype": "text/x-python",
   "name": "python",
   "nbconvert_exporter": "python",
   "pygments_lexer": "ipython3",
   "version": "3.12.3"
  }
 },
 "nbformat": 4,
 "nbformat_minor": 5
}
