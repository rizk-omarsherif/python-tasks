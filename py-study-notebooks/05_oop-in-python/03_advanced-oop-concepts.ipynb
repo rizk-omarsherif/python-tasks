{
 "cells": [
  {
   "cell_type": "markdown",
   "id": "607ca9a5-0cc5-474b-bed7-b4b0cfeca80b",
   "metadata": {},
   "source": [
    "# Exercise 3: Advanced OOP Concepts"
   ]
  },
  {
   "cell_type": "markdown",
   "id": "c2edd05b-b944-49df-b750-273294042cb1",
   "metadata": {},
   "source": [
    "## Table of Contents\n",
    "\n",
    "1. **Operator Overloading**\n",
    "   - 1.1 Overloading Arithmetic Operators\n",
    "   - 1.2 Overloading Comparison Operators\n",
    "\n",
    "2. **Polymorphism**\n",
    "   - 2.1 Definition and Examples\n",
    "   - 2.2 Polymorphism in Built-in Functions\n",
    "   - 2.3 Method Overriding\n",
    "   - 2.4 Method Overloading (achievable through default arguments)\n",
    "\n",
    "3. **Interfaces in Python**\n",
    "   - 3.1 Introduction to interfaces\n",
    "   - 2.2 Creating Interfaces Using ABC\n",
    "   - 2.3 Implementing Interfaces"
   ]
  },
  {
   "cell_type": "markdown",
   "id": "9b284bcb-499c-49cc-994c-ad3dc410f982",
   "metadata": {},
   "source": [
    "### 1- Operator Overloading"
   ]
  },
  {
   "cell_type": "markdown",
   "id": "9e82fded-e7e5-4591-9270-238b22589109",
   "metadata": {},
   "source": [
    "#### 1.1 Overloading Arithmetic Operators\n",
    "\n",
    "Operator overloading allows you to define custom behavior for operators in your classes."
   ]
  },
  {
   "cell_type": "code",
   "execution_count": 1,
   "id": "8c773a84-6637-49c9-8bd0-0f2377234fcd",
   "metadata": {},
   "outputs": [
    {
     "name": "stdout",
     "output_type": "stream",
     "text": [
      "(4, 6)\n"
     ]
    }
   ],
   "source": [
    "class Point:\n",
    "    def __init__(self, x, y):\n",
    "        self.x = x\n",
    "        self.y = y\n",
    "\n",
    "    def __add__(self, other):\n",
    "        return Point(self.x + other.x, self.y + other.y)\n",
    "\n",
    "    def __str__(self):\n",
    "        return f\"({self.x}, {self.y})\"\n",
    "\n",
    "p1 = Point(1, 2)\n",
    "p2 = Point(3, 4)\n",
    "p3 = p1 + p2\n",
    "print(p3)  # Output: (4, 6)"
   ]
  },
  {
   "cell_type": "markdown",
   "id": "d86a4cc1-eb1a-4c21-9e7d-2c34004fc019",
   "metadata": {},
   "source": [
    "#### 1.2 Overloading Comparison Operators\n",
    "\n",
    "You can also overload comparison operators like `==`,`<`,`>`, etc."
   ]
  },
  {
   "cell_type": "code",
   "execution_count": 2,
   "id": "02eca999-a615-45a0-81c5-be4d87d08db6",
   "metadata": {},
   "outputs": [
    {
     "name": "stdout",
     "output_type": "stream",
     "text": [
      "Person(name=Alice)\n",
      "True\n"
     ]
    }
   ],
   "source": [
    "class Person:\n",
    "    def __init__(self, name):\n",
    "        self.name = name\n",
    "\n",
    "    def __eq__(self, other):\n",
    "        return self.name == other.name\n",
    "\n",
    "    def __str__(self):\n",
    "        return f\"Person(name={self.name})\"\n",
    "\n",
    "p1 = Person(\"Alice\")\n",
    "p2 = Person(\"Alice\")\n",
    "print(p1)         # Output: Person(name=Alice)\n",
    "print(p1 == p2)   # Output: True"
   ]
  },
  {
   "cell_type": "markdown",
   "id": "eadc6ea7-677a-471c-a635-55224a725fb6",
   "metadata": {},
   "source": [
    "---"
   ]
  },
  {
   "cell_type": "markdown",
   "id": "9d76892c-5181-440d-ada7-eed79e8d9f3e",
   "metadata": {},
   "source": [
    "### 2- Polymorphism"
   ]
  },
  {
   "cell_type": "markdown",
   "id": "6031a544-9c9c-46aa-94b7-b8c589b8c5ba",
   "metadata": {},
   "source": [
    "#### 2.1 Definition and Examples\n",
    "\n",
    "Polymorphism allows objects of different classes to be treated as objects of a common superclass. It refers to the ability of different objects to respond to the same operation in different ways."
   ]
  },
  {
   "cell_type": "code",
   "execution_count": 3,
   "id": "66f52b56-863e-4dbc-b5f7-a8a5ab1c8f35",
   "metadata": {},
   "outputs": [
    {
     "name": "stdout",
     "output_type": "stream",
     "text": [
      "Woof!\n",
      "Meow!\n"
     ]
    }
   ],
   "source": [
    "class Animal:\n",
    "    def speak(self):\n",
    "        pass\n",
    "\n",
    "class Dog(Animal):\n",
    "    def speak(self):\n",
    "        return \"Woof!\"\n",
    "\n",
    "class Cat(Animal):\n",
    "    def speak(self):\n",
    "        return \"Meow!\"\n",
    "\n",
    "def make_animal_speak(animal):\n",
    "    print(animal.speak())\n",
    "\n",
    "d = Dog()\n",
    "c = Cat()\n",
    "make_animal_speak(d)  # Output: Woof!\n",
    "make_animal_speak(c)  # Output: Meow!"
   ]
  },
  {
   "cell_type": "markdown",
   "id": "9d1a9a00-0d6d-4a96-a737-60b34b60ee0f",
   "metadata": {},
   "source": [
    "#### 2.2 Polymorphism in Built-in Functions\n",
    "\n",
    "Built-in functions like `len()` and `sorted()` work with different types due to polymorphism."
   ]
  },
  {
   "cell_type": "code",
   "execution_count": 4,
   "id": "6f5d68af-daf7-4591-805f-55136ccef5ec",
   "metadata": {},
   "outputs": [
    {
     "name": "stdout",
     "output_type": "stream",
     "text": [
      "5\n",
      "3\n",
      "[1, 2, 3]\n",
      "['a', 'b', 'c']\n"
     ]
    }
   ],
   "source": [
    "print(len(\"hello\"))  # Output: 5\n",
    "print(len([1, 2, 3]))  # Output: 3\n",
    "print(sorted([3, 1, 2]))  # Output: [1, 2, 3]\n",
    "print(sorted(\"bac\"))  # Output: ['a', 'b', 'c']"
   ]
  },
  {
   "cell_type": "markdown",
   "id": "2a03e700-ec5b-4627-a87f-edb398589432",
   "metadata": {},
   "source": [
    "#### 2.3 Method Overriding\n",
    "\n",
    "Method overriding allows a subclass to provide a specific implementation of a method that is already defined in its superclass."
   ]
  },
  {
   "cell_type": "code",
   "execution_count": 5,
   "id": "33c92f7b-152d-4a9d-945e-26b66b7c7ec2",
   "metadata": {},
   "outputs": [
    {
     "name": "stdout",
     "output_type": "stream",
     "text": [
      "Hello from Parent\n",
      "Hello from Child\n"
     ]
    }
   ],
   "source": [
    "class Parent:\n",
    "    def greet(self):\n",
    "        return \"Hello from Parent\"\n",
    "\n",
    "class Child(Parent):\n",
    "    def greet(self):\n",
    "        return \"Hello from Child\"\n",
    "\n",
    "p = Parent()\n",
    "c = Child()\n",
    "print(p.greet())  # Output: Hello from Parent\n",
    "print(c.greet())  # Output: Hello from Child"
   ]
  },
  {
   "cell_type": "markdown",
   "id": "ca3590f3-b7c8-42e6-be73-c0bdbd788cd5",
   "metadata": {},
   "source": [
    "#### 2.4 Method Overloading (Not Natively Supported, Achievable with Default Arguments)\n",
    "\n",
    "Python does not support method overloading in the traditional sense. However, you can achieve similar functionality using default arguments."
   ]
  },
  {
   "cell_type": "code",
   "execution_count": 6,
   "id": "046ed6a2-ba5c-4f42-9050-0e0b9401f1e6",
   "metadata": {},
   "outputs": [
    {
     "name": "stdout",
     "output_type": "stream",
     "text": [
      "3\n",
      "6\n"
     ]
    }
   ],
   "source": [
    "class Math:\n",
    "    def add(self, a, b, c=0):\n",
    "        return a + b + c\n",
    "\n",
    "m = Math()\n",
    "print(m.add(1, 2))    # Output: 3\n",
    "print(m.add(1, 2, 3)) # Output: 6"
   ]
  },
  {
   "cell_type": "markdown",
   "id": "5488245d-da1f-4cc8-9242-c9d291f837a7",
   "metadata": {},
   "source": [
    "---"
   ]
  },
  {
   "cell_type": "markdown",
   "id": "0fc8eb8f-1377-426c-b6c1-c57ba9ce9e4e",
   "metadata": {},
   "source": [
    "### 3- Interfaces in Python"
   ]
  },
  {
   "cell_type": "markdown",
   "id": "9265c25a-8388-46eb-9371-a73cefce8d2d",
   "metadata": {},
   "source": [
    "#### 2.1 Introduction to Interfaces\n",
    "\n",
    "Interfaces are a way to define methods that must be created within any child classes built from the interface. Python uses Abstract Base Classes (ABCs) to implement interfaces."
   ]
  },
  {
   "cell_type": "markdown",
   "id": "c5366759-75d6-4bcf-8971-3f59a4f36c61",
   "metadata": {},
   "source": [
    "#### 2.2 Creating Interfaces Using ABC\n",
    "\n",
    "You can create interfaces using the abc module in Python."
   ]
  },
  {
   "cell_type": "code",
   "execution_count": 8,
   "id": "e2f8e69e-9a10-4fda-aef7-c09de3ffe5d5",
   "metadata": {},
   "outputs": [],
   "source": [
    "from abc import ABC, abstractmethod\n",
    "\n",
    "class Shape(ABC):\n",
    "    @abstractmethod\n",
    "    def area(self):\n",
    "        pass\n",
    "\n",
    "    @abstractmethod\n",
    "    def perimeter(self):\n",
    "        pass"
   ]
  },
  {
   "cell_type": "markdown",
   "id": "d2c4aaa8-70ff-48ec-8dde-f37b7267992e",
   "metadata": {},
   "source": [
    "#### 2.3 Implementing Interfaces\n",
    "\n",
    "Classes that inherit from an interface must implement all abstract methods."
   ]
  },
  {
   "cell_type": "code",
   "execution_count": 9,
   "id": "99a878fe-5a42-4a76-add6-19c120829a9d",
   "metadata": {},
   "outputs": [
    {
     "name": "stdout",
     "output_type": "stream",
     "text": [
      "50\n",
      "30\n"
     ]
    }
   ],
   "source": [
    "class Rectangle(Shape):\n",
    "    def __init__(self, width, height):\n",
    "        self.width = width\n",
    "        self.height = height\n",
    "\n",
    "    def area(self):\n",
    "        return self.width * self.height\n",
    "\n",
    "    def perimeter(self):\n",
    "        return 2 * (self.width + self.height)\n",
    "\n",
    "r = Rectangle(5, 10)\n",
    "print(r.area())      # Output: 50\n",
    "print(r.perimeter()) # Output: 30"
   ]
  },
  {
   "cell_type": "markdown",
   "id": "b796d1b6-4b20-462f-bcc7-f1c3e0e83129",
   "metadata": {},
   "source": [
    "---"
   ]
  },
  {
   "cell_type": "markdown",
   "id": "8aaf2988-f6f3-4f46-a389-89ab594f7e79",
   "metadata": {},
   "source": [
    "# THE END"
   ]
  }
 ],
 "metadata": {
  "kernelspec": {
   "display_name": "Python 3 (ipykernel)",
   "language": "python",
   "name": "python3"
  },
  "language_info": {
   "codemirror_mode": {
    "name": "ipython",
    "version": 3
   },
   "file_extension": ".py",
   "mimetype": "text/x-python",
   "name": "python",
   "nbconvert_exporter": "python",
   "pygments_lexer": "ipython3",
   "version": "3.12.3"
  }
 },
 "nbformat": 4,
 "nbformat_minor": 5
}
