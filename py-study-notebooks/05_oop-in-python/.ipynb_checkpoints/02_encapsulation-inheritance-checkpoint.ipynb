{
 "cells": [
  {
   "cell_type": "markdown",
   "id": "dd7374f9-8905-4eb5-9e4a-f7a9671c76c3",
   "metadata": {},
   "source": [
    "# Exercise 2: Encapsulation and Inheritance"
   ]
  },
  {
   "cell_type": "markdown",
   "id": "b29dfd50-e335-4803-afcd-3ede0b09f19e",
   "metadata": {},
   "source": [
    "---"
   ]
  },
  {
   "cell_type": "markdown",
   "id": "0a2d9b13-0ce9-42ca-a532-69ccb8c0310a",
   "metadata": {},
   "source": [
    "## Table of Contents\n",
    "\n",
    "1. **Encapsulation**\n",
    "   - 1.1 Public, Protected, and Private Attributes\n",
    "   - 1.2 Property Decorators (Getters and Setters)\n",
    "\n",
    "2. **Inheritance**\n",
    "   - 2.1 Single Inheritance\n",
    "   - 2.2 Multiple Inheritance\n",
    "   - 2.3 Multi-Level Inheritance\n",
    "   - 2.4 Overriding Methods\n",
    "   - 2.5 Using `super()`"
   ]
  },
  {
   "cell_type": "markdown",
   "id": "43260f7a-01e0-4374-8aef-69216103c882",
   "metadata": {},
   "source": [
    "---"
   ]
  },
  {
   "cell_type": "markdown",
   "id": "df17a8b0-9441-4df0-aa6b-3a6c019a0e52",
   "metadata": {},
   "source": [
    "### 1- Encapsulation"
   ]
  },
  {
   "cell_type": "markdown",
   "id": "b505d22c-7000-4003-8333-5acbdef07a5d",
   "metadata": {},
   "source": [
    "#### 1.1 Public, Protected, and Private Attributes\n",
    "\n",
    "- Encapsulation is the concept of restricting access to certain parts of an object.\n",
    "\n",
    "<p></p>\n",
    "\n",
    "In Python, this is done through naming conventions:\n",
    "- **Public Attributes:** Accessible from anywhere.\n",
    "- **Protected Attributes:** Should not be accessed directly, indicated by a single underscore (`_`).\n",
    "- **Private Attributes:** Cannot be accessed directly outside the class, indicated by a double underscore (`__`)."
   ]
  },
  {
   "cell_type": "code",
   "execution_count": 2,
   "id": "ed52575a-dc29-40e5-9bae-050e29432635",
   "metadata": {},
   "outputs": [
    {
     "name": "stdout",
     "output_type": "stream",
     "text": [
      "Toyota\n",
      "Camry\n",
      "2020\n"
     ]
    }
   ],
   "source": [
    "class Car:\n",
    "    def __init__(self, make, model, year):\n",
    "        self.make = make           # Public\n",
    "        self._model = model        # Protected\n",
    "        self.__year = year         # Private\n",
    "\n",
    "car = Car(\"Toyota\", \"Camry\", 2020)\n",
    "print(car.make)   # Output: Toyota\n",
    "print(car._model) # Output: Camry\n",
    "print(car._Car__year) # Output: 2020"
   ]
  },
  {
   "cell_type": "markdown",
   "id": "e21f613d-b872-499d-b9c5-e0a1ff30469e",
   "metadata": {},
   "source": [
    "#### 1.2 Property Decorators (Getters and Setters)\n",
    "\n",
    "Property decorators allow you to define methods that behave like attributes. This is useful for controlling access to private attributes"
   ]
  },
  {
   "cell_type": "code",
   "execution_count": 3,
   "id": "73c86a86-cd1d-48dd-a7a7-fd032e22650f",
   "metadata": {},
   "outputs": [
    {
     "name": "stdout",
     "output_type": "stream",
     "text": [
      "Alice\n",
      "Bob\n"
     ]
    }
   ],
   "source": [
    "class Person:\n",
    "    def __init__(self, name):\n",
    "        self.__name = name\n",
    "\n",
    "    @property\n",
    "    def name(self):\n",
    "        return self.__name\n",
    "\n",
    "    @name.setter\n",
    "    def name(self, new_name):\n",
    "        self.__name = new_name\n",
    "\n",
    "p = Person(\"Alice\")\n",
    "print(p.name)    # Output: Alice\n",
    "p.name = \"Bob\"\n",
    "print(p.name)    # Output: Bob"
   ]
  },
  {
   "cell_type": "markdown",
   "id": "99b9d611-842c-4db1-9602-1d873c6a7934",
   "metadata": {},
   "source": [
    "---"
   ]
  },
  {
   "cell_type": "markdown",
   "id": "519c7025-999f-461a-a605-b0691d67b0d7",
   "metadata": {},
   "source": [
    "### 2- Inheritance"
   ]
  },
  {
   "cell_type": "markdown",
   "id": "51f386d8-6f5b-4bee-a7f5-c634df3f7d6e",
   "metadata": {},
   "source": [
    "#### 2.1 Single Inheritance\n",
    "\n",
    "Single inheritance is when a class inherits from one parent class."
   ]
  },
  {
   "cell_type": "code",
   "execution_count": 6,
   "id": "30bae2c3-c101-4801-b665-4b6ca335e694",
   "metadata": {},
   "outputs": [
    {
     "name": "stdout",
     "output_type": "stream",
     "text": [
      "Buddy says woof!\n"
     ]
    }
   ],
   "source": [
    "class Animal:\n",
    "    def __init__(self, name):\n",
    "        self.name = name\n",
    "\n",
    "    def speak(self):\n",
    "        raise NotImplementedError(\"Subclass must implement abstract method\")\n",
    "\n",
    "class Dog(Animal):\n",
    "    def speak(self):\n",
    "        return f\"{self.name} says woof!\"\n",
    "\n",
    "d = Dog(\"Buddy\")\n",
    "print(d.speak())  # Output: Buddy says woof!"
   ]
  },
  {
   "cell_type": "markdown",
   "id": "494353ac-0769-4e57-9ca9-df2fbd88a3b4",
   "metadata": {},
   "source": [
    "#### 2.2 Multiple Inheritance\n",
    "\n",
    "Multiple inheritance is when a class inherits from more than one parent class."
   ]
  },
  {
   "cell_type": "code",
   "execution_count": 7,
   "id": "f32a0ece-f8a4-4c97-a0fb-29ce44ca7eb9",
   "metadata": {},
   "outputs": [
    {
     "name": "stdout",
     "output_type": "stream",
     "text": [
      "Flying\n",
      "Swimming\n"
     ]
    }
   ],
   "source": [
    "class Bird:\n",
    "    def fly(self):\n",
    "        print(\"Flying\")\n",
    "\n",
    "class Fish:\n",
    "    def swim(self):\n",
    "        print(\"Swimming\")\n",
    "\n",
    "class FlyingFish(Bird, Fish):\n",
    "    pass\n",
    "\n",
    "ff = FlyingFish()\n",
    "ff.fly()  # Output: Flying\n",
    "ff.swim() # Output: Swimming"
   ]
  },
  {
   "cell_type": "markdown",
   "id": "f3ea8496-889f-4bb4-9805-2060fe464db1",
   "metadata": {},
   "source": [
    "#### 2.3 Multi-Level Inheritance\n",
    "\n",
    "Multi-level inheritance is when a class is derived from another class, which is also derived from another class."
   ]
  },
  {
   "cell_type": "code",
   "execution_count": 8,
   "id": "c769a9b8-2a9d-403a-8cb3-1defe4f90376",
   "metadata": {},
   "outputs": [
    {
     "name": "stdout",
     "output_type": "stream",
     "text": [
      "Method A\n",
      "Method B\n",
      "Method C\n"
     ]
    }
   ],
   "source": [
    "class A:\n",
    "    def method_A(self):\n",
    "        print(\"Method A\")\n",
    "\n",
    "class B(A):\n",
    "    def method_B(self):\n",
    "        print(\"Method B\")\n",
    "\n",
    "class C(B):\n",
    "    def method_C(self):\n",
    "        print(\"Method C\")\n",
    "\n",
    "c = C()\n",
    "c.method_A()  # Output: Method A\n",
    "c.method_B()  # Output: Method B\n",
    "c.method_C()  # Output: Method C"
   ]
  },
  {
   "cell_type": "markdown",
   "id": "1048d240-727a-4ac6-8869-ccf91e0d9663",
   "metadata": {},
   "source": [
    "#### 2.4 Overriding Methods\n",
    "\n",
    "Method overriding allows a subclass to provide a specific implementation for a method that is already defined in its superclass."
   ]
  },
  {
   "cell_type": "code",
   "execution_count": 9,
   "id": "5790a823-b0a7-4124-9e8d-3700ba47d056",
   "metadata": {},
   "outputs": [
    {
     "name": "stdout",
     "output_type": "stream",
     "text": [
      "Woof!\n"
     ]
    }
   ],
   "source": [
    "class Animal:\n",
    "    def speak(self):\n",
    "        return \"Generic Animal Sound\"\n",
    "\n",
    "class Dog(Animal):\n",
    "    def speak(self):\n",
    "        return \"Woof!\"\n",
    "\n",
    "d = Dog()\n",
    "print(d.speak())  # Output: Woof!"
   ]
  },
  {
   "cell_type": "markdown",
   "id": "1a210d92-2d99-4bed-b018-21b7c9b3c100",
   "metadata": {},
   "source": [
    "#### 2.5 Using `super()`\n",
    "\n",
    "The `super()` function allows you to call methods from a superclass."
   ]
  },
  {
   "cell_type": "code",
   "execution_count": 11,
   "id": "b5107797-c715-4b42-beb9-4abafc8dd3b2",
   "metadata": {},
   "outputs": [
    {
     "name": "stdout",
     "output_type": "stream",
     "text": [
      "A's constructor\n",
      "B's constructor\n",
      "C's constructor\n"
     ]
    }
   ],
   "source": [
    "class A:\n",
    "    def __init__(self):\n",
    "        print(\"A's constructor\")\n",
    "\n",
    "class B(A):\n",
    "    def __init__(self):\n",
    "        super().__init__()\n",
    "        print(\"B's constructor\")\n",
    "\n",
    "class C(B):\n",
    "    def __init__(self):\n",
    "        super().__init__()\n",
    "        print(\"C's constructor\")\n",
    "\n",
    "c = C()\n",
    "# Output:\n",
    "# A's constructor\n",
    "# B's constructor\n",
    "# C's constructor"
   ]
  },
  {
   "cell_type": "markdown",
   "id": "754084c7-dab2-45db-a948-7c3a39f33145",
   "metadata": {},
   "source": [
    "---"
   ]
  },
  {
   "cell_type": "markdown",
   "id": "97e9197c-e312-4366-a32f-45abcb052aee",
   "metadata": {},
   "source": [
    "# THE END"
   ]
  }
 ],
 "metadata": {
  "kernelspec": {
   "display_name": "Python 3 (ipykernel)",
   "language": "python",
   "name": "python3"
  },
  "language_info": {
   "codemirror_mode": {
    "name": "ipython",
    "version": 3
   },
   "file_extension": ".py",
   "mimetype": "text/x-python",
   "name": "python",
   "nbconvert_exporter": "python",
   "pygments_lexer": "ipython3",
   "version": "3.12.3"
  }
 },
 "nbformat": 4,
 "nbformat_minor": 5
}
