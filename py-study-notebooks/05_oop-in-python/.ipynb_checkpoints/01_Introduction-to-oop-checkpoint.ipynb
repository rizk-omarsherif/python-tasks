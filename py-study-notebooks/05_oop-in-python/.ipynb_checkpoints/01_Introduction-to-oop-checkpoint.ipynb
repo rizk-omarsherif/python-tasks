{
 "cells": [
  {
   "cell_type": "markdown",
   "id": "19a4bba5-08b4-4400-b595-ed508f2bd4d4",
   "metadata": {},
   "source": [
    "# Exercise 1: Introduction to OOP and Classes"
   ]
  },
  {
   "cell_type": "markdown",
   "id": "af823998-2e8b-4690-99f5-b46d0d5ec836",
   "metadata": {},
   "source": [
    "## Table of Contents\n",
    "\n",
    "1. **Introduction to OOP**\n",
    "   - Overview of Object-Oriented Programming\n",
    "   - Benefits of OOP\n",
    "<p></p>\n",
    "\n",
    "2. **Classes and Objects**\n",
    "   - 2.1 Defining a Class\n",
    "   - 2.2 Creating Objects\n",
    "<p></p>\n",
    "\n",
    "3. **Class Attributes and Methods**\n",
    "   - 3.1 Instance Attributes\n",
    "   - 3.2 Class Attributes\n",
    "   - 3.3 Methods\n",
    "   - 3.4 Static Methods\n",
    "   - 3.5 Class Methods\n",
    "<p></p>"
   ]
  },
  {
   "cell_type": "markdown",
   "id": "6d48d638-65a3-46e1-8086-55f0ee2b90c6",
   "metadata": {},
   "source": [
    "---"
   ]
  },
  {
   "cell_type": "markdown",
   "id": "f577ea58-f0b4-477f-980c-265c69329333",
   "metadata": {},
   "source": [
    "### 1- Introduction to OOP"
   ]
  },
  {
   "cell_type": "markdown",
   "id": "c5d94afa-f55e-48f7-9a57-f9300885b50f",
   "metadata": {},
   "source": [
    "#### Overview of Object-Oriented Programming\n",
    "\n",
    "Object-Oriented Programming (OOP) is a programming paradigm based on the concept of `objects`, which are data structures that contain data (`attributes`) and code (`methods`). OOP allows you to create classes that define the structure and behavior of `objects`, making your code more modular, reusable, and easier to understand."
   ]
  },
  {
   "cell_type": "markdown",
   "id": "c62d8a9e-abab-448f-a393-ba879f1db708",
   "metadata": {},
   "source": [
    "### Benefits of OOP\n",
    "\n",
    "- **Modularity:** Code is divided into smaller, self-contained units (classes).\n",
    "- **Reusability:** Classes can be reused across different parts of the program or in other programs.\n",
    "- **Scalability:** Easier to manage and expand large codebases.\n",
    "- **Maintainability:** Simplifies the process of debugging and updating code."
   ]
  },
  {
   "cell_type": "markdown",
   "id": "5c400168-2e52-49cf-9c24-fbb022ea1900",
   "metadata": {},
   "source": [
    "---"
   ]
  },
  {
   "cell_type": "markdown",
   "id": "d5cd6a07-8157-428f-a752-e36ff90d4bad",
   "metadata": {},
   "source": [
    "### 2- Classes and Objects"
   ]
  },
  {
   "cell_type": "markdown",
   "id": "d4a1171c-2997-42d0-8f1e-8d4a48784bc1",
   "metadata": {},
   "source": [
    "#### 2.1 Defining a Class\n",
    "\n",
    "A class is a blueprint for creating objects. It defines the attributes and methods that the objects created from the class will have. "
   ]
  },
  {
   "cell_type": "code",
   "execution_count": 1,
   "id": "fde92f64-91b0-4194-beda-7f247797f089",
   "metadata": {},
   "outputs": [],
   "source": [
    "class Dog:\n",
    "    def __init__(self, name, age):\n",
    "        self.name = name  # Attribute\n",
    "        self.age = age    # Attribute\n",
    "\n",
    "    def bark(self):\n",
    "        print(f\"{self.name} says woof!\")  # Method"
   ]
  },
  {
   "cell_type": "markdown",
   "id": "8a8a70d1-386a-4b4a-9785-2731fc52d479",
   "metadata": {},
   "source": [
    "In the example above:\n",
    "\n",
    "- `class Dog`: defines a new class named `Dog`.\n",
    "- `__init__` is a special method called a constructor, which is called when an object is created.\n",
    "- `self` refers to the instance of the object itself.\n",
    "- `self.name` and `self.age` are instance attributes.\n",
    "- `bark` is a method that makes the dog bark."
   ]
  },
  {
   "cell_type": "markdown",
   "id": "e03a05d1-1aeb-49fb-a8f6-9fe5ca4434b7",
   "metadata": {},
   "source": [
    "#### 2.2 Creating Objects\n",
    "\n",
    "An object is an instance of a class. You create objects by calling the class as if it were a function."
   ]
  },
  {
   "cell_type": "code",
   "execution_count": 2,
   "id": "951eb153-885f-45e3-8181-ec5f2b9f8397",
   "metadata": {},
   "outputs": [
    {
     "name": "stdout",
     "output_type": "stream",
     "text": [
      "Buddy\n",
      "Buddy says woof!\n"
     ]
    }
   ],
   "source": [
    "my_dog = Dog(\"Buddy\", 3)  # Create an instance of Dog\n",
    "print(my_dog.name)        # Output: Buddy\n",
    "my_dog.bark()             # Output: Buddy says woof!"
   ]
  },
  {
   "cell_type": "markdown",
   "id": "f14310a4-bb2d-40d1-81d7-55261fbb6cb7",
   "metadata": {},
   "source": [
    "In the example above:\n",
    "\n",
    "- `my_dog = Dog(\"Buddy\", 3)` creates a new instance of the `Dog` class.\n",
    "- `my_dog.name` accesses the `name` attribute of the `my_dog` object.\n",
    "- `my_dog.bark()` calls the `bark` method of the `my_dog` object."
   ]
  },
  {
   "cell_type": "markdown",
   "id": "bb3c0da1-60aa-49f8-91b0-847972ac4c83",
   "metadata": {},
   "source": [
    "---"
   ]
  },
  {
   "cell_type": "markdown",
   "id": "795150e3-d3aa-47a6-900b-eccf8c57219f",
   "metadata": {},
   "source": [
    "### 3- Class Attributes and Methods"
   ]
  },
  {
   "cell_type": "markdown",
   "id": "4e51e1b7-4e0c-40b8-82f5-1a5928088ea1",
   "metadata": {},
   "source": [
    "#### 3.1 Instance Attributes\n",
    "\n",
    "Instance attributes are variables that are specific to each instance of a class.\n",
    "<p></p>\n",
    "\n",
    "They are defined within the constructor method `__init__`."
   ]
  },
  {
   "cell_type": "code",
   "execution_count": 3,
   "id": "3b00bfe7-de37-41cc-a1dd-6147c58e94ea",
   "metadata": {},
   "outputs": [],
   "source": [
    "class Dog:\n",
    "    def __init__(self, name, age):\n",
    "        self.name = name  # Instance attribute\n",
    "        self.age = age    # Instance attribute"
   ]
  },
  {
   "cell_type": "markdown",
   "id": "3de2865e-f399-4d08-a3ee-aae6b7b67306",
   "metadata": {},
   "source": [
    "Each instance of the `Dog` class will have its own `name` and `age` attributes."
   ]
  },
  {
   "cell_type": "markdown",
   "id": "e59b84f7-85b6-47c7-a1d1-83f489079174",
   "metadata": {},
   "source": [
    "#### 3.2 Class Attributes\n",
    "\n",
    "Class attributes are variables that are shared among all instances of a class. They are defined within the class but outside any methods."
   ]
  },
  {
   "cell_type": "code",
   "execution_count": 4,
   "id": "ebc51006-de63-4a08-8b43-c3e24c402900",
   "metadata": {},
   "outputs": [
    {
     "name": "stdout",
     "output_type": "stream",
     "text": [
      "Canis familiaris\n"
     ]
    }
   ],
   "source": [
    "class Dog:\n",
    "    species = \"Canis familiaris\"  # Class attribute\n",
    "\n",
    "    def __init__(self, name, age):\n",
    "        self.name = name  # Instance attribute\n",
    "        self.age = age    # Instance attribute\n",
    "\n",
    "print(Dog.species)  # Output: Canis familiaris"
   ]
  },
  {
   "cell_type": "markdown",
   "id": "84dfdc98-3e10-4720-81bb-a706e9559025",
   "metadata": {},
   "source": [
    "All instances of the `Dog` class will share the `species` attribute."
   ]
  },
  {
   "cell_type": "markdown",
   "id": "ef8011e9-fbe2-47da-9fda-2ad5a264ce99",
   "metadata": {},
   "source": [
    "#### 3.3 Methods\n",
    "\n",
    "Methods are functions defined within a class. They describe the behaviors of an object."
   ]
  },
  {
   "cell_type": "code",
   "execution_count": 6,
   "id": "4a2f417a-0df8-4e46-bc01-d8cdaed82324",
   "metadata": {},
   "outputs": [],
   "source": [
    "class Dog:\n",
    "    def __init__(self, name, age):\n",
    "        self.name = name\n",
    "        self.age = age\n",
    "\n",
    "    def bark(self):\n",
    "        print(f\"{self.name} says woof!\")  # Method"
   ]
  },
  {
   "cell_type": "markdown",
   "id": "db9fe603-fdb6-4fc5-80eb-cb1df6caa0e5",
   "metadata": {},
   "source": [
    "In this example, `bark` is a method that makes the dog bark."
   ]
  },
  {
   "cell_type": "markdown",
   "id": "ba5adde6-862a-421f-9ad1-934deec05572",
   "metadata": {},
   "source": [
    "#### 3.4 Static Methods\n",
    "\n",
    "Static methods are methods that do not modify or access the instance or class state. They are defined using the `@staticmethod` decorator."
   ]
  },
  {
   "cell_type": "code",
   "execution_count": 7,
   "id": "ba0f5861-9bee-4d8b-ae9c-e20f1312c264",
   "metadata": {},
   "outputs": [
    {
     "name": "stdout",
     "output_type": "stream",
     "text": [
      "8\n"
     ]
    }
   ],
   "source": [
    "class Math:\n",
    "    @staticmethod\n",
    "    def add(a, b):\n",
    "        return a + b\n",
    "\n",
    "print(Math.add(5, 3))  # Output: 8"
   ]
  },
  {
   "cell_type": "markdown",
   "id": "39eedd6b-3039-4a19-9889-dfacf3e585ce",
   "metadata": {},
   "source": [
    "Static methods can be called on the class itself without creating an instance."
   ]
  },
  {
   "cell_type": "markdown",
   "id": "5e58f9bf-805b-4303-8701-44f90b73e6a5",
   "metadata": {},
   "source": [
    "#### 3.5 Class Methods\n",
    "\n",
    "Class methods are methods that work with the class itself rather than instances. They are defined using the `@classmethod` decorator."
   ]
  },
  {
   "cell_type": "code",
   "execution_count": 9,
   "id": "1f831d66-845d-4d58-b9dd-3e1a49937462",
   "metadata": {},
   "outputs": [
    {
     "name": "stdout",
     "output_type": "stream",
     "text": [
      "Canis familiaris\n"
     ]
    }
   ],
   "source": [
    "class Dog:\n",
    "    species = \"Canis familiaris\"\n",
    "\n",
    "    @classmethod\n",
    "    def get_species(cls):\n",
    "        return cls.species\n",
    "\n",
    "print(Dog.get_species())  # Output: Canis familiaris"
   ]
  },
  {
   "cell_type": "markdown",
   "id": "9231a4ea-41f4-4983-8dea-d8c4a280e6da",
   "metadata": {},
   "source": [
    "Class methods can be called on the class itself and can modify the class state."
   ]
  },
  {
   "cell_type": "markdown",
   "id": "cfc04ea8-f409-4af9-94fd-135cc8c096b0",
   "metadata": {},
   "source": [
    "---"
   ]
  },
  {
   "cell_type": "markdown",
   "id": "71ff4fbf-97ed-4420-97c1-b18c42d599d9",
   "metadata": {},
   "source": [
    "# THE END"
   ]
  }
 ],
 "metadata": {
  "kernelspec": {
   "display_name": "Python 3 (ipykernel)",
   "language": "python",
   "name": "python3"
  },
  "language_info": {
   "codemirror_mode": {
    "name": "ipython",
    "version": 3
   },
   "file_extension": ".py",
   "mimetype": "text/x-python",
   "name": "python",
   "nbconvert_exporter": "python",
   "pygments_lexer": "ipython3",
   "version": "3.12.3"
  }
 },
 "nbformat": 4,
 "nbformat_minor": 5
}
