{
 "cells": [
  {
   "cell_type": "markdown",
   "id": "a8590e20-7525-48e2-b450-7dd0f743a088",
   "metadata": {},
   "source": [
    "# Introduction to Python\n",
    "---"
   ]
  },
  {
   "cell_type": "markdown",
   "id": "a7d8f60b-771a-48e7-9e10-ebbb405edd3b",
   "metadata": {},
   "source": [
    "**Python** is a popular programming language created by **Guido\n",
    "van Rossum** in 1991\n",
    "\n",
    "![Alt text](python-uses.jpg)\n",
    "\n",
    "---"
   ]
  },
  {
   "cell_type": "markdown",
   "id": "e876d5a9-48d3-4479-a3af-2cfb6c2bf774",
   "metadata": {},
   "source": [
    "## Interpreter vs Compiler\n",
    "\n",
    "**Interpreter:**\n",
    "- An interpreter reads and executes code line by line, translating each line of code into machine code or intermediate code and immediately executing it.\n",
    "- It does not produce an independent executable file but rather directly executes the source code.\n",
    "- Interpreters are typically used in scripting languages like Python, prioritizing ease of development and portability over execution speed.\n",
    "- They are generally slower than compilers because they analyze and execute code at runtime.\n",
    "\n",
    "**Compiler:**\n",
    "- A compiler translates the entire source code into machine code or another lower-level language in one go, producing an independent executable file.\n",
    "- Compilation happens before execution, enabling faster execution after the initial compilation phase.\n",
    "- Compiled languages including C and C++ focuse on performance and efficiency.\n",
    "---"
   ]
  },
  {
   "cell_type": "markdown",
   "id": "044c2b1a-e843-4124-b4fb-3c83f1680394",
   "metadata": {},
   "source": [
    "## How Python Interpreter Works\n",
    "\n",
    "1. **Lexical Analysis (Tokenization):** The interpreter breaks down the source code into a sequence of tokens (keywords, identifiers, operators, etc.) through lexical analysis.\n",
    "\n",
    "2. **Parsing:** It then parses these tokens into a parse tree (abstract syntax tree) to understand the structure and meaning of the code.\n",
    "\n",
    "3. **Bytecode Compilation:** Python compiles the parsed code into bytecode, which is a low-level platform-independent representation of the source code.\n",
    "\n",
    "4. **Execution:** The Python Virtual Machine (PVM) interprets this bytecode. It translates bytecode into machine code and executes it step by step.\n",
    "\n",
    "5. **Dynamic Typing and Memory Management:** Python’s interpreter manages memory allocation and dynamic typing, allowing variables to change types as the program runs and handling memory management automatically (e.g., garbage collection).\n",
    "\n",
    "Python's interpreter approach provides flexibility and ease of use, suitable for rapid development and scripting tasks. However, it typically sacrifices some execution speed compared to compiled languages, aligning with Python's design goals of simplicity and readability.\n",
    "\n",
    "![Alt text](python-interpreter.png)"
   ]
  },
  {
   "cell_type": "markdown",
   "id": "9f60fd42-0e5d-4b7f-bab1-278d67679c04",
   "metadata": {},
   "source": [
    "---\n",
    "## Python Bytecode\n",
    "\n",
    "Bytecode is an intermediate, lower-level representation of your source code that Python generates before execution. This bytecode is a set of instructions executed by the Python Virtual Machine (PVM).\n",
    "\n",
    "### Key Points About Python Bytecode:\n",
    "\n",
    "1. **Intermediate Representation:**\n",
    "   - Bytecode is not machine code. It's a set of instructions that is platform-independent and executed by the Python interpreter.\n",
    "\n",
    "2. **Compilation to Bytecode:**\n",
    "   - When you run a Python script, the interpreter first compiles it into bytecode. This happens automatically, and the bytecode is stored in `.pyc` files (Python compiled files) within the `__pycache__` directory.\n",
    "\n",
    "3. **Execution by Python Virtual Machine (PVM):**\n",
    "   - The PVM executes the bytecode instructions. It is part of the Python runtime environment and responsible for interpreting the bytecode and interacting with the operating system.\n",
    "\n",
    "4. **Caching:**\n",
    "   - Python caches bytecode in `.pyc` files to speed up subsequent runs of the same program. If the source code hasn't changed, Python can skip the compilation step and directly execute the cached bytecode.\n",
    "\n",
    "5. **Portability:**\n",
    "   - Bytecode is platform-independent, meaning it can be run on any platform that has a compatible Python interpreter.\n",
    "\n",
    "6. **Optimization:**\n",
    "   - Python performs some optimizations during bytecode compilation, but it is generally not as aggressively optimized as code compiled by traditional compilers like those for C or C++."
   ]
  },
  {
   "cell_type": "markdown",
   "id": "065c389a-b21a-4629-bc11-43c1e7a9918f",
   "metadata": {},
   "source": [
    "---"
   ]
  },
  {
   "cell_type": "markdown",
   "id": "9ed82199-741c-4eef-a5c3-26c23afd28f8",
   "metadata": {},
   "source": [
    "## Viewing Bytecode\n",
    "\n",
    "You can view the bytecode generated by Python using the `dis` module, which disassembles the bytecode into a human-readable format.\n"
   ]
  },
  {
   "cell_type": "code",
   "execution_count": 7,
   "id": "66a8210a-2f15-4e03-b33b-3d9a935996c5",
   "metadata": {},
   "outputs": [
    {
     "name": "stdout",
     "output_type": "stream",
     "text": [
      "  3           0 RESUME                   0\n",
      "\n",
      "  5           2 LOAD_FAST                0 (a)\n",
      "              4 LOAD_FAST                1 (b)\n",
      "              6 BINARY_OP                0 (+)\n",
      "             10 RETURN_VALUE\n"
     ]
    }
   ],
   "source": [
    "import dis\n",
    "\n",
    "def example_function(a, b):\n",
    "    # This function takes two arguments and returns their sum.\n",
    "    return a + b\n",
    "\n",
    "# Disassemble the bytecode of the example_function\n",
    "dis.dis(example_function)\n",
    "\n",
    "# Output:\n",
    "# The dis.dis() function prints the disassembled bytecode of the provided function.\n",
    "# The output includes instructions such as loading arguments (LOAD_FAST), performing operations (BINARY_ADD), and returning results (RETURN_VALUE)."
   ]
  },
  {
   "cell_type": "markdown",
   "id": "818b0660-341c-4aaa-a84b-b9b098372374",
   "metadata": {},
   "source": [
    "**However**, this representation is not exactly what the Python virtual machine (VM) processes. The VM works directly with the raw bytecode. "
   ]
  },
  {
   "cell_type": "code",
   "execution_count": 14,
   "id": "2df24f94-4f68-4ebb-bac2-0404b31c49c0",
   "metadata": {},
   "outputs": [
    {
     "name": "stdout",
     "output_type": "stream",
     "text": [
      "b'\\x97\\x00|\\x00|\\x00z\\x05\\x00\\x00S\\x00'\n"
     ]
    }
   ],
   "source": [
    "# Define a function to compile\n",
    "def example_function(x):\n",
    "    # This function takes one argument x and returns its square (x * x).\n",
    "    return x * x\n",
    "\n",
    "# Get the code object from the function\n",
    "bytecode = example_function.__code__\n",
    "\n",
    "# Display the raw bytecode\n",
    "# The co_code attribute contains the raw bytecode as a byte string.\n",
    "print(bytecode.co_code)\n",
    "\n",
    "# Output:\n",
    "# The output is a byte string representing the bytecode instructions for the function.\n",
    "# Each byte in the string corresponds to a bytecode instruction that the Python Virtual Machine executes.\n",
    "# For example:\n",
    "# - LOAD_FAST: Loads the argument x onto the stack.\n",
    "# - BINARY_MULTIPLY: Multiplies the value of x by itself.\n",
    "# - RETURN_VALUE: Returns the result of the multiplication.import dis"
   ]
  },
  {
   "cell_type": "code",
   "execution_count": 15,
   "id": "3177be95-e368-4046-8573-5f829f7096a1",
   "metadata": {},
   "outputs": [
    {
     "name": "stdout",
     "output_type": "stream",
     "text": [
      "Offset 00: Opcode 97 (RESUME)\n",
      "Offset 01: Opcode 00 (CACHE)\n",
      "Offset 02: Opcode 7c (LOAD_FAST)\n",
      "Offset 04: Opcode 7c (LOAD_FAST)\n",
      "Offset 06: Opcode 7a (BINARY_OP)\n",
      "Offset 07: Opcode 05 (END_SEND)\n",
      "Offset 08: Opcode 00 (CACHE)\n",
      "Offset 09: Opcode 00 (CACHE)\n",
      "Offset 0a: Opcode 53 (RETURN_VALUE)\n",
      "Offset 0b: Opcode 00 (CACHE)\n"
     ]
    }
   ],
   "source": [
    "# Disassemble the bytecode to show human-readable instructions\n",
    "def disassemble_bytecode(bytecode):\n",
    "    # Convert bytecode to a list of instructions with their opcodes\n",
    "    instructions = []\n",
    "    i = 0\n",
    "    while i < len(bytecode):\n",
    "        opcode = bytecode[i]\n",
    "        opname = dis.opname[opcode]\n",
    "        instructions.append((i, opcode, opname))\n",
    "        i += 1\n",
    "        if opname in ('LOAD_CONST', 'LOAD_FAST', 'STORE_FAST', 'JUMP_ABS'):\n",
    "            # Some instructions take an extra byte for the argument\n",
    "            i += 1\n",
    "    return instructions\n",
    "\n",
    "# Disassemble and print bytecode with opcodes\n",
    "disassembled = disassemble_bytecode(bytecode.co_code)\n",
    "for offset, opcode, opname in disassembled:\n",
    "    print(f\"Offset {offset:02x}: Opcode {opcode:02x} ({opname})\")\n",
    "\n",
    "# Output:\n",
    "# The output will show the offset, opcode in hexadecimal, and the name of the operation.\n",
    "# For example:\n",
    "# - Offset 00: Opcode 7c (LOAD_FAST)\n",
    "# - Offset 02: Opcode 20 (BINARY_MULTIPLY)\n",
    "# - Offset 04: Opcode 83 (RETURN_VALUE)"
   ]
  },
  {
   "cell_type": "markdown",
   "id": "1cfc67a5-0a7d-430b-996c-a4c4cc144168",
   "metadata": {},
   "source": [
    "---"
   ]
  },
  {
   "cell_type": "markdown",
   "id": "ca04a3bc-a8a9-4c5c-8edf-88ae101a0cc0",
   "metadata": {},
   "source": [
    "# THE END"
   ]
  }
 ],
 "metadata": {
  "kernelspec": {
   "display_name": "Python 3 (ipykernel)",
   "language": "python",
   "name": "python3"
  },
  "language_info": {
   "codemirror_mode": {
    "name": "ipython",
    "version": 3
   },
   "file_extension": ".py",
   "mimetype": "text/x-python",
   "name": "python",
   "nbconvert_exporter": "python",
   "pygments_lexer": "ipython3",
   "version": "3.12.3"
  }
 },
 "nbformat": 4,
 "nbformat_minor": 5
}
