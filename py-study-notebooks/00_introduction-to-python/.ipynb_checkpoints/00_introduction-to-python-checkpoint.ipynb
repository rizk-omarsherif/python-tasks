{
 "cells": [
  {
   "cell_type": "markdown",
   "id": "a8590e20-7525-48e2-b450-7dd0f743a088",
   "metadata": {},
   "source": [
    "# Introduction to Python\n",
    "---"
   ]
  },
  {
   "cell_type": "markdown",
   "id": "a7d8f60b-771a-48e7-9e10-ebbb405edd3b",
   "metadata": {},
   "source": [
    "**Python** is a popular programming language created by **Guido\n",
    "van Rossum** in 1991\n",
    "\n",
    "![Alt text](python-uses.jpg)\n",
    "\n",
    "---"
   ]
  },
  {
   "cell_type": "markdown",
   "id": "e876d5a9-48d3-4479-a3af-2cfb6c2bf774",
   "metadata": {
    "jp-MarkdownHeadingCollapsed": true
   },
   "source": [
    "## Interpreter vs Compiler\n",
    "\n",
    "**Interpreter:**\n",
    "- An interpreter reads and executes code line by line, translating each line of code into machine code or intermediate code and immediately executing it.\n",
    "- It does not produce an independent executable file but rather directly executes the source code.\n",
    "- Interpreters are typically used in scripting languages like Python, prioritizing ease of development and portability over execution speed.\n",
    "- They are generally slower than compilers because they analyze and execute code at runtime.\n",
    "\n",
    "**Compiler:**\n",
    "- A compiler translates the entire source code into machine code or another lower-level language in one go, producing an independent executable file.\n",
    "- Compilation happens before execution, enabling faster execution after the initial compilation phase.\n",
    "- Compiled languages including C and C++ focuse on performance and efficiency.\n",
    "---"
   ]
  },
  {
   "cell_type": "markdown",
   "id": "044c2b1a-e843-4124-b4fb-3c83f1680394",
   "metadata": {},
   "source": [
    "## How Python Interpreter Works\n",
    "\n",
    "1. **Lexical Analysis (Tokenization):** The interpreter breaks down the source code into a sequence of tokens (keywords, identifiers, operators, etc.) through lexical analysis.\n",
    "\n",
    "2. **Parsing:** It then parses these tokens into a parse tree (abstract syntax tree) to understand the structure and meaning of the code.\n",
    "\n",
    "3. **Bytecode Compilation:** Python compiles the parsed code into bytecode, which is a low-level platform-independent representation of the source code.\n",
    "\n",
    "4. **Execution:** The Python Virtual Machine (PVM) interprets this bytecode. It translates bytecode into machine code and executes it step by step.\n",
    "\n",
    "5. **Dynamic Typing and Memory Management:** Python’s interpreter manages memory allocation and dynamic typing, allowing variables to change types as the program runs and handling memory management automatically (e.g., garbage collection).\n",
    "\n",
    "Python's interpreter approach provides flexibility and ease of use, suitable for rapid development and scripting tasks. However, it typically sacrifices some execution speed compared to compiled languages, aligning with Python's design goals of simplicity and readability.\n",
    "\n",
    "![Alt text](python-interpreter.png)"
   ]
  },
  {
   "cell_type": "markdown",
   "id": "9f60fd42-0e5d-4b7f-bab1-278d67679c04",
   "metadata": {},
   "source": [
    "---\n",
    "## Python Bytecode\n",
    "\n",
    "Bytecode is an intermediate, lower-level representation of your source code that Python generates before execution. This bytecode is a set of instructions executed by the Python Virtual Machine (PVM).\n",
    "\n",
    "### Key Points About Python Bytecode:\n",
    "\n",
    "1. **Intermediate Representation:**\n",
    "   - Bytecode is not machine code. It's a set of instructions that is platform-independent and executed by the Python interpreter.\n",
    "\n",
    "2. **Compilation to Bytecode:**\n",
    "   - When you run a Python script, the interpreter first compiles it into bytecode. This happens automatically, and the bytecode is stored in `.pyc` files (Python compiled files) within the `__pycache__` directory.\n",
    "\n",
    "3. **Execution by Python Virtual Machine (PVM):**\n",
    "   - The PVM executes the bytecode instructions. It is part of the Python runtime environment and responsible for interpreting the bytecode and interacting with the operating system.\n",
    "\n",
    "4. **Caching:**\n",
    "   - Python caches bytecode in `.pyc` files to speed up subsequent runs of the same program. If the source code hasn't changed, Python can skip the compilation step and directly execute the cached bytecode.\n",
    "\n",
    "5. **Portability:**\n",
    "   - Bytecode is platform-independent, meaning it can be run on any platform that has a compatible Python interpreter.\n",
    "\n",
    "6. **Optimization:**\n",
    "   - Python performs some optimizations during bytecode compilation, but it is generally not as aggressively optimized as code compiled by traditional compilers like those for C or C++.\n",
    "\n",
    "### Viewing Bytecode\n",
    "\n",
    "You can view the bytecode generated by Python using the `dis` module, which disassembles the bytecode into a human-readable format.\n"
   ]
  },
  {
   "cell_type": "code",
   "execution_count": 1,
   "id": "66a8210a-2f15-4e03-b33b-3d9a935996c5",
   "metadata": {},
   "outputs": [
    {
     "name": "stdout",
     "output_type": "stream",
     "text": [
      "  3           0 RESUME                   0\n",
      "\n",
      "  4           2 LOAD_FAST                0 (a)\n",
      "              4 LOAD_FAST                1 (b)\n",
      "              6 BINARY_OP                0 (+)\n",
      "             10 RETURN_VALUE\n"
     ]
    }
   ],
   "source": [
    "import dis\n",
    "\n",
    "def example_function(a, b):\n",
    "    return a + b\n",
    "\n",
    "dis.dis(example_function)"
   ]
  }
 ],
 "metadata": {
  "kernelspec": {
   "display_name": "Python 3 (ipykernel)",
   "language": "python",
   "name": "python3"
  },
  "language_info": {
   "codemirror_mode": {
    "name": "ipython",
    "version": 3
   },
   "file_extension": ".py",
   "mimetype": "text/x-python",
   "name": "python",
   "nbconvert_exporter": "python",
   "pygments_lexer": "ipython3",
   "version": "3.12.3"
  }
 },
 "nbformat": 4,
 "nbformat_minor": 5
}
