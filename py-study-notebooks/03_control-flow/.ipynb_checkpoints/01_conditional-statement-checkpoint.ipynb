{
 "cells": [
  {
   "cell_type": "markdown",
   "id": "eeae2bf1-9803-430c-ae5a-911c0b6c915f",
   "metadata": {},
   "source": [
    "# Exercise 1: Conditional Statement -> `if` and `match-case`"
   ]
  },
  {
   "cell_type": "markdown",
   "id": "ccdab7b2-a851-4c6c-9832-deec77a016cb",
   "metadata": {},
   "source": [
    "---"
   ]
  },
  {
   "cell_type": "markdown",
   "id": "7c209d74-2c74-4df4-9db8-09537b509d99",
   "metadata": {},
   "source": [
    "## Table of Contents\n",
    "\n",
    "1. **Introduction**\n",
    "   - Overview of `if` statements\n",
    "   - Overview of `match-case` statements\n",
    "<p></p>\n",
    "\n",
    "2. **Basic `if` Statements**\n",
    "   - 2.1 `if` Statement\n",
    "   - 2.2 `if-else` Statement\n",
    "   - 2.3 `if-elif-else` Statement\n",
    "   - 2.4 Conditional Expressions (Ternary Operators)\n",
    "<p></p>\n",
    "\n",
    "3. **Advanced `if` Statements**\n",
    "   - 3.1 Nested `if` Statements\n",
    "   - 3.2 Combining Multiple Conditions\n",
    "   - 3.3 `if` Statements with Logical Operators\n",
    "   - 3.4 Using `if` with Functions\n",
    "<p></p>\n",
    "\n",
    "4. **Basic `match-case` Statements**\n",
    "   - 4.1 Simple Matching\n",
    "   - 4.2 Matching with Wildcards\n",
    "<p></p>\n",
    "\n",
    "5. **Advanced `match-case` Statements**\n",
    "   - 5.1 Matching with Patterns\n",
    "   - 5.2 Using `match-case` with Data Classes\n",
    "   - 5.3 Advanced Pattern Matching Techniques\n",
    "   - 5.4 Nested `match-case` Statements\n",
    "<p></p>\n",
    "\n",
    "6. **Examples and Use Cases**\n",
    "<p></p>"
   ]
  },
  {
   "cell_type": "markdown",
   "id": "bdcfc6a0-1d46-4a5f-b8dd-b1a7cbf426a2",
   "metadata": {},
   "source": [
    "---"
   ]
  },
  {
   "cell_type": "markdown",
   "id": "ebf49587-38c2-4158-9b12-b87ea4e5ae66",
   "metadata": {},
   "source": [
    "### 1- Introduction\n",
    "\n",
    "In Python, control flow statements like `if` and `match-case` help determine which blocks of code to execute based on certain conditions. This guide covers both basic and advanced usage of these statements."
   ]
  },
  {
   "cell_type": "markdown",
   "id": "e86b1cf0-bd81-4dcb-a3cb-1ffd9b601627",
   "metadata": {},
   "source": [
    "---"
   ]
  },
  {
   "cell_type": "markdown",
   "id": "4e049686-2243-494b-9466-4bdaace9ffe5",
   "metadata": {},
   "source": [
    "### 2- Basic `if` Statements"
   ]
  },
  {
   "cell_type": "markdown",
   "id": "c2d1e40e-522c-4f8c-a198-54809b37ae44",
   "metadata": {},
   "source": [
    "#### 2.1 `if` Statement\n",
    "\n",
    "The `if` statement executes a block of code if a specified condition is true."
   ]
  },
  {
   "cell_type": "code",
   "execution_count": 2,
   "id": "a55b6c44-76e3-4562-b221-10d2bd318606",
   "metadata": {},
   "outputs": [
    {
     "name": "stdout",
     "output_type": "stream",
     "text": [
      "You are an adult.\n"
     ]
    }
   ],
   "source": [
    "age = 18\n",
    "if age >= 18:\n",
    "    print(\"You are an adult.\")  # Output: You are an adult."
   ]
  },
  {
   "cell_type": "markdown",
   "id": "c36b5995-b589-4908-947c-f9693145abd0",
   "metadata": {},
   "source": [
    "#### 2.2 `if-else` Statement\n",
    "\n",
    "The `if-else` statement executes one block of code if a condition is `True`, and another block if it is `False`."
   ]
  },
  {
   "cell_type": "code",
   "execution_count": 4,
   "id": "a4aefffa-90fa-4306-9e22-cfa297f0fcb8",
   "metadata": {},
   "outputs": [
    {
     "name": "stdout",
     "output_type": "stream",
     "text": [
      "You are not an adult.\n"
     ]
    }
   ],
   "source": [
    "age = 16\n",
    "if age >= 18:\n",
    "    print(\"You are an adult.\")\n",
    "else:\n",
    "    print(\"You are not an adult.\")  # Output: You are not an adult."
   ]
  },
  {
   "cell_type": "markdown",
   "id": "eb0642eb-4ca8-4758-9812-862741275797",
   "metadata": {},
   "source": [
    "#### 2.3 `if-elif-else` Statement\n",
    "\n",
    "The `if-elif-else` statement checks multiple conditions and executes the corresponding block of code."
   ]
  },
  {
   "cell_type": "code",
   "execution_count": 5,
   "id": "c5ff4be0-7fb0-4477-acef-c2df393e5844",
   "metadata": {},
   "outputs": [
    {
     "name": "stdout",
     "output_type": "stream",
     "text": [
      "You are an adult.\n"
     ]
    }
   ],
   "source": [
    "age = 20\n",
    "if age < 13:\n",
    "    print(\"You are a child.\")\n",
    "elif age < 20:\n",
    "    print(\"You are a teenager.\")\n",
    "else:\n",
    "    print(\"You are an adult.\")  # Output: You are an adult."
   ]
  },
  {
   "cell_type": "markdown",
   "id": "475f63a2-28ae-4d52-bd90-9f36a1c9f374",
   "metadata": {},
   "source": [
    "#### 2.4 Conditional Expressions (Ternary Operators)\n",
    "\n",
    "Conditional expressions provide a concise way to write `if-else` statements in a single line."
   ]
  },
  {
   "cell_type": "code",
   "execution_count": 6,
   "id": "a9438c2c-4dff-4cc4-bd2a-16daf24bcc31",
   "metadata": {},
   "outputs": [
    {
     "name": "stdout",
     "output_type": "stream",
     "text": [
      "Minor\n"
     ]
    }
   ],
   "source": [
    "age = 17\n",
    "status = \"Adult\" if age >= 18 else \"Minor\"\n",
    "print(status)  # Output: Minor"
   ]
  },
  {
   "cell_type": "markdown",
   "id": "b2cb3d47-5b42-4f12-8505-1dd4b569727c",
   "metadata": {},
   "source": [
    "---"
   ]
  },
  {
   "cell_type": "markdown",
   "id": "0b8cf74f-a3da-42ba-9215-9b30edbfc9d4",
   "metadata": {},
   "source": [
    "### 3- Advanced `if` Statements"
   ]
  },
  {
   "cell_type": "markdown",
   "id": "b116847e-da2c-422d-b5be-b62226690a25",
   "metadata": {},
   "source": [
    "### 3.1 Nested `if` Statements\n",
    "\n",
    "Nested `if` statements allow for checking multiple conditions within another condition."
   ]
  },
  {
   "cell_type": "code",
   "execution_count": 7,
   "id": "e3c5cf36-898f-4350-80b1-40402f300515",
   "metadata": {},
   "outputs": [
    {
     "name": "stdout",
     "output_type": "stream",
     "text": [
      "You are a young adult.\n"
     ]
    }
   ],
   "source": [
    "age = 25\n",
    "if age > 18:\n",
    "    if age < 30:\n",
    "        print(\"You are a young adult.\")  # Output: You are a young adult.\n",
    "    else:\n",
    "        print(\"You are an adult.\")\n",
    "else:\n",
    "    print(\"You are not an adult.\")"
   ]
  },
  {
   "cell_type": "markdown",
   "id": "f56ad0dd-8113-4496-b834-33f2d9fb88c8",
   "metadata": {},
   "source": [
    "#### 3.2 Combining Multiple Conditions\n",
    "\n",
    "Combining conditions using `and`, `or`, and `not` to create complex logical expressions."
   ]
  },
  {
   "cell_type": "code",
   "execution_count": 8,
   "id": "693cffd4-61c0-46a8-9adb-c52f666b84c2",
   "metadata": {},
   "outputs": [
    {
     "name": "stdout",
     "output_type": "stream",
     "text": [
      "Eligible for the program.\n"
     ]
    }
   ],
   "source": [
    "age = 25\n",
    "income = 50000\n",
    "if age > 18 and income > 40000:\n",
    "    print(\"Eligible for the program.\")  # Output: Eligible for the program."
   ]
  },
  {
   "cell_type": "markdown",
   "id": "5229c9e9-4c67-4edd-9b5b-05530da06c03",
   "metadata": {},
   "source": [
    "#### 3.3 `if` Statements with Logical Operators\n",
    "\n",
    "Using logical operators to check multiple conditions simultaneously."
   ]
  },
  {
   "cell_type": "code",
   "execution_count": 9,
   "id": "07bb7a56-cb01-4a97-a8a5-48e8a847f8ac",
   "metadata": {},
   "outputs": [
    {
     "name": "stdout",
     "output_type": "stream",
     "text": [
      "It's a hot and humid day.\n"
     ]
    }
   ],
   "source": [
    "temperature = 30\n",
    "humidity = 70\n",
    "if temperature > 25 and humidity > 60:\n",
    "    print(\"It's a hot and humid day.\")  # Output: It's a hot and humid day."
   ]
  },
  {
   "cell_type": "markdown",
   "id": "5ee6e4a2-a560-459f-b8c6-230bdf638d2d",
   "metadata": {},
   "source": [
    "#### 3.4 Using `if` with Functions\n",
    "\n",
    "Combining `if` statements with functions for cleaner and more modular code."
   ]
  },
  {
   "cell_type": "code",
   "execution_count": 10,
   "id": "33b4ef98-0e91-4d82-a1d1-6d393446558c",
   "metadata": {},
   "outputs": [
    {
     "name": "stdout",
     "output_type": "stream",
     "text": [
      "Eligible for the program.\n"
     ]
    }
   ],
   "source": [
    "def check_eligibility(age, income):\n",
    "    if age > 18 and income > 40000:\n",
    "        return \"Eligible for the program.\"\n",
    "    else:\n",
    "        return \"Not eligible.\"\n",
    "\n",
    "print(check_eligibility(25, 50000))  # Output: Eligible for the program."
   ]
  },
  {
   "cell_type": "markdown",
   "id": "52fcb28b-0f32-4a41-a8a9-8dbc9cab5c77",
   "metadata": {},
   "source": [
    "---"
   ]
  },
  {
   "cell_type": "markdown",
   "id": "d09be43b-3b16-4c01-a425-103607cb50ef",
   "metadata": {},
   "source": [
    "### 4- Basic `match-case` Statements"
   ]
  },
  {
   "cell_type": "markdown",
   "id": "bb3dceb3-f458-4363-966e-d4403beeb29e",
   "metadata": {},
   "source": [
    "#### 4.1 Simple Matching\n",
    "\n",
    "The `match-case` statement is used to match values against patterns."
   ]
  },
  {
   "cell_type": "code",
   "execution_count": 11,
   "id": "f0ba770f-3952-48d9-87e3-7f5e21157285",
   "metadata": {},
   "outputs": [
    {
     "name": "stdout",
     "output_type": "stream",
     "text": [
      "Start of the work week.\n"
     ]
    }
   ],
   "source": [
    "def describe_day(day):\n",
    "    match day:\n",
    "        case \"Monday\":\n",
    "            print(\"Start of the work week.\")\n",
    "        case \"Friday\":\n",
    "            print(\"Almost the weekend.\")\n",
    "        case _:\n",
    "            print(\"Just another day.\")\n",
    "\n",
    "describe_day(\"Monday\")  # Output: Start of the work week."
   ]
  },
  {
   "cell_type": "markdown",
   "id": "5170b672-2b60-4a33-8529-83e2a999bab5",
   "metadata": {},
   "source": [
    "#### 4.2 Matching with Wildcards\n",
    "\n",
    "Using the wildcard `_` to match any value."
   ]
  },
  {
   "cell_type": "code",
   "execution_count": 12,
   "id": "c10c46ef-1aaf-4442-a82c-85c6cd2b9f79",
   "metadata": {},
   "outputs": [
    {
     "name": "stdout",
     "output_type": "stream",
     "text": [
      "Color not recognized.\n"
     ]
    }
   ],
   "source": [
    "def identify_color(color):\n",
    "    match color:\n",
    "        case \"red\":\n",
    "            print(\"The color is red.\")\n",
    "        case \"blue\":\n",
    "            print(\"The color is blue.\")\n",
    "        case _:\n",
    "            print(\"Color not recognized.\")\n",
    "\n",
    "identify_color(\"green\")  # Output: Color not recognized."
   ]
  },
  {
   "cell_type": "markdown",
   "id": "a9e04f76-fa94-4764-a2a6-694b6ac27135",
   "metadata": {},
   "source": [
    "---"
   ]
  },
  {
   "cell_type": "markdown",
   "id": "fd96cc63-98e5-47a3-892c-007c2eb4a902",
   "metadata": {},
   "source": [
    "### 5- Advanced `match-case` Statements"
   ]
  },
  {
   "cell_type": "markdown",
   "id": "35d55a84-348c-4744-a939-ecb17e3b7cb4",
   "metadata": {},
   "source": [
    "#### 5.1 Matching with Patterns\n",
    "\n",
    "Using pattern matching to match complex data structures."
   ]
  },
  {
   "cell_type": "code",
   "execution_count": 13,
   "id": "27b19b33-1c46-4cd5-9361-0c61427a9754",
   "metadata": {},
   "outputs": [
    {
     "name": "stdout",
     "output_type": "stream",
     "text": [
      "Tuple with values: 1 and 2\n",
      "List with values: 1, 2 and the rest [3, 4]\n"
     ]
    }
   ],
   "source": [
    "def process(value):\n",
    "    match value:\n",
    "        case (x, y):\n",
    "            print(f\"Tuple with values: {x} and {y}\")\n",
    "        case [x, y, *rest]:\n",
    "            print(f\"List with values: {x}, {y} and the rest {rest}\")\n",
    "        case _:\n",
    "            print(\"Other type\")\n",
    "\n",
    "process((1, 2))  # Output: Tuple with values: 1 and 2\n",
    "process([1, 2, 3, 4])  # Output: List with values: 1, 2 and the rest [3, 4]"
   ]
  },
  {
   "cell_type": "markdown",
   "id": "89e31491-0a75-4aad-ab80-79d58a2eb8d8",
   "metadata": {},
   "source": [
    "#### 5.2 Using `match-case` with Data Classes\n",
    "\n",
    "Applying pattern matching to data classes for cleaner and more readable code."
   ]
  },
  {
   "cell_type": "code",
   "execution_count": 14,
   "id": "628357eb-675d-46e2-9b6c-ccb28e9d405f",
   "metadata": {},
   "outputs": [
    {
     "name": "stdout",
     "output_type": "stream",
     "text": [
      "Hello Alice, age 30\n"
     ]
    }
   ],
   "source": [
    "from dataclasses import dataclass\n",
    "\n",
    "@dataclass\n",
    "class Person:\n",
    "    name: str\n",
    "    age: int\n",
    "\n",
    "def greet(person):\n",
    "    match person:\n",
    "        case Person(name=\"Alice\", age=age):\n",
    "            print(f\"Hello Alice, age {age}\")\n",
    "        case Person(name=name, age=age):\n",
    "            print(f\"Hello {name}, age {age}\")\n",
    "\n",
    "greet(Person(\"Alice\", 30))  # Output: Hello Alice, age 30"
   ]
  },
  {
   "cell_type": "markdown",
   "id": "74c24ec0-ecb0-4221-bf4c-991eadd18d9d",
   "metadata": {},
   "source": [
    "#### 5.3 Advanced Pattern Matching Techniques\n",
    "\n",
    "Using advanced techniques like guard clauses in `match-case`."
   ]
  },
  {
   "cell_type": "code",
   "execution_count": 16,
   "id": "747258c4-4b8b-48f5-b7e9-bdeb7fc2e75c",
   "metadata": {},
   "outputs": [
    {
     "name": "stdout",
     "output_type": "stream",
     "text": [
      "Positive integer\n",
      "Negative integer\n",
      "Not an integer\n"
     ]
    }
   ],
   "source": [
    "def evaluate(value):\n",
    "    match value:\n",
    "        case int() as number if number > 0:\n",
    "            print(\"Positive integer\")\n",
    "        case int() as number if number < 0:\n",
    "            print(\"Negative integer\")\n",
    "        case _:\n",
    "            print(\"Not an integer\")\n",
    "\n",
    "evaluate(10)      # Output: Positive integer\n",
    "evaluate(-5)      # Output: Negative integer\n",
    "evaluate(\"text\")  # Output: Not an integer"
   ]
  },
  {
   "cell_type": "markdown",
   "id": "7380d274-c847-4b89-a07f-1008b7a18335",
   "metadata": {},
   "source": [
    "#### 5.4 Nested `match-case` Statements\n",
    "\n",
    "Utilizing nested `match-case` statements for more complex data structures."
   ]
  },
  {
   "cell_type": "code",
   "execution_count": 17,
   "id": "fa2423a2-ed44-459b-9e28-440e143f4a30",
   "metadata": {},
   "outputs": [
    {
     "name": "stdout",
     "output_type": "stream",
     "text": [
      "Line from (0, 0) to (1, 1)\n"
     ]
    }
   ],
   "source": [
    "def analyze(data):\n",
    "    match data:\n",
    "        case {\"type\": \"point\", \"x\": x, \"y\": y}:\n",
    "            print(f\"Point at ({x}, {y})\")\n",
    "        case {\"type\": \"line\", \"start\": start, \"end\": end}:\n",
    "            match (start, end):\n",
    "                case ((x1, y1), (x2, y2)):\n",
    "                    print(f\"Line from ({x1}, {y1}) to ({x2}, {y2})\")\n",
    "\n",
    "analyze({\"type\": \"line\", \"start\": (0, 0), \"end\": (1, 1)})  # Output: Line from (0, 0) to (1, 1)"
   ]
  },
  {
   "cell_type": "markdown",
   "id": "02a9af4a-85dc-4306-8a39-9704cdd76d19",
   "metadata": {},
   "source": [
    "---"
   ]
  },
  {
   "cell_type": "markdown",
   "id": "35d8048f-65ca-4151-8a47-bdf08335b4d5",
   "metadata": {},
   "source": [
    "### 6- Examples and Use Cases"
   ]
  },
  {
   "cell_type": "markdown",
   "id": "8e5fa4a1-83ba-4dff-b87f-486c88667185",
   "metadata": {},
   "source": [
    "#### Example 1: Complex Conditions in `if`\n",
    "\n",
    "Combining multiple conditions in an `if` statement."
   ]
  },
  {
   "cell_type": "code",
   "execution_count": 18,
   "id": "b1f4cfb6-e4b3-42a4-bef2-6cf1c1e9028f",
   "metadata": {},
   "outputs": [
    {
     "name": "stdout",
     "output_type": "stream",
     "text": [
      "Weather is either very humid or very dry.\n"
     ]
    }
   ],
   "source": [
    "temperature = 15\n",
    "humidity = 80\n",
    "if temperature < 20 and (humidity > 70 or humidity < 30):\n",
    "    print(\"Weather is either very humid or very dry.\")\n",
    "# Output: Weather is either very humid or very dry."
   ]
  },
  {
   "cell_type": "markdown",
   "id": "7bb31f5e-49ef-4a03-add4-e7c39dba020a",
   "metadata": {},
   "source": [
    "#### Example 2: Using `match-case` for Structured Data\n",
    "\n",
    "Matching structured data with `match-case`."
   ]
  },
  {
   "cell_type": "code",
   "execution_count": 20,
   "id": "d54b5586-90ba-4012-8fcf-b3db78a0396c",
   "metadata": {},
   "outputs": [
    {
     "name": "stdout",
     "output_type": "stream",
     "text": [
      "Rectangle with width 10 and height 20\n"
     ]
    }
   ],
   "source": [
    "def describe_shape(shape):\n",
    "    match shape:\n",
    "        case {\"type\": \"circle\", \"radius\": r}:\n",
    "            print(f\"Circle with radius {r}\")\n",
    "        case {\"type\": \"rectangle\", \"width\": w, \"height\": h}:\n",
    "            print(f\"Rectangle with width {w} and height {h}\")\n",
    "        case _:\n",
    "            print(\"Unknown shape\")\n",
    "\n",
    "describe_shape({\"type\": \"rectangle\", \"width\": 10, \"height\": 20})\n",
    "# Output: Rectangle with width 10 and height 20"
   ]
  },
  {
   "cell_type": "markdown",
   "id": "9a694697-2b48-4fa5-ad86-57c505232d14",
   "metadata": {},
   "source": [
    "---"
   ]
  },
  {
   "cell_type": "markdown",
   "id": "db542439-ac3b-449f-aa5c-94aa147701ae",
   "metadata": {},
   "source": [
    "# THE END"
   ]
  }
 ],
 "metadata": {
  "kernelspec": {
   "display_name": "Python 3 (ipykernel)",
   "language": "python",
   "name": "python3"
  },
  "language_info": {
   "codemirror_mode": {
    "name": "ipython",
    "version": 3
   },
   "file_extension": ".py",
   "mimetype": "text/x-python",
   "name": "python",
   "nbconvert_exporter": "python",
   "pygments_lexer": "ipython3",
   "version": "3.12.3"
  }
 },
 "nbformat": 4,
 "nbformat_minor": 5
}
