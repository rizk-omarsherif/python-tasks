{
 "cells": [
  {
   "cell_type": "markdown",
   "id": "1b89ff15-6b17-4814-b6b0-c83248445c60",
   "metadata": {},
   "source": [
    "# Exercise 2: Loops in Python -> `for` and `while`"
   ]
  },
  {
   "cell_type": "markdown",
   "id": "93df2b29-3c17-4a1d-b7c1-1051fe28ff1e",
   "metadata": {},
   "source": [
    "---"
   ]
  },
  {
   "cell_type": "markdown",
   "id": "a7490ccc-ed35-427f-94ab-c3b731519e81",
   "metadata": {},
   "source": [
    "## Table of Contents\n",
    "\n",
    "1. **Introduction**\n",
    "   - Overview of `for` loops\n",
    "   - Overview of `while` loops\n",
    "<p></p>\n",
    "\n",
    "2. **Basic `for` Loops**\n",
    "   - 2.1 Iterating Over a List\n",
    "   - 2.2 Iterating Over a String\n",
    "   - 2.3 Using `range()` with `for` Loops\n",
    "   - 2.4 Nested `for` Loops\n",
    "<p></p>\n",
    "\n",
    "3. **Advanced `for` Loops**\n",
    "   - 3.1 List Comprehensions\n",
    "   - 3.2 Enumerate and Zip\n",
    "   - 3.3 Using `else` with `for` Loops\n",
    "   - 3.4 Iterating Over Dictionaries\n",
    "   - 3.5 Shorthand `for`\n",
    "<p></p>\n",
    "\n",
    "4. **Basic `while` Loops**\n",
    "   - 4.1 Simple `while` Loop\n",
    "   - 4.2 `while-else` Statement\n",
    "   - 4.3 Infinite `while` Loops\n",
    "   - 4.4 Controlling the Loop with `break` and `continue`\n",
    "<p></p>\n",
    "\n",
    "5. **Advanced `while` Loops**\n",
    "   - 5.1 Combining `while` with `else`\n",
    "   - 5.2 Complex Conditions\n",
    "   - 5.3 Handling Loop Termination\n",
    "   - 5.4 Using `while` with Functions\n",
    "<p></p>\n",
    "\n",
    "6. **Examples and Use Cases**\n",
    "<p></p>"
   ]
  },
  {
   "cell_type": "markdown",
   "id": "9f5207fa-429b-480e-8161-a8866716a08d",
   "metadata": {},
   "source": [
    "---"
   ]
  },
  {
   "cell_type": "markdown",
   "id": "6347e806-672a-4e96-971d-bbe123223051",
   "metadata": {},
   "source": [
    "### 1- Introduction\n",
    "\n",
    "Loops in Python are fundamental for executing a block of code multiple times. This section explores both `for` and `while` loops, detailing their basic and advanced uses."
   ]
  },
  {
   "cell_type": "markdown",
   "id": "888b667a-d8ed-43d8-8bc6-c2faed863c5c",
   "metadata": {},
   "source": [
    "---"
   ]
  },
  {
   "cell_type": "markdown",
   "id": "59294428-b57e-4c5c-9fbb-3ea53109a3cd",
   "metadata": {},
   "source": [
    "### 2- Basic `for` Loops"
   ]
  },
  {
   "cell_type": "markdown",
   "id": "84f7bd7a-1ad5-4f36-8c01-b34ecc4274b5",
   "metadata": {},
   "source": [
    "#### 2.1 Iterating Over a `List`\n",
    "\n",
    "The `for` loop iterates over elements in a `list`."
   ]
  },
  {
   "cell_type": "code",
   "execution_count": 1,
   "id": "2e7bec3f-bd7c-4a00-a042-b90e1ebd100f",
   "metadata": {},
   "outputs": [
    {
     "name": "stdout",
     "output_type": "stream",
     "text": [
      "apple\n",
      "banana\n",
      "cherry\n"
     ]
    }
   ],
   "source": [
    "fruits = [\"apple\", \"banana\", \"cherry\"]\n",
    "for fruit in fruits:\n",
    "    print(fruit)\n",
    "# Output:\n",
    "# apple\n",
    "# banana\n",
    "# cherry"
   ]
  },
  {
   "cell_type": "markdown",
   "id": "0e5bde3d-1533-43d8-bb6b-8c7d3bae970e",
   "metadata": {},
   "source": [
    "#### 2.2 Iterating Over a String\n",
    "\n",
    "The `for` loop can iterate over each character in a `string`."
   ]
  },
  {
   "cell_type": "code",
   "execution_count": 2,
   "id": "a0270e98-59e6-416c-9e8e-a9768cf1c125",
   "metadata": {},
   "outputs": [
    {
     "name": "stdout",
     "output_type": "stream",
     "text": [
      "h\n",
      "e\n",
      "l\n",
      "l\n",
      "o\n"
     ]
    }
   ],
   "source": [
    "message = \"hello\"\n",
    "for char in message:\n",
    "    print(char)\n",
    "# Output:\n",
    "# h\n",
    "# e\n",
    "# l\n",
    "# l\n",
    "# o"
   ]
  },
  {
   "cell_type": "markdown",
   "id": "211a49e3-aeeb-4b1b-9ce9-97e666111a1d",
   "metadata": {},
   "source": [
    "### 2.3 Using `range()` with `for` Loops\n",
    "\n",
    "The `range()` function generates a sequence of numbers, useful for iteration."
   ]
  },
  {
   "cell_type": "code",
   "execution_count": 3,
   "id": "a97da066-4475-4e87-ba8b-7d0a3960aa85",
   "metadata": {},
   "outputs": [
    {
     "name": "stdout",
     "output_type": "stream",
     "text": [
      "0\n",
      "1\n",
      "2\n",
      "3\n",
      "4\n"
     ]
    }
   ],
   "source": [
    "for i in range(5):\n",
    "    print(i)\n",
    "# Output:\n",
    "# 0\n",
    "# 1\n",
    "# 2\n",
    "# 3\n",
    "# 4"
   ]
  },
  {
   "cell_type": "markdown",
   "id": "0af0a40d-893c-42fa-aadb-895cd54d2b5c",
   "metadata": {},
   "source": [
    "#### 2.4 Nested `for` Loops\n",
    "\n",
    "`for` loops can be nested within each other."
   ]
  },
  {
   "cell_type": "code",
   "execution_count": 4,
   "id": "ede30cee-38b3-451d-b1a0-1ee47e55e8dd",
   "metadata": {},
   "outputs": [
    {
     "name": "stdout",
     "output_type": "stream",
     "text": [
      "i=0, j=0\n",
      "i=0, j=1\n",
      "i=0, j=2\n",
      "i=1, j=0\n",
      "i=1, j=1\n",
      "i=1, j=2\n"
     ]
    }
   ],
   "source": [
    "for i in range(2):\n",
    "    for j in range(3):\n",
    "        print(f\"i={i}, j={j}\")\n",
    "# Output:\n",
    "# i=0, j=0\n",
    "# i=0, j=1\n",
    "# i=0, j=2\n",
    "# i=1, j=0\n",
    "# i=1, j=1\n",
    "# i=1, j=2"
   ]
  },
  {
   "cell_type": "markdown",
   "id": "cfcdd1e1-c153-46f6-a4a4-69fb1627eded",
   "metadata": {},
   "source": [
    "---"
   ]
  },
  {
   "cell_type": "markdown",
   "id": "3a0525bb-d7b8-426a-93bb-8d4a8a7b25ef",
   "metadata": {},
   "source": [
    "### 3- Advanced `for` Loops"
   ]
  },
  {
   "cell_type": "markdown",
   "id": "6e63f541-2324-40dd-b6f5-63dfcb14c156",
   "metadata": {},
   "source": [
    "#### 3.1 List Comprehensions\n",
    "\n",
    "List comprehensions provide a concise way to create lists using `for` loops."
   ]
  },
  {
   "cell_type": "code",
   "execution_count": 9,
   "id": "15cb2f2e-e25f-4306-a4bf-d94c74c759c7",
   "metadata": {},
   "outputs": [
    {
     "name": "stdout",
     "output_type": "stream",
     "text": [
      "[0, 1, 4, 9, 16, 25, 36, 49, 64, 81]\n"
     ]
    }
   ],
   "source": [
    "squares = [x**2 for x in range(10)]\n",
    "print(squares)\n",
    "# Output: [0, 1, 4, 9, 16, 25, 36, 49, 64, 81]"
   ]
  },
  {
   "cell_type": "markdown",
   "id": "d6331013-eed6-4688-8f08-aab915323d81",
   "metadata": {},
   "source": [
    "#### 3.2 Enumerate and Zip\n",
    "\n",
    "`enumerate()` adds a counter to an iterable, and `zip()` combines multiple iterables."
   ]
  },
  {
   "cell_type": "code",
   "execution_count": 10,
   "id": "ac3b07d2-5433-421b-8372-19766ffde6c9",
   "metadata": {},
   "outputs": [
    {
     "name": "stdout",
     "output_type": "stream",
     "text": [
      "Index 0: apple\n",
      "Index 1: banana\n",
      "Index 2: cherry\n",
      "Alice is 25 years old.\n",
      "Bob is 30 years old.\n",
      "Charlie is 35 years old.\n"
     ]
    }
   ],
   "source": [
    "# Using enumerate\n",
    "fruits = [\"apple\", \"banana\", \"cherry\"]\n",
    "for index, fruit in enumerate(fruits):\n",
    "    print(f\"Index {index}: {fruit}\")\n",
    "# Output:\n",
    "# Index 0: apple\n",
    "# Index 1: banana\n",
    "# Index 2: cherry\n",
    "\n",
    "# Using zip\n",
    "names = [\"Alice\", \"Bob\", \"Charlie\"]\n",
    "ages = [25, 30, 35]\n",
    "for name, age in zip(names, ages):\n",
    "    print(f\"{name} is {age} years old.\")\n",
    "# Output:\n",
    "# Alice is 25 years old.\n",
    "# Bob is 30 years old.\n",
    "# Charlie is 35 years old."
   ]
  },
  {
   "cell_type": "markdown",
   "id": "1d02ddcc-85b3-4ecc-a67f-c3986ba9f562",
   "metadata": {},
   "source": [
    "#### 3.3 Using `else` with `for` Loops\n",
    "\n",
    "An `else` block after a `for` loop executes if the loop completes normally."
   ]
  },
  {
   "cell_type": "code",
   "execution_count": 11,
   "id": "27e58c7c-e9c0-4087-bbd4-3d844d9d0125",
   "metadata": {},
   "outputs": [
    {
     "name": "stdout",
     "output_type": "stream",
     "text": [
      "0\n",
      "1\n",
      "2\n",
      "Loop completed without break.\n"
     ]
    }
   ],
   "source": [
    "for i in range(3):\n",
    "    print(i)\n",
    "else:\n",
    "    print(\"Loop completed without break.\")\n",
    "# Output:\n",
    "# 0\n",
    "# 1\n",
    "# 2\n",
    "# Loop completed without break."
   ]
  },
  {
   "cell_type": "markdown",
   "id": "92924ae0-2a3b-423a-a545-ebfcb214d613",
   "metadata": {},
   "source": [
    "#### 3.4 Iterating Over Dictionaries\n",
    "\n",
    "`for` loops can iterate over keys, values, or items of a dictionary."
   ]
  },
  {
   "cell_type": "code",
   "execution_count": 12,
   "id": "ca77f44a-c87f-4a27-b21b-39ae629823c0",
   "metadata": {},
   "outputs": [
    {
     "name": "stdout",
     "output_type": "stream",
     "text": [
      "name: Alice\n",
      "age: 25\n"
     ]
    }
   ],
   "source": [
    "person = {\"name\": \"Alice\", \"age\": 25}\n",
    "for key, value in person.items():\n",
    "    print(f\"{key}: {value}\")\n",
    "# Output:\n",
    "# name: Alice\n",
    "# age: 25"
   ]
  },
  {
   "cell_type": "markdown",
   "id": "567b5677-13cc-4908-861d-c2646612b139",
   "metadata": {},
   "source": [
    "#### 3.5 Shorthand `for`"
   ]
  },
  {
   "cell_type": "code",
   "execution_count": 3,
   "id": "fc40e3c9-f885-4e1d-b7df-79df936718ac",
   "metadata": {},
   "outputs": [
    {
     "name": "stdout",
     "output_type": "stream",
     "text": [
      "0\n",
      "2\n"
     ]
    },
    {
     "data": {
      "text/plain": [
       "[None, None]"
      ]
     },
     "execution_count": 3,
     "metadata": {},
     "output_type": "execute_result"
    }
   ],
   "source": [
    "[print(i) for i in range(3) if i%2==0]"
   ]
  },
  {
   "cell_type": "markdown",
   "id": "2ea28210-ef7e-4032-8e32-bd6c7e6bf8f4",
   "metadata": {},
   "source": [
    "---"
   ]
  },
  {
   "cell_type": "markdown",
   "id": "1e681ab4-3b65-4e21-a87b-b98153250f81",
   "metadata": {},
   "source": [
    "### 4- Basic `while` Loops"
   ]
  },
  {
   "cell_type": "markdown",
   "id": "461c38f9-b1f8-47bb-a5b0-20e563256199",
   "metadata": {},
   "source": [
    "#### 4.1 Simple `while` Loop\n",
    "\n",
    "The `while` loop continues as long as its condition is true."
   ]
  },
  {
   "cell_type": "code",
   "execution_count": 13,
   "id": "b36bf603-4a91-4861-93c0-81fe9313a9f2",
   "metadata": {},
   "outputs": [
    {
     "name": "stdout",
     "output_type": "stream",
     "text": [
      "0\n",
      "1\n",
      "2\n"
     ]
    }
   ],
   "source": [
    "count = 0\n",
    "while count < 3:\n",
    "    print(count)\n",
    "    count += 1\n",
    "# Output:\n",
    "# 0\n",
    "# 1\n",
    "# 2"
   ]
  },
  {
   "cell_type": "markdown",
   "id": "516999ca-de64-459d-a844-1bb9d3395b2e",
   "metadata": {},
   "source": [
    "#### 4.2 `while-else` Statement\n",
    "\n",
    "The `else` block after a `while` loop executes if the loop terminates normally."
   ]
  },
  {
   "cell_type": "code",
   "execution_count": 14,
   "id": "d94cb90e-f83e-48e8-98dd-4eb3385fa85b",
   "metadata": {},
   "outputs": [
    {
     "name": "stdout",
     "output_type": "stream",
     "text": [
      "0\n",
      "1\n",
      "2\n",
      "Loop completed.\n"
     ]
    }
   ],
   "source": [
    "count = 0\n",
    "while count < 3:\n",
    "    print(count)\n",
    "    count += 1\n",
    "else:\n",
    "    print(\"Loop completed.\")\n",
    "# Output:\n",
    "# 0\n",
    "# 1\n",
    "# 2\n",
    "# Loop completed."
   ]
  },
  {
   "cell_type": "markdown",
   "id": "2ebab58c-4183-4f35-898a-d3ec093f1d6d",
   "metadata": {},
   "source": [
    "#### 4.3 Infinite `while` Loops\n",
    "\n",
    "An infinite `while` loop runs until explicitly stopped with `break`."
   ]
  },
  {
   "cell_type": "code",
   "execution_count": 15,
   "id": "ee02ff9b-db0c-4949-a390-a203888c3196",
   "metadata": {},
   "outputs": [
    {
     "name": "stdout",
     "output_type": "stream",
     "text": [
      "This will run forever until stopped.\n"
     ]
    }
   ],
   "source": [
    "while True:\n",
    "    print(\"This will run forever until stopped.\")\n",
    "    break  # Stops the loop after one iteration"
   ]
  },
  {
   "cell_type": "markdown",
   "id": "803d3378-a044-4887-acc9-725f3e909a2c",
   "metadata": {},
   "source": [
    "#### 4.4 Controlling the Loop with `break` and `continue`\n",
    "\n",
    "`break` exits the loop, and `continue` skips to the next iteration."
   ]
  },
  {
   "cell_type": "code",
   "execution_count": 16,
   "id": "9e3806d8-5f8e-4441-bd35-bd65d2687fb8",
   "metadata": {},
   "outputs": [
    {
     "name": "stdout",
     "output_type": "stream",
     "text": [
      "0\n",
      "1\n",
      "3\n"
     ]
    }
   ],
   "source": [
    "for i in range(5):\n",
    "    if i == 2:\n",
    "        continue  # Skip iteration when i is 2\n",
    "    if i == 4:\n",
    "        break  # Exit loop when i is 4\n",
    "    print(i)\n",
    "# Output:\n",
    "# 0\n",
    "# 1\n",
    "# 3"
   ]
  },
  {
   "cell_type": "markdown",
   "id": "075768ac-22c8-44a8-9da8-af8a2a3c47bc",
   "metadata": {},
   "source": [
    "---"
   ]
  },
  {
   "cell_type": "markdown",
   "id": "99c94f63-d913-4b95-a304-4595001a0595",
   "metadata": {},
   "source": [
    "### 5- Advanced while Loops"
   ]
  },
  {
   "cell_type": "markdown",
   "id": "ad8f3e15-f663-41ed-b010-097976800c1e",
   "metadata": {},
   "source": [
    "#### 5.1 Combining `while` with `else`\n",
    "\n",
    "The `else` block after a `while` loop executes if the loop completes normally."
   ]
  },
  {
   "cell_type": "code",
   "execution_count": 17,
   "id": "d45e1aa7-f125-4497-863a-2c2f93f55138",
   "metadata": {},
   "outputs": [
    {
     "name": "stdout",
     "output_type": "stream",
     "text": [
      "0\n",
      "1\n",
      "2\n",
      "3\n",
      "4\n",
      "Finished counting.\n"
     ]
    }
   ],
   "source": [
    "count = 0\n",
    "while count < 5:\n",
    "    print(count)\n",
    "    count += 1\n",
    "else:\n",
    "    print(\"Finished counting.\")\n",
    "# Output:\n",
    "# 0\n",
    "# 1\n",
    "# 2\n",
    "# 3\n",
    "# 4\n",
    "# Finished counting."
   ]
  },
  {
   "cell_type": "markdown",
   "id": "e339704f-e16e-4add-859d-b0fb131cd41f",
   "metadata": {},
   "source": [
    "#### 5.2 Complex Conditions\n",
    "\n",
    "Using complex conditions within a `while` loop."
   ]
  },
  {
   "cell_type": "code",
   "execution_count": 18,
   "id": "31476e4c-d21d-408b-be2f-6de27eef695f",
   "metadata": {},
   "outputs": [
    {
     "name": "stdout",
     "output_type": "stream",
     "text": [
      "x=10, y=5\n",
      "x=9, y=6\n",
      "x=8, y=7\n"
     ]
    }
   ],
   "source": [
    "x = 10\n",
    "y = 5\n",
    "while x > y and y < 10:\n",
    "    print(f\"x={x}, y={y}\")\n",
    "    x -= 1\n",
    "    y += 1\n",
    "# Output:\n",
    "# x=10, y=5\n",
    "# x=9, y=6\n",
    "# x=8, y=7\n",
    "# x=7, y=8\n",
    "# x=6, y=9\n",
    "# x=5, y=10"
   ]
  },
  {
   "cell_type": "markdown",
   "id": "829bb86e-3ab6-4c6c-b0f8-1194ae646261",
   "metadata": {},
   "source": [
    "#### 5.3 Handling Loop Termination\n",
    "\n",
    "Gracefully handling loop termination with user input or other conditions."
   ]
  },
  {
   "cell_type": "code",
   "execution_count": 20,
   "id": "91079541-6b89-4678-a59b-bb2e54f9a542",
   "metadata": {},
   "outputs": [
    {
     "name": "stdin",
     "output_type": "stream",
     "text": [
      "Enter 'exit' to stop:  ok\n"
     ]
    },
    {
     "name": "stdout",
     "output_type": "stream",
     "text": [
      "You entered: ok\n"
     ]
    },
    {
     "name": "stdin",
     "output_type": "stream",
     "text": [
      "Enter 'exit' to stop:  ok\n"
     ]
    },
    {
     "name": "stdout",
     "output_type": "stream",
     "text": [
      "You entered: ok\n"
     ]
    },
    {
     "name": "stdin",
     "output_type": "stream",
     "text": [
      "Enter 'exit' to stop:  exit\n"
     ]
    },
    {
     "name": "stdout",
     "output_type": "stream",
     "text": [
      "Exiting loop.\n"
     ]
    }
   ],
   "source": [
    "while True:\n",
    "    user_input = input(\"Enter 'exit' to stop: \")\n",
    "    if user_input == \"exit\":\n",
    "        print(\"Exiting loop.\")\n",
    "        break\n",
    "    print(f\"You entered: {user_input}\")"
   ]
  },
  {
   "cell_type": "markdown",
   "id": "d3a7faa2-c43d-4269-a6e4-6a6e0c567e54",
   "metadata": {},
   "source": [
    "#### 5.4 Using `while` with Functions\n",
    "\n",
    "Combining `while` loops with functions for more modular code."
   ]
  },
  {
   "cell_type": "code",
   "execution_count": 21,
   "id": "ee73bfe6-4e24-45b0-975e-6839bf8d0a0f",
   "metadata": {},
   "outputs": [
    {
     "name": "stdout",
     "output_type": "stream",
     "text": [
      "5\n",
      "4\n",
      "3\n",
      "2\n",
      "1\n",
      "Done!\n"
     ]
    }
   ],
   "source": [
    "def countdown(n):\n",
    "    while n > 0:\n",
    "        print(n)\n",
    "        n -= 1\n",
    "    print(\"Done!\")\n",
    "\n",
    "countdown(5)\n",
    "# Output:\n",
    "# 5\n",
    "# 4\n",
    "# 3\n",
    "# 2\n",
    "# 1\n",
    "# Done!"
   ]
  },
  {
   "cell_type": "markdown",
   "id": "76ce059f-0319-435d-a09a-185f2071795d",
   "metadata": {},
   "source": [
    "---"
   ]
  },
  {
   "cell_type": "markdown",
   "id": "f31aa58f-7a2e-4fda-a2d1-1d08530e68b9",
   "metadata": {},
   "source": [
    "### 6- Examples and Use Cases"
   ]
  },
  {
   "cell_type": "markdown",
   "id": "1e0ac436-f80e-4ff2-bff4-0d7ab29ff44d",
   "metadata": {},
   "source": [
    "#### Example 1: `for` Loop with List Comprehension\n",
    "\n",
    "Creating a list of squared numbers using `for` loop comprehension."
   ]
  },
  {
   "cell_type": "code",
   "execution_count": 22,
   "id": "bbfe2a2d-9954-47c5-872e-229502ad7fe4",
   "metadata": {},
   "outputs": [
    {
     "name": "stdout",
     "output_type": "stream",
     "text": [
      "[0, 1, 4, 9, 16, 25, 36, 49, 64, 81]\n"
     ]
    }
   ],
   "source": [
    "squares = [x**2 for x in range(10)]\n",
    "print(squares)\n",
    "# Output: [0, 1, 4, 9, 16, 25, 36, 49, 64, 81]"
   ]
  },
  {
   "cell_type": "markdown",
   "id": "a3e93b60-b110-4a07-a462-4a474823bcb8",
   "metadata": {},
   "source": [
    "#### Example 2: `while` Loop with User Input\n",
    "\n",
    "Using a `while` loop to repeatedly ask for user input until a condition is met."
   ]
  },
  {
   "cell_type": "code",
   "execution_count": 23,
   "id": "fa8106fa-38b2-40d0-9c3b-04d6b0c7cd94",
   "metadata": {},
   "outputs": [
    {
     "name": "stdin",
     "output_type": "stream",
     "text": [
      "Enter a number (or 'stop' to end):  stop\n"
     ]
    },
    {
     "name": "stdout",
     "output_type": "stream",
     "text": [
      "Stopping.\n"
     ]
    }
   ],
   "source": [
    "while True:\n",
    "    response = input(\"Enter a number (or 'stop' to end): \")\n",
    "    if response == \"stop\":\n",
    "        print(\"Stopping.\")\n",
    "        break\n",
    "    elif response.isdigit():\n",
    "        print(f\"You entered: {response}\")\n",
    "    else:\n",
    "        print(\"Please enter a valid number or 'stop'.\")"
   ]
  },
  {
   "cell_type": "markdown",
   "id": "90d7cd28-fa0a-44ff-967f-98af133118b3",
   "metadata": {},
   "source": [
    "---"
   ]
  },
  {
   "cell_type": "markdown",
   "id": "3b55c7d2-3c73-4eca-9184-fcb594a43978",
   "metadata": {},
   "source": [
    "# THE END"
   ]
  },
  {
   "cell_type": "code",
   "execution_count": null,
   "id": "479aecc4-e68d-464b-a955-342c8a862ee2",
   "metadata": {},
   "outputs": [],
   "source": []
  }
 ],
 "metadata": {
  "kernelspec": {
   "display_name": "Python 3 (ipykernel)",
   "language": "python",
   "name": "python3"
  },
  "language_info": {
   "codemirror_mode": {
    "name": "ipython",
    "version": 3
   },
   "file_extension": ".py",
   "mimetype": "text/x-python",
   "name": "python",
   "nbconvert_exporter": "python",
   "pygments_lexer": "ipython3",
   "version": "3.12.3"
  }
 },
 "nbformat": 4,
 "nbformat_minor": 5
}
