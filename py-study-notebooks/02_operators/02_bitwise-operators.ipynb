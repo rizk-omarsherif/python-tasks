{
 "cells": [
  {
   "cell_type": "markdown",
   "id": "a12b055c-c408-4909-a622-8bacd106575d",
   "metadata": {},
   "source": [
    "# Exercise 2: Bitwise Operators in Python"
   ]
  },
  {
   "cell_type": "markdown",
   "id": "6968948b-db82-4db2-be3f-18e5c3169049",
   "metadata": {},
   "source": [
    "---"
   ]
  },
  {
   "cell_type": "markdown",
   "id": "bed2ebde-e072-45cf-9f10-d1fd43e8c44f",
   "metadata": {},
   "source": [
    "## Table of Contents\n",
    "\n",
    "1. **Introduction**\n",
    "<p></p>\n",
    "\n",
    "2. **Basic Bitwise Operators**\n",
    "   - 2.1 Bitwise AND (`&`)\n",
    "   - 2.2 Bitwise OR (`|`)\n",
    "   - 2.3 Bitwise XOR (`^`)\n",
    "   - 2.4 Bitwise NOT (`~`)\n",
    "<p></p>\n",
    "\n",
    "3. **Shift Operators**\n",
    "   - 3.1 Bitwise Left Shift (`<<`)\n",
    "   - 3.2 Bitwise Right Shift (`>>`)\n",
    "<p></p>\n",
    "\n",
    "4. **Examples and Use Cases**\n",
    "<p></p>"
   ]
  },
  {
   "cell_type": "markdown",
   "id": "eda79fb0-a620-41a0-a77c-93063968872f",
   "metadata": {},
   "source": [
    "---"
   ]
  },
  {
   "cell_type": "markdown",
   "id": "08c04854-ad2f-473c-b175-79d6fe6cdacb",
   "metadata": {},
   "source": [
    "### 1- Introduction\n",
    "\n",
    "Bitwise operators in Python are used to perform operations on binary numbers at the bit level. This guide covers the basic bitwise operators and shift operators, along with examples and use cases."
   ]
  },
  {
   "cell_type": "markdown",
   "id": "6107af4c-dab7-4744-9d19-c853770056f7",
   "metadata": {},
   "source": [
    "### 2- Basic Bitwise Operators"
   ]
  },
  {
   "cell_type": "markdown",
   "id": "19eddd60-eaa3-4a14-bb97-8a7394be8e51",
   "metadata": {},
   "source": [
    "#### 2.1 Bitwise AND (`&`)\n",
    "\n",
    "The bitwise AND operator performs a logical AND operation on each pair of corresponding bits of two integers. The result is 1 only if both bits are 1."
   ]
  },
  {
   "cell_type": "code",
   "execution_count": 4,
   "id": "87054935-ff16-4546-8607-db1e382f0e84",
   "metadata": {},
   "outputs": [
    {
     "name": "stdout",
     "output_type": "stream",
     "text": [
      "0b1\n"
     ]
    }
   ],
   "source": [
    "a = 0b101  # 5 in decimal\n",
    "b = 0b011  # 3 in decimal\n",
    "result = a & b\n",
    "print(bin(result))  # Output: 0b1 (1 in decimal)"
   ]
  },
  {
   "cell_type": "markdown",
   "id": "aee2f46c-1ca1-4059-908e-0ff2a074f330",
   "metadata": {},
   "source": [
    "#### 2.2 Bitwise OR (`|`)\n",
    "\n",
    "The bitwise OR operator performs a logical OR operation on each pair of corresponding bits of two integers. The result is 1 if at least one of the bits is 1."
   ]
  },
  {
   "cell_type": "code",
   "execution_count": 5,
   "id": "2f9213e5-86c7-4b31-92be-3bb7dc61e06c",
   "metadata": {},
   "outputs": [
    {
     "name": "stdout",
     "output_type": "stream",
     "text": [
      "0b111\n"
     ]
    }
   ],
   "source": [
    "a = 0b101  # 5 in decimal\n",
    "b = 0b011  # 3 in decimal\n",
    "result = a | b\n",
    "print(bin(result))  # Output: 0b111 (7 in decimal)"
   ]
  },
  {
   "cell_type": "markdown",
   "id": "4adacea2-eaae-4fae-8951-0cd86b9f5368",
   "metadata": {},
   "source": [
    "#### 2.3 Bitwise XOR (`^`)\n",
    "\n",
    "The bitwise XOR operator performs a logical XOR operation on each pair of corresponding bits of two integers. The result is 1 if only one of the bits is 1."
   ]
  },
  {
   "cell_type": "code",
   "execution_count": 6,
   "id": "db0a5bc9-a594-4415-88df-fbf04caa470b",
   "metadata": {},
   "outputs": [
    {
     "name": "stdout",
     "output_type": "stream",
     "text": [
      "0b110\n"
     ]
    }
   ],
   "source": [
    "a = 0b101  # 5 in decimal\n",
    "b = 0b011  # 3 in decimal\n",
    "result = a ^ b\n",
    "print(bin(result))  # Output: 0b110 (6 in decimal)"
   ]
  },
  {
   "cell_type": "markdown",
   "id": "6121a2dc-f5fc-4306-a2dd-cdde9a1ff4e4",
   "metadata": {},
   "source": [
    "#### 2.4 Bitwise NOT (`~`)\n",
    "\n",
    "The bitwise NOT operator inverts all the bits of an integer. It changes each 1 to 0 and each 0 to 1. Note that it returns the two's complement of the number, which is -x - 1 for a given number x."
   ]
  },
  {
   "cell_type": "code",
   "execution_count": 7,
   "id": "aabc0311-7887-44ae-a558-c8d1aef9d19f",
   "metadata": {},
   "outputs": [
    {
     "name": "stdout",
     "output_type": "stream",
     "text": [
      "-0b110\n"
     ]
    }
   ],
   "source": [
    "a = 0b101  # 5 in decimal\n",
    "result = ~a\n",
    "print(bin(result))  # Output: -0b110 (-6 in decimal)"
   ]
  },
  {
   "cell_type": "markdown",
   "id": "c2952cc4-dbdb-4e5b-8dd9-c191bcc998d0",
   "metadata": {},
   "source": [
    "---"
   ]
  },
  {
   "cell_type": "markdown",
   "id": "656f7972-1e8b-4f7a-a0ba-dd6792f3f43c",
   "metadata": {},
   "source": [
    "### 3- Shift Operators"
   ]
  },
  {
   "cell_type": "markdown",
   "id": "fc06b8a0-03dc-4949-9bf2-e280f6edffef",
   "metadata": {},
   "source": [
    "#### 3.1 Bitwise Left Shift (`<<`)\n",
    "\n",
    "The bitwise left shift operator shifts the bits of the first operand to the left by the number of positions specified by the second operand. Each shift to the left effectively multiplies the number by 2."
   ]
  },
  {
   "cell_type": "code",
   "execution_count": 8,
   "id": "2df3e336-5d5d-4abc-8cdc-0867b015b18a",
   "metadata": {},
   "outputs": [
    {
     "name": "stdout",
     "output_type": "stream",
     "text": [
      "0b1010\n"
     ]
    }
   ],
   "source": [
    "a = 0b101  # 5 in decimal\n",
    "result = a << 1\n",
    "print(bin(result))  # Output: 0b1010 (10 in decimal)"
   ]
  },
  {
   "cell_type": "markdown",
   "id": "278ebec3-5c37-4ee9-8ce6-d14d7f42aec2",
   "metadata": {},
   "source": [
    "#### 3.2 Bitwise Right Shift (`>>`)\n",
    "\n",
    "The bitwise right shift operator shifts the bits of the first operand to the right by the number of positions specified by the second operand. Each shift to the right effectively divides the number by 2."
   ]
  },
  {
   "cell_type": "code",
   "execution_count": 9,
   "id": "46e4f9e1-c29d-47f0-b819-acb0c3aa729e",
   "metadata": {},
   "outputs": [
    {
     "name": "stdout",
     "output_type": "stream",
     "text": [
      "0b10\n"
     ]
    }
   ],
   "source": [
    "a = 0b101  # 5 in decimal\n",
    "result = a >> 1\n",
    "print(bin(result))  # Output: 0b10 (2 in decimal)"
   ]
  },
  {
   "cell_type": "markdown",
   "id": "93599aad-e274-4423-af8d-1207518d1dbc",
   "metadata": {},
   "source": [
    "---"
   ]
  },
  {
   "cell_type": "markdown",
   "id": "e182ba0f-c9ca-479a-8132-47362d949a31",
   "metadata": {},
   "source": [
    "### 4- Examples and Use Cases"
   ]
  },
  {
   "cell_type": "markdown",
   "id": "e11983f6-ddba-4f99-82b7-0be6caefb03b",
   "metadata": {},
   "source": [
    "#### Example 1: Checking Even or Odd\n",
    "\n",
    "Using bitwise AND to check if a number is even or odd."
   ]
  },
  {
   "cell_type": "code",
   "execution_count": 10,
   "id": "73a85404-a9d5-48ab-9217-44b0b9b3981b",
   "metadata": {},
   "outputs": [
    {
     "name": "stdout",
     "output_type": "stream",
     "text": [
      "True\n",
      "False\n"
     ]
    }
   ],
   "source": [
    "def is_even(n):\n",
    "    return (n & 1) == 0\n",
    "\n",
    "print(is_even(0b100))  # True (4 is even)\n",
    "print(is_even(0b101))  # False (5 is odd)"
   ]
  },
  {
   "cell_type": "markdown",
   "id": "b7ef4876-1cd4-4f95-ac2b-467d9338e242",
   "metadata": {},
   "source": [
    "#### Example 2: Swapping Two Numbers\n",
    "\n",
    "Using bitwise XOR to swap two numbers without using a temporary variable."
   ]
  },
  {
   "cell_type": "code",
   "execution_count": 11,
   "id": "6160e02e-3bc2-4b08-bd9e-3dc8a505bf94",
   "metadata": {},
   "outputs": [
    {
     "name": "stdout",
     "output_type": "stream",
     "text": [
      "0b11\n",
      "0b101\n"
     ]
    }
   ],
   "source": [
    "a = 0b101  # 5 in decimal\n",
    "b = 0b011  # 3 in decimal\n",
    "\n",
    "a ^= b\n",
    "b ^= a\n",
    "a ^= b\n",
    "\n",
    "print(bin(a))  # Output: 0b11 (3 in decimal)\n",
    "print(bin(b))  # Output: 0b101 (5 in decimal)"
   ]
  },
  {
   "cell_type": "markdown",
   "id": "920e2169-4ffe-44e2-ab09-c3a899e53cb2",
   "metadata": {},
   "source": [
    "#### Example 3: Setting a Specific Bit\n",
    "\n",
    "Using bitwise OR to set a specific bit of a number."
   ]
  },
  {
   "cell_type": "code",
   "execution_count": 12,
   "id": "405729e3-d073-440a-97db-d77a037ac68e",
   "metadata": {},
   "outputs": [
    {
     "name": "stdout",
     "output_type": "stream",
     "text": [
      "0b111\n"
     ]
    }
   ],
   "source": [
    "def set_bit(value, bit):\n",
    "    return value | (1 << bit)\n",
    "\n",
    "value = 0b101  # 5 in decimal\n",
    "bit = 1\n",
    "result = set_bit(value, bit)\n",
    "print(bin(result))  # Output: 0b111 (7 in decimal)"
   ]
  },
  {
   "cell_type": "markdown",
   "id": "c44aa595-51ed-4faa-8d7b-b8f8d48e336f",
   "metadata": {},
   "source": [
    "#### Example 4: Clearing a Specific Bit\n",
    "\n",
    "Using bitwise AND and bitwise NOT to clear a specific bit of a number."
   ]
  },
  {
   "cell_type": "code",
   "execution_count": 13,
   "id": "bac6f515-de22-4350-906b-745bd63a479b",
   "metadata": {},
   "outputs": [
    {
     "name": "stdout",
     "output_type": "stream",
     "text": [
      "0b100\n"
     ]
    }
   ],
   "source": [
    "def clear_bit(value, bit):\n",
    "    return value & ~(1 << bit)\n",
    "\n",
    "value = 0b101  # 5 in decimal\n",
    "bit = 0\n",
    "result = clear_bit(value, bit)\n",
    "print(bin(result))  # Output: 0b100 (4 in decimal)"
   ]
  },
  {
   "cell_type": "markdown",
   "id": "687753b1-7fff-478d-b3dc-c22d3164d085",
   "metadata": {},
   "source": [
    "#### Example 5: Toggling a Specific Bit\n",
    "\n",
    "Using bitwise XOR to toggle a specific bit of a number."
   ]
  },
  {
   "cell_type": "code",
   "execution_count": 14,
   "id": "295dd120-3a1c-4c0b-83f0-78889e29dda8",
   "metadata": {},
   "outputs": [
    {
     "name": "stdout",
     "output_type": "stream",
     "text": [
      "0b100\n",
      "0b101\n"
     ]
    }
   ],
   "source": [
    "def toggle_bit(value, bit):\n",
    "    return value ^ (1 << bit)\n",
    "\n",
    "value = 0b101  # 5 in decimal\n",
    "bit = 0\n",
    "result = toggle_bit(value, bit)\n",
    "print(bin(result))  # Output: 0b100 (4 in decimal)\n",
    "result = toggle_bit(result, bit)\n",
    "print(bin(result))  # Output: 0b101 (5 in decimal)"
   ]
  },
  {
   "cell_type": "markdown",
   "id": "d9136ec6-800e-4848-b69b-1e7542a678ec",
   "metadata": {},
   "source": [
    "---"
   ]
  },
  {
   "cell_type": "markdown",
   "id": "5432707a-2450-4a68-b0dd-37305fa706b2",
   "metadata": {},
   "source": [
    "# THE END"
   ]
  },
  {
   "cell_type": "code",
   "execution_count": null,
   "id": "73438629-6a72-49eb-9390-d20ca3745677",
   "metadata": {},
   "outputs": [],
   "source": []
  }
 ],
 "metadata": {
  "kernelspec": {
   "display_name": "Python 3 (ipykernel)",
   "language": "python",
   "name": "python3"
  },
  "language_info": {
   "codemirror_mode": {
    "name": "ipython",
    "version": 3
   },
   "file_extension": ".py",
   "mimetype": "text/x-python",
   "name": "python",
   "nbconvert_exporter": "python",
   "pygments_lexer": "ipython3",
   "version": "3.12.3"
  }
 },
 "nbformat": 4,
 "nbformat_minor": 5
}
