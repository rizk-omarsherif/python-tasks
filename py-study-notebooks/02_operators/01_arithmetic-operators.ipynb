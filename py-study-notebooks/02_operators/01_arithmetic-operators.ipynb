{
 "cells": [
  {
   "cell_type": "markdown",
   "id": "d7f708d5-8f48-436e-b24f-b775c207153e",
   "metadata": {},
   "source": [
    "# Exercise 1: Arithmetic Operators in Python"
   ]
  },
  {
   "cell_type": "markdown",
   "id": "ff549e73-65dc-493f-8d0b-0644e672cc79",
   "metadata": {},
   "source": [
    "---"
   ]
  },
  {
   "cell_type": "markdown",
   "id": "e5151476-7f3c-44e2-8191-1301c056af74",
   "metadata": {},
   "source": [
    "## Table of Contents\n",
    "\n",
    "1. **Introduction**\n",
    "<p></p>\n",
    "\n",
    "2. **Basic Arithmetic Operators**\n",
    "   - 2.1 Addition (`+`)\n",
    "   - 2.2 Subtraction (`-`)\n",
    "   - 2.3 Multiplication (`*`)\n",
    "   - 2.4 Division (`/`)\n",
    "<p></p>\n",
    "\n",
    "3. **Advanced Arithmetic Operators**\n",
    "   - 3.1 Floor Division (`//`)\n",
    "   - 3.2 Modulus (`%`)\n",
    "   - 3.3 Exponentiation (`**`)\n",
    "<p></p>\n",
    "\n",
    "5. **Order of Operations**\n",
    "<p></p>\n",
    "\n",
    "6. **Examples and Use Cases**\n",
    "<p></p>\n"
   ]
  },
  {
   "cell_type": "markdown",
   "id": "ff9624f8-8c2f-4c02-a3d7-224dc1959fb1",
   "metadata": {},
   "source": [
    "---"
   ]
  },
  {
   "cell_type": "markdown",
   "id": "dba32e86-9f1d-4110-9cb2-6b324b9cc320",
   "metadata": {},
   "source": [
    "### 1- Introduction\n",
    "\n",
    "Arithmetic operators in Python are used to perform mathematical operations such as `addition`, `subtraction`, `multiplication`, and `division`. This guide will cover both basic and advanced arithmetic operators, including their usage with different data types and their order of operations."
   ]
  },
  {
   "cell_type": "markdown",
   "id": "6adc0b81-1f2b-44dc-806d-e9006714704a",
   "metadata": {},
   "source": [
    "---"
   ]
  },
  {
   "cell_type": "markdown",
   "id": "3a636e7b-1274-4aa4-abe0-c6bfda0fb26f",
   "metadata": {},
   "source": [
    "### 2- Basic Arithmetic Operators"
   ]
  },
  {
   "cell_type": "code",
   "execution_count": 5,
   "id": "5d218cc7-0ba3-4a17-875c-15cb81ab4270",
   "metadata": {},
   "outputs": [],
   "source": [
    "a = 5\n",
    "b = 3"
   ]
  },
  {
   "cell_type": "markdown",
   "id": "cf6e6dca-e953-40e5-95aa-ce0307b20bd6",
   "metadata": {},
   "source": [
    "#### 2.1 Addition (`+`)\n",
    "\n",
    "The addition operator adds two numbers."
   ]
  },
  {
   "cell_type": "code",
   "execution_count": 6,
   "id": "c0fe80f5-592c-4a04-ae61-1f91cc594722",
   "metadata": {},
   "outputs": [
    {
     "name": "stdout",
     "output_type": "stream",
     "text": [
      "8\n"
     ]
    }
   ],
   "source": [
    "result = a + b\n",
    "print(result)  # Output: 8"
   ]
  },
  {
   "cell_type": "markdown",
   "id": "1d83552f-a86d-4ce8-a1b0-f588e50abc8e",
   "metadata": {},
   "source": [
    "#### 2.2 Subtraction (`-`)\n",
    "\n",
    "The subtraction operator subtracts the second number from the first."
   ]
  },
  {
   "cell_type": "code",
   "execution_count": 7,
   "id": "7f8c3fef-d3ca-490a-8c04-a1e005324065",
   "metadata": {},
   "outputs": [
    {
     "name": "stdout",
     "output_type": "stream",
     "text": [
      "2\n"
     ]
    }
   ],
   "source": [
    "result = a - b\n",
    "print(result)  # Output: 2"
   ]
  },
  {
   "cell_type": "markdown",
   "id": "442373e7-434d-4fcb-8a67-22d666080638",
   "metadata": {},
   "source": [
    "#### 2.3 Multiplication (`*`)\n",
    "\n",
    "The multiplication operator multiplies two numbers."
   ]
  },
  {
   "cell_type": "code",
   "execution_count": 8,
   "id": "eeec4be2-bff1-4bfe-9eef-e767e1efba1b",
   "metadata": {},
   "outputs": [
    {
     "name": "stdout",
     "output_type": "stream",
     "text": [
      "15\n"
     ]
    }
   ],
   "source": [
    "result = a * b\n",
    "print(result)  # Output: 15"
   ]
  },
  {
   "cell_type": "markdown",
   "id": "2b21da20-2320-475f-8b68-40dcd2f465cc",
   "metadata": {},
   "source": [
    "#### 2.4 Division (`/`)\n",
    "\n",
    "The division operator divides the first number by the second. The result is a float."
   ]
  },
  {
   "cell_type": "code",
   "execution_count": 9,
   "id": "21603971-ac87-48ae-8b4c-75352b77ee8c",
   "metadata": {},
   "outputs": [
    {
     "name": "stdout",
     "output_type": "stream",
     "text": [
      "1.6666666666666667\n"
     ]
    }
   ],
   "source": [
    "result = a / b\n",
    "print(result)  # Output: 1.6666666666666667"
   ]
  },
  {
   "cell_type": "markdown",
   "id": "018a0cd0-b931-428d-a591-dd80c91435b0",
   "metadata": {},
   "source": [
    "---"
   ]
  },
  {
   "cell_type": "markdown",
   "id": "6fb57b58-a631-422e-9410-1208e95a6724",
   "metadata": {},
   "source": [
    "### 3- Advanced Arithmetic Operators"
   ]
  },
  {
   "cell_type": "markdown",
   "id": "438a28ef-2b21-4979-b022-07b23bdec917",
   "metadata": {},
   "source": [
    "#### 3.1 Floor Division (`//`)\n",
    "\n",
    "The floor division operator divides the first number by the second and rounds down to the nearest integer."
   ]
  },
  {
   "cell_type": "code",
   "execution_count": 11,
   "id": "395ec698-7eaa-4ec3-90d7-73ed4a13aaa2",
   "metadata": {},
   "outputs": [
    {
     "name": "stdout",
     "output_type": "stream",
     "text": [
      "1\n"
     ]
    }
   ],
   "source": [
    "result = a // b\n",
    "print(result)  # Output: 1"
   ]
  },
  {
   "cell_type": "markdown",
   "id": "26eb8f9e-215f-4770-a8cb-b74e4766adc8",
   "metadata": {},
   "source": [
    "#### 3.2 Modulus (`%`)\n",
    "\n",
    "The modulus operator returns the remainder when the first number is divided by the second."
   ]
  },
  {
   "cell_type": "code",
   "execution_count": 12,
   "id": "4e1dec87-1d0e-4572-b011-58886fc72440",
   "metadata": {},
   "outputs": [
    {
     "name": "stdout",
     "output_type": "stream",
     "text": [
      "2\n"
     ]
    }
   ],
   "source": [
    "result = a % b\n",
    "print(result)  # Output: 2"
   ]
  },
  {
   "cell_type": "markdown",
   "id": "b7babf8f-f01c-4552-a4b4-6d9dac3504a3",
   "metadata": {},
   "source": [
    "#### 3.3 Exponentiation (`**`)\n",
    "\n",
    "The exponentiation operator raises the first number to the power of the second."
   ]
  },
  {
   "cell_type": "code",
   "execution_count": 13,
   "id": "f2cbe29a-2162-4eb9-be44-7bd6d75bbcb6",
   "metadata": {},
   "outputs": [
    {
     "name": "stdout",
     "output_type": "stream",
     "text": [
      "125\n"
     ]
    }
   ],
   "source": [
    "result = a ** b\n",
    "print(result)  # Output: 125"
   ]
  },
  {
   "cell_type": "markdown",
   "id": "9bfb5574-29c6-49ba-a546-a6d20c776a00",
   "metadata": {},
   "source": [
    "---"
   ]
  },
  {
   "cell_type": "markdown",
   "id": "4cbf13ad-b87c-4cd7-9e1f-8cda91808bef",
   "metadata": {},
   "source": [
    "### 4- Order of Operations"
   ]
  },
  {
   "cell_type": "markdown",
   "id": "8f9fd34e-4210-4bbe-a81e-10ad11a20def",
   "metadata": {},
   "source": [
    "Python follows the standard mathematical order of operations, often remembered by the acronym `PEMDAS`\n",
    "\n",
    "<p></p>\n",
    "\n",
    "**(Parentheses, Exponents, Multiplication and Division, Addition and Subtraction)**"
   ]
  },
  {
   "cell_type": "code",
   "execution_count": 14,
   "id": "5a0ecdef-5e7d-4140-ac34-60a2b7520746",
   "metadata": {},
   "outputs": [
    {
     "name": "stdout",
     "output_type": "stream",
     "text": [
      "11\n",
      "16\n"
     ]
    }
   ],
   "source": [
    "result = 5 + 3 * 2\n",
    "print(result)  # Output: 11\n",
    "\n",
    "result = (5 + 3) * 2\n",
    "print(result)  # Output: 16"
   ]
  },
  {
   "cell_type": "markdown",
   "id": "4319e75b-06bd-43de-a5e1-3c0357df5b50",
   "metadata": {},
   "source": [
    "---"
   ]
  },
  {
   "cell_type": "markdown",
   "id": "f9363542-44d5-4676-aceb-fca99d887eaa",
   "metadata": {},
   "source": [
    "### 5- Examples and Use Cases"
   ]
  },
  {
   "cell_type": "markdown",
   "id": "aab07073-f5e0-4aa5-8fb3-47b94f6ce0ff",
   "metadata": {},
   "source": [
    "#### Example 1: Calculating the Area of a Circle"
   ]
  },
  {
   "cell_type": "code",
   "execution_count": 15,
   "id": "86ba627d-7f73-4108-95f2-978d687ce5a1",
   "metadata": {},
   "outputs": [
    {
     "name": "stdout",
     "output_type": "stream",
     "text": [
      "The area of the circle is: 78.53981633974483\n"
     ]
    }
   ],
   "source": [
    "import math\n",
    "\n",
    "radius = 5\n",
    "area = math.pi * (radius ** 2)\n",
    "print(f\"The area of the circle is: {area}\")  # Output: The area of the circle is: 78.53981633974483"
   ]
  },
  {
   "cell_type": "markdown",
   "id": "a0b05981-88f7-4632-a690-9ce61f535512",
   "metadata": {},
   "source": [
    "#### Example 2: Calculating the Compound Interest"
   ]
  },
  {
   "cell_type": "code",
   "execution_count": 16,
   "id": "89f9d7df-4c47-43d1-b693-73a15dd3d819",
   "metadata": {},
   "outputs": [
    {
     "name": "stdout",
     "output_type": "stream",
     "text": [
      "The compound interest is: 276.2815625000003\n"
     ]
    }
   ],
   "source": [
    "principal = 1000\n",
    "rate = 0.05\n",
    "time = 5\n",
    "\n",
    "amount = principal * ((1 + rate) ** time)\n",
    "interest = amount - principal\n",
    "print(f\"The compound interest is: {interest}\")  # Output: The compound interest is: 276.2815625000003\n"
   ]
  },
  {
   "cell_type": "markdown",
   "id": "bbdc2762-a626-4c8f-b589-b353e5540f6f",
   "metadata": {},
   "source": [
    "#### Example 3: Converting Temperature from Celsius to Fahrenheit"
   ]
  },
  {
   "cell_type": "code",
   "execution_count": 17,
   "id": "4227a501-e6bd-442f-a5ef-a884942149ad",
   "metadata": {},
   "outputs": [
    {
     "name": "stdout",
     "output_type": "stream",
     "text": [
      "The temperature in Fahrenheit is: 77.0\n"
     ]
    }
   ],
   "source": [
    "celsius = 25\n",
    "fahrenheit = (celsius * 9/5) + 32\n",
    "print(f\"The temperature in Fahrenheit is: {fahrenheit}\")  # Output: The temperature in Fahrenheit is: 77.0"
   ]
  },
  {
   "cell_type": "markdown",
   "id": "34a26836-6cf8-4279-a900-e5d477d38947",
   "metadata": {},
   "source": [
    "---"
   ]
  },
  {
   "cell_type": "markdown",
   "id": "7b961a17-1623-49b7-bdec-aa9c7cd2dede",
   "metadata": {},
   "source": [
    "# THE END"
   ]
  },
  {
   "cell_type": "code",
   "execution_count": null,
   "id": "c151857c-b4cb-479d-b33b-8c4a551611e5",
   "metadata": {},
   "outputs": [],
   "source": []
  }
 ],
 "metadata": {
  "kernelspec": {
   "display_name": "Python 3 (ipykernel)",
   "language": "python",
   "name": "python3"
  },
  "language_info": {
   "codemirror_mode": {
    "name": "ipython",
    "version": 3
   },
   "file_extension": ".py",
   "mimetype": "text/x-python",
   "name": "python",
   "nbconvert_exporter": "python",
   "pygments_lexer": "ipython3",
   "version": "3.12.3"
  }
 },
 "nbformat": 4,
 "nbformat_minor": 5
}
