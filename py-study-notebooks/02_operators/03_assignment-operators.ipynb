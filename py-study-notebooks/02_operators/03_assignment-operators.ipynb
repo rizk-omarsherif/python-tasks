{
 "cells": [
  {
   "cell_type": "markdown",
   "id": "4b186fdd-e067-40b3-9047-9780265eb3dd",
   "metadata": {},
   "source": [
    "# Exercise 3: Assignment Operators in Python"
   ]
  },
  {
   "cell_type": "markdown",
   "id": "c1df2771-2662-4309-9866-5f0d8759ef78",
   "metadata": {},
   "source": [
    "## Table of Contents\n",
    "\n",
    "1. **Introduction**\n",
    "<p></p>\n",
    "\n",
    "2. **Basic Assignment Operators**\n",
    "   - 2.1 Simple Assignment (`=`)\n",
    "<p></p>\n",
    "\n",
    "3. **Compound Assignment Operators**\n",
    "   - 3.1 Add and Assign (`+=`)\n",
    "   - 3.2 Subtract and Assign (`-=`)\n",
    "   - 3.3 Multiply and Assign (`*=`)\n",
    "   - 3.4 Divide and Assign (`/=`)\n",
    "   - 3.5 Floor Divide and Assign (`//=`)\n",
    "   - 3.6 Modulus and Assign (`%=`)\n",
    "   - 3.7 Exponentiate and Assign (`**=`)\n",
    "   - 3.8 Bitwise AND and Assign (`&=`)\n",
    "   - 3.9 Bitwise OR and Assign (`|=`)\n",
    "   - 3.10 Bitwise XOR and Assign (`^=`)\n",
    "   - 3.11 Bitwise Left Shift and Assign (`<<=`)\n",
    "   - 3.12 Bitwise Right Shift and Assign (`>>=`)\n",
    "<p></p>\n",
    "\n",
    "4. **Examples and Use Cases**\n",
    "<p></p>"
   ]
  },
  {
   "cell_type": "markdown",
   "id": "4deafb0e-2683-42af-9cb8-12e4f4370719",
   "metadata": {},
   "source": [
    "---"
   ]
  },
  {
   "cell_type": "markdown",
   "id": "31c443fe-92dd-439f-af66-5fb393636858",
   "metadata": {},
   "source": [
    "### 1- Introduction\n",
    "\n",
    "Assignment operators in Python are used to assign values to variables. This guide covers both basic and compound assignment operators, demonstrating how they can be used effectively in your code."
   ]
  },
  {
   "cell_type": "markdown",
   "id": "a2eca092-78ce-401c-98cb-8b52494a584d",
   "metadata": {},
   "source": [
    "---"
   ]
  },
  {
   "cell_type": "markdown",
   "id": "7a35f7a3-064c-4345-a07f-e8239a7da372",
   "metadata": {},
   "source": [
    "### 2- Basic Assignment Operators"
   ]
  },
  {
   "cell_type": "markdown",
   "id": "b830ac5e-0091-471c-9c94-7c144b77269d",
   "metadata": {},
   "source": [
    "#### 2.1 Simple Assignment (`=`)\n",
    "\n",
    "The simple assignment operator assigns the value on its right to the variable on its left."
   ]
  },
  {
   "cell_type": "code",
   "execution_count": 1,
   "id": "e1bcf641-a8da-499d-835e-5cb57e80044d",
   "metadata": {},
   "outputs": [
    {
     "name": "stdout",
     "output_type": "stream",
     "text": [
      "5\n"
     ]
    }
   ],
   "source": [
    "a = 5\n",
    "print(a)  # Output: 5"
   ]
  },
  {
   "cell_type": "markdown",
   "id": "3588662a-6daa-479a-bf43-a3d72ec87028",
   "metadata": {},
   "source": [
    "### 3- Compound Assignment Operators"
   ]
  },
  {
   "cell_type": "markdown",
   "id": "80c8b03f-7a4b-4052-b3e0-f074020a8edf",
   "metadata": {},
   "source": [
    "#### 3.1 Add and Assign (`+=`)\n",
    "\n",
    "The add and assign operator adds the right operand to the left operand and assigns the result to the left operand."
   ]
  },
  {
   "cell_type": "code",
   "execution_count": 2,
   "id": "656b62c7-fa6f-4eb1-befe-b337a65bac85",
   "metadata": {},
   "outputs": [
    {
     "name": "stdout",
     "output_type": "stream",
     "text": [
      "8\n"
     ]
    }
   ],
   "source": [
    "a = 5\n",
    "a += 3\n",
    "print(a)  # Output: 8"
   ]
  },
  {
   "cell_type": "markdown",
   "id": "bb4350f0-4830-436d-a0c1-a7afa3541197",
   "metadata": {},
   "source": [
    "#### 3.2 Subtract and Assign (`-=`)\n",
    "\n",
    "The subtract and assign operator subtracts the right operand from the left operand and assigns the result to the left operand."
   ]
  },
  {
   "cell_type": "code",
   "execution_count": 4,
   "id": "01175b09-ac57-4fed-b8c9-843a4448d167",
   "metadata": {},
   "outputs": [
    {
     "name": "stdout",
     "output_type": "stream",
     "text": [
      "2\n"
     ]
    }
   ],
   "source": [
    "a = 5\n",
    "a -= 3\n",
    "print(a)  # Output: 2"
   ]
  },
  {
   "cell_type": "markdown",
   "id": "88ccdff0-3d46-49bc-983c-138bd95ea22b",
   "metadata": {},
   "source": [
    "#### 3.3 Multiply and Assign (`*=`)\n",
    "\n",
    "The multiply and assign operator multiplies the left operand by the right operand and assigns the result to the left operand."
   ]
  },
  {
   "cell_type": "code",
   "execution_count": 5,
   "id": "85ecb6da-62a9-4a0b-9fa7-07a2db5b8862",
   "metadata": {},
   "outputs": [
    {
     "name": "stdout",
     "output_type": "stream",
     "text": [
      "15\n"
     ]
    }
   ],
   "source": [
    "a = 5\n",
    "a *= 3\n",
    "print(a)  # Output: 15"
   ]
  },
  {
   "cell_type": "markdown",
   "id": "5846d3b5-02f3-4cb1-8f21-fc440cf4ba97",
   "metadata": {},
   "source": [
    "#### 3.4 Divide and Assign (`/=`)\n",
    "\n",
    "The divide and assign operator divides the left operand by the right operand and assigns the result to the left operand."
   ]
  },
  {
   "cell_type": "code",
   "execution_count": 6,
   "id": "f5d786c7-6555-4cad-9642-2beb5b6008b1",
   "metadata": {},
   "outputs": [
    {
     "name": "stdout",
     "output_type": "stream",
     "text": [
      "2.5\n"
     ]
    }
   ],
   "source": [
    "a = 5\n",
    "a /= 2\n",
    "print(a)  # Output: 2.5"
   ]
  },
  {
   "cell_type": "markdown",
   "id": "88aa7aca-281d-4114-9699-7e5a55d0cc37",
   "metadata": {},
   "source": [
    "#### 3.5 Floor Divide and Assign (`//=`)\n",
    "\n",
    "The floor divide and assign operator divides the left operand by the right operand, rounds down to the nearest integer, and assigns the result to the left operand."
   ]
  },
  {
   "cell_type": "code",
   "execution_count": 7,
   "id": "38e231a0-2f1f-40b8-b3d0-22c2e9d26255",
   "metadata": {},
   "outputs": [
    {
     "name": "stdout",
     "output_type": "stream",
     "text": [
      "2\n"
     ]
    }
   ],
   "source": [
    "a = 5\n",
    "a //= 2\n",
    "print(a)  # Output: 2"
   ]
  },
  {
   "cell_type": "markdown",
   "id": "0c7d0ba8-2e9f-4ab6-b455-0dcc015c2002",
   "metadata": {},
   "source": [
    "#### 3.6 Modulus and Assign (`%=`)\n",
    "\n",
    "The modulus and assign operator performs modulus operation (remainder) on the left operand by the right operand and assigns the result to the left operand."
   ]
  },
  {
   "cell_type": "code",
   "execution_count": 8,
   "id": "c78f96d9-9219-438f-a9df-2ccea0b02158",
   "metadata": {},
   "outputs": [
    {
     "name": "stdout",
     "output_type": "stream",
     "text": [
      "1\n"
     ]
    }
   ],
   "source": [
    "a = 5\n",
    "a %= 2\n",
    "print(a)  # Output: 1"
   ]
  },
  {
   "cell_type": "markdown",
   "id": "ecb444fd-6c92-48c9-a8d2-cbef5a335ff8",
   "metadata": {},
   "source": [
    "#### 3.7 Exponentiate and Assign (`**=`)\n",
    "\n",
    "The exponentiate and assign operator raises the left operand to the power of the right operand and assigns the result to the left operand."
   ]
  },
  {
   "cell_type": "code",
   "execution_count": 9,
   "id": "905ed356-b5be-43d4-8755-c94493ff890c",
   "metadata": {},
   "outputs": [
    {
     "name": "stdout",
     "output_type": "stream",
     "text": [
      "125\n"
     ]
    }
   ],
   "source": [
    "a = 5\n",
    "a **= 3\n",
    "print(a)  # Output: 125"
   ]
  },
  {
   "cell_type": "markdown",
   "id": "65eb9a2a-340c-4644-acda-7412089464ed",
   "metadata": {},
   "source": [
    "#### 3.8 Bitwise AND and Assign (`&=`)\n",
    "\n",
    "The bitwise AND and assign operator performs bitwise AND operation on the left operand and the right operand and assigns the result to the left operand."
   ]
  },
  {
   "cell_type": "code",
   "execution_count": 10,
   "id": "b7c9e7b5-b8c5-4671-8e8c-5238e56d0dae",
   "metadata": {},
   "outputs": [
    {
     "name": "stdout",
     "output_type": "stream",
     "text": [
      "1\n"
     ]
    }
   ],
   "source": [
    "a = 5  # 101 in binary\n",
    "a &= 3  # 011 in binary\n",
    "print(a)  # Output: 1 (001 in binary)"
   ]
  },
  {
   "cell_type": "markdown",
   "id": "3e61c8de-57f5-402f-8e70-b61547c89640",
   "metadata": {},
   "source": [
    "#### 3.9 Bitwise OR and Assign (`|=`)\n",
    "\n",
    "The bitwise OR and assign operator performs bitwise OR operation on the left operand and the right operand and assigns the result to the left operand."
   ]
  },
  {
   "cell_type": "code",
   "execution_count": 11,
   "id": "0b7459d0-cf8e-4b9f-8960-2eb7bfeb5efa",
   "metadata": {},
   "outputs": [
    {
     "name": "stdout",
     "output_type": "stream",
     "text": [
      "7\n"
     ]
    }
   ],
   "source": [
    "a = 5  # 101 in binary\n",
    "a |= 3  # 011 in binary\n",
    "print(a)  # Output: 7 (111 in binary)"
   ]
  },
  {
   "cell_type": "markdown",
   "id": "fcdfbb6d-7b92-402b-94b2-898c8874b02a",
   "metadata": {},
   "source": [
    "#### 3.10 Bitwise XOR and Assign (`^=`)\n",
    "\n",
    "The bitwise XOR and assign operator performs bitwise XOR operation on the left operand and the right operand and assigns the result to the left operand."
   ]
  },
  {
   "cell_type": "code",
   "execution_count": 12,
   "id": "506ca11d-775e-4e61-800b-bd5e7667b5e5",
   "metadata": {},
   "outputs": [
    {
     "name": "stdout",
     "output_type": "stream",
     "text": [
      "6\n"
     ]
    }
   ],
   "source": [
    "a = 5  # 101 in binary\n",
    "a ^= 3  # 011 in binary\n",
    "print(a)  # Output: 6 (110 in binary)"
   ]
  },
  {
   "cell_type": "markdown",
   "id": "410ce07f-8b3f-4411-961b-fd89534bd055",
   "metadata": {},
   "source": [
    "#### 3.11 Bitwise Left Shift and Assign (`<<=`)\n",
    "\n",
    "The bitwise left shift and assign operator shifts the bits of the left operand to the left by the number of positions specified by the right operand and assigns the result to the left operand."
   ]
  },
  {
   "cell_type": "code",
   "execution_count": 13,
   "id": "d9f51bc9-7def-47b3-9ccb-c0aa803026b2",
   "metadata": {},
   "outputs": [
    {
     "name": "stdout",
     "output_type": "stream",
     "text": [
      "10\n"
     ]
    }
   ],
   "source": [
    "a = 5  # 101 in binary\n",
    "a <<= 1\n",
    "print(a)  # Output: 10 (1010 in binary)"
   ]
  },
  {
   "cell_type": "markdown",
   "id": "96ab9c8b-3b4f-48eb-9e9c-14aca41ae6b0",
   "metadata": {},
   "source": [
    "#### 3.12 Bitwise Right Shift and Assign (`>>=`)\n",
    "\n",
    "The bitwise right shift and assign operator shifts the bits of the left operand to the right by the number of positions specified by the right operand and assigns the result to the left operand."
   ]
  },
  {
   "cell_type": "code",
   "execution_count": 14,
   "id": "b0e87bb4-90a6-4d99-a698-6c4caf1391d6",
   "metadata": {},
   "outputs": [
    {
     "name": "stdout",
     "output_type": "stream",
     "text": [
      "2\n"
     ]
    }
   ],
   "source": [
    "a = 5  # 101 in binary\n",
    "a >>= 1\n",
    "print(a)  # Output: 2 (10 in binary)"
   ]
  },
  {
   "cell_type": "markdown",
   "id": "6f826a59-2452-472c-868c-f5d8bb2fc5aa",
   "metadata": {},
   "source": [
    "---"
   ]
  },
  {
   "cell_type": "markdown",
   "id": "c959fdff-b3e3-4863-bbbd-f050b7732f46",
   "metadata": {},
   "source": [
    "### 4- Examples and Use Cases"
   ]
  },
  {
   "cell_type": "markdown",
   "id": "f4da3b35-a861-4d9c-93e2-55397b74ca7c",
   "metadata": {},
   "source": [
    "#### Example 1: Updating Inventory Counts\n",
    "\n",
    "Using compound assignment operators can simplify code for updating inventory counts."
   ]
  },
  {
   "cell_type": "code",
   "execution_count": 15,
   "id": "334fc283-d359-4771-9bd0-1183bb9972cf",
   "metadata": {},
   "outputs": [
    {
     "name": "stdout",
     "output_type": "stream",
     "text": [
      "{'apples': 15, 'oranges': 8}\n"
     ]
    }
   ],
   "source": [
    "inventory = {\"apples\": 10, \"oranges\": 5}\n",
    "\n",
    "# Adding to inventory\n",
    "inventory[\"apples\"] += 5\n",
    "inventory[\"oranges\"] += 3\n",
    "\n",
    "print(inventory)  # Output: {'apples': 15, 'oranges': 8}"
   ]
  },
  {
   "cell_type": "markdown",
   "id": "6df8b55f-4f19-4ae5-ba29-546560e8fb2c",
   "metadata": {},
   "source": [
    "#### Example 2: Cumulative Sum\n",
    "\n",
    "Using add and assign operator to calculate cumulative sum in a list."
   ]
  },
  {
   "cell_type": "code",
   "execution_count": 16,
   "id": "6140fcb9-8606-4738-9244-a028228182d5",
   "metadata": {},
   "outputs": [
    {
     "name": "stdout",
     "output_type": "stream",
     "text": [
      "15\n"
     ]
    }
   ],
   "source": [
    "numbers = [1, 2, 3, 4, 5]\n",
    "cumulative_sum = 0\n",
    "\n",
    "for num in numbers:\n",
    "    cumulative_sum += num\n",
    "\n",
    "print(cumulative_sum)  # Output: 15"
   ]
  },
  {
   "cell_type": "markdown",
   "id": "ce7f2560-8332-4067-8fe2-50166405cd62",
   "metadata": {},
   "source": [
    "#### Example 3: Compound Interest Calculation\n",
    "\n",
    "Using exponentiate and assign operator to calculate compound interest."
   ]
  },
  {
   "cell_type": "code",
   "execution_count": 17,
   "id": "e95c7ed1-e74b-441c-9327-5e0712294b76",
   "metadata": {},
   "outputs": [
    {
     "name": "stdout",
     "output_type": "stream",
     "text": [
      "The amount after 5 years is: 1276.2815625000003\n"
     ]
    }
   ],
   "source": [
    "principal = 1000\n",
    "rate = 0.05\n",
    "time = 5\n",
    "\n",
    "principal *= (1 + rate) ** time\n",
    "print(f\"The amount after {time} years is: {principal}\")  # Output: The amount after 5 years is: 1276.2815625000003"
   ]
  },
  {
   "cell_type": "markdown",
   "id": "f9ee17f9-72e1-4310-8386-09e51e1490c7",
   "metadata": {},
   "source": [
    "---"
   ]
  },
  {
   "cell_type": "markdown",
   "id": "b47cd684-8850-48d8-aaa1-b3db9eba441f",
   "metadata": {},
   "source": [
    "# THE END"
   ]
  }
 ],
 "metadata": {
  "kernelspec": {
   "display_name": "Python 3 (ipykernel)",
   "language": "python",
   "name": "python3"
  },
  "language_info": {
   "codemirror_mode": {
    "name": "ipython",
    "version": 3
   },
   "file_extension": ".py",
   "mimetype": "text/x-python",
   "name": "python",
   "nbconvert_exporter": "python",
   "pygments_lexer": "ipython3",
   "version": "3.12.3"
  }
 },
 "nbformat": 4,
 "nbformat_minor": 5
}
