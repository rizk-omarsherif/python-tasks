{
 "cells": [
  {
   "cell_type": "markdown",
   "id": "4aaf1c47-3f32-4609-a226-147994b7534c",
   "metadata": {},
   "source": [
    "# Exercise 5: Logical Operators in Python"
   ]
  },
  {
   "cell_type": "markdown",
   "id": "bd872ac8-448e-4eb9-8e9e-b10d86758000",
   "metadata": {},
   "source": [
    "## Table of Contents\n",
    "\n",
    "1. **Introduction**\n",
    "<p></p>\n",
    "\n",
    "2. **Logical Operators**\n",
    "   - 2.1 `and`\n",
    "   - 2.2 `or`\n",
    "   - 2.3 `not`\n",
    "<p></p>"
   ]
  },
  {
   "cell_type": "markdown",
   "id": "4eed0616-8aec-4c6b-8dcf-ec6131623d97",
   "metadata": {},
   "source": [
    "---"
   ]
  },
  {
   "cell_type": "markdown",
   "id": "b0ae2071-058a-4966-b77b-9e5e5e96e5c8",
   "metadata": {},
   "source": [
    "### 1- Introduction\n",
    "\n",
    "Logical operators in Python are used to combine multiple conditions. They return `True` or `False` based on the evaluation of the conditions. This guide covers the basic logical operators and how to use them in `if` conditions with examples and use cases."
   ]
  },
  {
   "cell_type": "markdown",
   "id": "b1d87062-c55b-4081-9d3d-77c68095fcab",
   "metadata": {},
   "source": [
    "---"
   ]
  },
  {
   "cell_type": "markdown",
   "id": "13a78316-cdd9-4830-8076-8110a313715a",
   "metadata": {},
   "source": [
    "### 2- Logical Operators"
   ]
  },
  {
   "cell_type": "markdown",
   "id": "9902c68f-b16f-4de2-b9e6-901fbde949af",
   "metadata": {},
   "source": [
    "#### 2.1 `and`\n",
    "\n",
    "The `and` operator returns `True` if both conditions are `True`. Otherwise, it returns `False`."
   ]
  },
  {
   "cell_type": "code",
   "execution_count": 2,
   "id": "d0495bb4-2b40-46bb-97bf-a1f6e659301b",
   "metadata": {},
   "outputs": [
    {
     "name": "stdout",
     "output_type": "stream",
     "text": [
      "False\n"
     ]
    }
   ],
   "source": [
    "a = True\n",
    "b = False\n",
    "print(a and b)  # Output: False"
   ]
  },
  {
   "cell_type": "markdown",
   "id": "ac734157-c5c0-4252-99e0-3317e796a10a",
   "metadata": {},
   "source": [
    "#### 2.2 `or`\n",
    "\n",
    "The `or` operator returns `True` if at least one of the conditions is `True`. Otherwise, it returns `False`."
   ]
  },
  {
   "cell_type": "code",
   "execution_count": 3,
   "id": "ff6982b8-1d8e-494b-bb29-1a6ff5fd5d0e",
   "metadata": {},
   "outputs": [
    {
     "name": "stdout",
     "output_type": "stream",
     "text": [
      "True\n"
     ]
    }
   ],
   "source": [
    "a = True\n",
    "b = False\n",
    "print(a or b)  # Output: True"
   ]
  },
  {
   "cell_type": "markdown",
   "id": "c2844294-5f77-4654-aee2-e1b11ddacaff",
   "metadata": {},
   "source": [
    "#### 2.3 `not`\n",
    "\n",
    "The `not` operator returns `True` if the condition is `False`, and `False` if the condition is `True`."
   ]
  },
  {
   "cell_type": "code",
   "execution_count": 5,
   "id": "1befd650-7ab8-4c46-aae1-cef189c39bd8",
   "metadata": {},
   "outputs": [
    {
     "name": "stdout",
     "output_type": "stream",
     "text": [
      "False\n"
     ]
    }
   ],
   "source": [
    "a = True\n",
    "print(not a)  # Output: False"
   ]
  },
  {
   "cell_type": "markdown",
   "id": "6c920146-83ee-4925-abbd-6251cb4bff4c",
   "metadata": {},
   "source": [
    "---"
   ]
  },
  {
   "cell_type": "markdown",
   "id": "414e2e22-7e70-47a3-8e82-53df790ad971",
   "metadata": {},
   "source": [
    "# THE END"
   ]
  },
  {
   "cell_type": "code",
   "execution_count": null,
   "id": "a473f47d-f4a6-42ed-a01e-a56585ae38cd",
   "metadata": {},
   "outputs": [],
   "source": []
  }
 ],
 "metadata": {
  "kernelspec": {
   "display_name": "Python 3 (ipykernel)",
   "language": "python",
   "name": "python3"
  },
  "language_info": {
   "codemirror_mode": {
    "name": "ipython",
    "version": 3
   },
   "file_extension": ".py",
   "mimetype": "text/x-python",
   "name": "python",
   "nbconvert_exporter": "python",
   "pygments_lexer": "ipython3",
   "version": "3.12.3"
  }
 },
 "nbformat": 4,
 "nbformat_minor": 5
}
