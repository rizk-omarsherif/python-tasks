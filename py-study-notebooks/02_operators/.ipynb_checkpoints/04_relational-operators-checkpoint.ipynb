{
 "cells": [
  {
   "cell_type": "markdown",
   "id": "cebe6156-668e-4cee-9311-e21efe9ac0fe",
   "metadata": {},
   "source": [
    "# Exercise 4: Relational Operators in Python"
   ]
  },
  {
   "cell_type": "markdown",
   "id": "b62b21f3-fe88-437a-a8b7-2b96dda93ce5",
   "metadata": {},
   "source": [
    "## Table of Contents\n",
    "\n",
    "1. **Introduction**\n",
    "<p></p>\n",
    "\n",
    "2. **Comparison (Relational) Operators**\n",
    "   - 2.1 Equal to (`==`)\n",
    "   - 2.2 Not equal to (`!=`)\n",
    "   - 2.3 Greater than (`>`)\n",
    "   - 2.4 Less than (`<`)\n",
    "   - 2.5 Greater than or equal to (`>=`)\n",
    "   - 2.6 Less than or equal to (`<=`)\n",
    "<p></p>"
   ]
  },
  {
   "cell_type": "markdown",
   "id": "eee9f2b2-1eb7-45af-aab1-9d4fdaed33de",
   "metadata": {},
   "source": [
    "---"
   ]
  },
  {
   "cell_type": "markdown",
   "id": "04c885fc-c856-440a-b9a0-e89d00168224",
   "metadata": {},
   "source": [
    "### 1- Introduction\n",
    "\n",
    "Comparison (relational) operators in Python are used to compare two values. They return `True` or `False` based on the condition."
   ]
  },
  {
   "cell_type": "markdown",
   "id": "b4e47a3a-7289-49c7-9e10-a1945f6acf04",
   "metadata": {},
   "source": [
    "---"
   ]
  },
  {
   "cell_type": "markdown",
   "id": "58a31828-1037-4ae0-a5e9-64534e0e6e93",
   "metadata": {},
   "source": [
    "### 2- Comparison (Relational) Operators"
   ]
  },
  {
   "cell_type": "markdown",
   "id": "b16bcffd-24c3-4ea9-b723-fc75d2f6f3d0",
   "metadata": {},
   "source": [
    "## 2.1 Equal to (`==`)\n",
    "\n",
    "The `==` operator checks if two values are equal. It returns `True` if they are equal and `False` otherwise."
   ]
  },
  {
   "cell_type": "code",
   "execution_count": 3,
   "id": "3fcd80eb-1394-4dfd-b1aa-374c814dbcbc",
   "metadata": {},
   "outputs": [
    {
     "name": "stdout",
     "output_type": "stream",
     "text": [
      "False\n"
     ]
    }
   ],
   "source": [
    "a = 5\n",
    "b = 3\n",
    "print(a == b)  # Output: False"
   ]
  },
  {
   "cell_type": "markdown",
   "id": "8837e2a9-184b-4bfb-8ae6-0b6e39309172",
   "metadata": {},
   "source": [
    "#### 2.2 Not equal to (`!=`)\n",
    "\n",
    "The `!=` operator checks if two values are not equal. It returns True if they are not equal and False otherwise."
   ]
  },
  {
   "cell_type": "code",
   "execution_count": 4,
   "id": "c742eec2-b750-43be-8c9d-cbf39899ac25",
   "metadata": {},
   "outputs": [
    {
     "name": "stdout",
     "output_type": "stream",
     "text": [
      "True\n"
     ]
    }
   ],
   "source": [
    "a = 5\n",
    "b = 3\n",
    "print(a != b)  # Output: True"
   ]
  },
  {
   "cell_type": "markdown",
   "id": "b9101e6a-96d3-4619-b620-31618de98ff6",
   "metadata": {},
   "source": [
    "#### 2.3 Greater than (`>`)\n",
    "\n",
    "The `>` operator checks if the value on the left is greater than the value on the right. It returns `True` if it is, and `False` otherwise."
   ]
  },
  {
   "cell_type": "code",
   "execution_count": 5,
   "id": "d2b235b2-81e9-4dc5-9daf-32b003f4c8ad",
   "metadata": {},
   "outputs": [
    {
     "name": "stdout",
     "output_type": "stream",
     "text": [
      "True\n"
     ]
    }
   ],
   "source": [
    "a = 5\n",
    "b = 3\n",
    "print(a > b)  # Output: True"
   ]
  },
  {
   "cell_type": "markdown",
   "id": "42ae33e8-75ad-4b99-a223-3b7e1fd851c7",
   "metadata": {},
   "source": [
    "#### 2.4 Less than (`<`)\n",
    "\n",
    "The `<` operator checks if the value on the left is less than the value on the right. It returns `True` if it is, and `False` otherwise."
   ]
  },
  {
   "cell_type": "code",
   "execution_count": 6,
   "id": "068ccfd5-58cc-4476-a52b-f9b299205d44",
   "metadata": {},
   "outputs": [
    {
     "name": "stdout",
     "output_type": "stream",
     "text": [
      "False\n"
     ]
    }
   ],
   "source": [
    "a = 5\n",
    "b = 3\n",
    "print(a < b)  # Output: False"
   ]
  },
  {
   "cell_type": "markdown",
   "id": "1e36d944-2d30-4c32-b473-3ca54ba166bc",
   "metadata": {},
   "source": [
    "#### 2.5 Greater than or equal to (`>=`)\n",
    "\n",
    "The `>=` operator checks if the value on the left is greater than or equal to the value on the right. It returns `True` if it is, and `False` otherwise."
   ]
  },
  {
   "cell_type": "code",
   "execution_count": 7,
   "id": "a32f6986-9c6c-474e-8320-a88f6f17023e",
   "metadata": {},
   "outputs": [
    {
     "name": "stdout",
     "output_type": "stream",
     "text": [
      "True\n"
     ]
    }
   ],
   "source": [
    "a = 5\n",
    "b = 3\n",
    "print(a >= b)  # Output: True"
   ]
  },
  {
   "cell_type": "markdown",
   "id": "c35ffa1b-0df1-47f4-b9eb-3d00515796b7",
   "metadata": {},
   "source": [
    "#### 2.6 Less than or equal to (`<=`)\n",
    "\n",
    "The `<=` operator checks if the value on the left is less than or equal to the value on the right. It returns `True` if it is, and `False` otherwise."
   ]
  },
  {
   "cell_type": "code",
   "execution_count": 8,
   "id": "5b804df5-705a-4f36-8bcf-2b7eb1569a76",
   "metadata": {},
   "outputs": [
    {
     "name": "stdout",
     "output_type": "stream",
     "text": [
      "False\n"
     ]
    }
   ],
   "source": [
    "a = 5\n",
    "b = 3\n",
    "print(a <= b)  # Output: False"
   ]
  },
  {
   "cell_type": "markdown",
   "id": "dc1b66ff-3947-4f1b-875c-d36443b0e051",
   "metadata": {},
   "source": [
    "---"
   ]
  },
  {
   "cell_type": "markdown",
   "id": "633eddfd-8579-41bd-845e-b1873b3ebaa6",
   "metadata": {},
   "source": [
    "# THE END"
   ]
  }
 ],
 "metadata": {
  "kernelspec": {
   "display_name": "Python 3 (ipykernel)",
   "language": "python",
   "name": "python3"
  },
  "language_info": {
   "codemirror_mode": {
    "name": "ipython",
    "version": 3
   },
   "file_extension": ".py",
   "mimetype": "text/x-python",
   "name": "python",
   "nbconvert_exporter": "python",
   "pygments_lexer": "ipython3",
   "version": "3.12.3"
  }
 },
 "nbformat": 4,
 "nbformat_minor": 5
}
