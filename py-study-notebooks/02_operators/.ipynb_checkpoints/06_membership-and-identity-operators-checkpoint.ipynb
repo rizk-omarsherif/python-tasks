{
 "cells": [
  {
   "cell_type": "code",
   "execution_count": null,
   "id": "5661d590-945c-4ed8-86d5-480ced3f2045",
   "metadata": {},
   "outputs": [],
   "source": []
  },
  {
   "cell_type": "markdown",
   "id": "998c1462-e4cd-401e-a36f-6d8485580047",
   "metadata": {},
   "source": [
    "## Table of Contents\n",
    "\n",
    "1. **Introduction**\n",
    "<p></p>\n",
    "\n",
    "2. **Membership Operators**\n",
    "   - 2.1 `in`\n",
    "   - 2.2 `not in`\n",
    "<p></p>\n",
    "\n",
    "3. **Identity Operators**\n",
    "   - 3.1 `is`\n",
    "   - 3.2 `is not`\n",
    "<p></p>\n",
    "\n",
    "4. **Examples and Use Cases**\n",
    "<p></p>"
   ]
  },
  {
   "cell_type": "markdown",
   "id": "19aab74f-b72b-4acf-b21a-28d806c3f67d",
   "metadata": {},
   "source": [
    "---"
   ]
  },
  {
   "cell_type": "markdown",
   "id": "2b7d0eef-8d47-420e-96e3-7f5317d6c48d",
   "metadata": {},
   "source": [
    "### 1- Introduction\n",
    "\n",
    "Membership operators and identity operators in Python are used to test for membership in a sequence (such as `strings`, `lists`, or `tuples`) and to compare the memory locations of two objects, respectively. This guide covers the basic membership and identity operators with examples and use cases."
   ]
  },
  {
   "cell_type": "markdown",
   "id": "00b31806-8aed-45c3-9114-a5a60e3dd8dc",
   "metadata": {},
   "source": [
    "---"
   ]
  },
  {
   "cell_type": "markdown",
   "id": "5fd6a017-d774-4c49-aa3c-a418703eee18",
   "metadata": {},
   "source": [
    "\n",
    "### 2- Membership Operators\n",
    "\n",
    "#### 2.1 `in`\n",
    "\n",
    "The `in` operator checks if a value is present in a sequence. It returns `True` if the value is found, and `False` otherwise."
   ]
  },
  {
   "cell_type": "code",
   "execution_count": 3,
   "id": "8ca2c9e4-e3ee-482e-898b-04a13a219414",
   "metadata": {},
   "outputs": [
    {
     "name": "stdout",
     "output_type": "stream",
     "text": [
      "True\n",
      "True\n"
     ]
    }
   ],
   "source": [
    "lst = [1, 2, 3, 4, 5]\n",
    "print(3 in lst)  # Output: True\n",
    "\n",
    "s = \"hello\"\n",
    "print(\"h\" in s)  # Output: True"
   ]
  },
  {
   "cell_type": "markdown",
   "id": "74c6887f-975c-418c-babe-254c23c35f31",
   "metadata": {},
   "source": [
    "#### 2.2 `not in`\n",
    "\n",
    "The `not in` operator checks if a value is not present in a sequence. It returns `True` if the value is not found, and `False` otherwise."
   ]
  },
  {
   "cell_type": "code",
   "execution_count": 4,
   "id": "09b7f07d-23e3-4e57-a4d4-839a6ff0afb5",
   "metadata": {},
   "outputs": [
    {
     "name": "stdout",
     "output_type": "stream",
     "text": [
      "True\n",
      "True\n"
     ]
    }
   ],
   "source": [
    "lst = [1, 2, 3, 4, 5]\n",
    "print(6 not in lst)  # Output: True\n",
    "\n",
    "s = \"hello\"\n",
    "print(\"z\" not in s)  # Output: True"
   ]
  },
  {
   "cell_type": "markdown",
   "id": "2af7fbdb-aae0-4de5-a8eb-9a08dbf10016",
   "metadata": {},
   "source": [
    "---"
   ]
  },
  {
   "cell_type": "markdown",
   "id": "c2b386ef-5c1f-4e57-80ef-4c6319a340e7",
   "metadata": {},
   "source": [
    "### 3- Identity Operators"
   ]
  },
  {
   "cell_type": "markdown",
   "id": "934d0e2a-1950-459c-9df7-9b5f85cfc54d",
   "metadata": {},
   "source": [
    "#### 3.1 `is`\n",
    "\n",
    "The `is` operator checks if two variables point to the same object in memory. It returns `True` if they do, and `False` otherwise."
   ]
  },
  {
   "cell_type": "code",
   "execution_count": 7,
   "id": "4ee4d43b-0dac-4713-8746-22e53dc069ee",
   "metadata": {},
   "outputs": [
    {
     "name": "stdout",
     "output_type": "stream",
     "text": [
      "True\n",
      "False\n"
     ]
    }
   ],
   "source": [
    "a = [1, 2, 3]\n",
    "b = a\n",
    "c = [1, 2, 3]\n",
    "\n",
    "print(a is b)  # Output: True\n",
    "print(a is c)  # Output: False"
   ]
  },
  {
   "cell_type": "markdown",
   "id": "b57e5162-0d98-4079-850a-aae29526d36c",
   "metadata": {},
   "source": [
    "#### 3.2 `is not`\n",
    "\n",
    "The `is not` operator checks if two variables do not point to the same object in memory. It returns `True` if they do not, and `False` otherwise."
   ]
  },
  {
   "cell_type": "code",
   "execution_count": 8,
   "id": "76c55bb7-c16b-4992-8831-36ce777d9b73",
   "metadata": {},
   "outputs": [
    {
     "name": "stdout",
     "output_type": "stream",
     "text": [
      "False\n",
      "True\n"
     ]
    }
   ],
   "source": [
    "a = [1, 2, 3]\n",
    "b = a\n",
    "c = [1, 2, 3]\n",
    "\n",
    "print(a is not b)  # Output: False\n",
    "print(a is not c)  # Output: True"
   ]
  },
  {
   "cell_type": "markdown",
   "id": "430f548d-6f24-4781-9189-d542215dc3ac",
   "metadata": {},
   "source": [
    "---"
   ]
  },
  {
   "cell_type": "markdown",
   "id": "ed50403f-f8f0-4461-ad56-6c59269eed5e",
   "metadata": {},
   "source": [
    "### 4- Examples and Use Cases"
   ]
  },
  {
   "cell_type": "markdown",
   "id": "7e3c8e44-8d3b-4a28-94fb-3809d36b2ed0",
   "metadata": {},
   "source": [
    "#### Example 1: Checking Membership `in` a List\n",
    "\n",
    "Using the `in` operator to check if an element exists in a list."
   ]
  },
  {
   "cell_type": "code",
   "execution_count": 10,
   "id": "9a9dafcc-3942-4fe1-bad5-cb664f368645",
   "metadata": {},
   "outputs": [
    {
     "name": "stdout",
     "output_type": "stream",
     "text": [
      "True\n",
      "False\n"
     ]
    }
   ],
   "source": [
    "fruits = [\"apple\", \"banana\", \"cherry\"]\n",
    "print(\"banana\" in fruits)  # Output: True\n",
    "print(\"grape\" in fruits)  # Output: False"
   ]
  },
  {
   "cell_type": "markdown",
   "id": "204e5da0-db3d-44d5-97f1-1ea8ff1a512f",
   "metadata": {},
   "source": [
    "#### Example 2: Using `not in` with Strings\n",
    "\n",
    "Using the `not in` operator to check if a substring is not present in a string."
   ]
  },
  {
   "cell_type": "code",
   "execution_count": 11,
   "id": "72a57b07-8f4d-4619-9b08-324cb6d8a6da",
   "metadata": {},
   "outputs": [
    {
     "name": "stdout",
     "output_type": "stream",
     "text": [
      "True\n",
      "False\n"
     ]
    }
   ],
   "source": [
    "sentence = \"The quick brown fox\"\n",
    "print(\"cat\" not in sentence)  # Output: True\n",
    "print(\"fox\" not in sentence)  # Output: False"
   ]
  },
  {
   "cell_type": "markdown",
   "id": "72173936-d0d3-4bbc-9fad-8e0f2188df25",
   "metadata": {},
   "source": [
    "#### Example 3: Comparing Object Identity with `is`\n",
    "\n",
    "Using the `is` operator to check if two variables refer to the same object."
   ]
  },
  {
   "cell_type": "code",
   "execution_count": 12,
   "id": "751bdcc7-c152-4d1b-8c80-575136a21f13",
   "metadata": {},
   "outputs": [
    {
     "name": "stdout",
     "output_type": "stream",
     "text": [
      "True\n",
      "False\n"
     ]
    }
   ],
   "source": [
    "x = [1, 2, 3]\n",
    "y = x\n",
    "z = [1, 2, 3]\n",
    "\n",
    "print(x is y)  # Output: True\n",
    "print(x is z)  # Output: False"
   ]
  },
  {
   "cell_type": "markdown",
   "id": "bc8b2a75-6748-4c02-a3bc-87e17aa1fec0",
   "metadata": {},
   "source": [
    "#### Example 4: Ensuring Different Objects with `is not`\n",
    "\n",
    "Using the `is not` operator to ensure two variables refer to different objects."
   ]
  },
  {
   "cell_type": "code",
   "execution_count": 15,
   "id": "9dba10d7-41c7-40c3-9cd9-b514b26e344a",
   "metadata": {},
   "outputs": [
    {
     "name": "stdout",
     "output_type": "stream",
     "text": [
      "True\n",
      "False\n"
     ]
    }
   ],
   "source": [
    "a = {\"key\": \"value\"}\n",
    "b = {\"key\": \"value\"}\n",
    "\n",
    "print(a is not b)  # Output: True\n",
    "\n",
    "c = a\n",
    "print(a is not c)  # Output: False"
   ]
  },
  {
   "cell_type": "markdown",
   "id": "89f8d53f-f632-4708-a377-f556ac33ef6d",
   "metadata": {},
   "source": [
    "---"
   ]
  },
  {
   "cell_type": "markdown",
   "id": "d4ec79cc-b764-47b9-bfad-f116c93a9eb8",
   "metadata": {},
   "source": [
    "# THE END"
   ]
  },
  {
   "cell_type": "code",
   "execution_count": null,
   "id": "457a7e7c-388e-409e-a792-2a11a4f9d9e2",
   "metadata": {},
   "outputs": [],
   "source": []
  }
 ],
 "metadata": {
  "kernelspec": {
   "display_name": "Python 3 (ipykernel)",
   "language": "python",
   "name": "python3"
  },
  "language_info": {
   "codemirror_mode": {
    "name": "ipython",
    "version": 3
   },
   "file_extension": ".py",
   "mimetype": "text/x-python",
   "name": "python",
   "nbconvert_exporter": "python",
   "pygments_lexer": "ipython3",
   "version": "3.12.3"
  }
 },
 "nbformat": 4,
 "nbformat_minor": 5
}
